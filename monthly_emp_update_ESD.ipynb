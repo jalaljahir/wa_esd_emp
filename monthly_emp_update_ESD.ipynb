{
 "cells": [
  {
   "cell_type": "code",
   "execution_count": 71,
   "metadata": {
    "collapsed": true
   },
   "outputs": [],
   "source": [
    "#Import the modules/packages\n",
    "\n",
    "import os\n",
    "import pandas as pd\n",
    "from pandas import ExcelWriter\n",
    "from openpyxl import load_workbook\n",
    "import urllib\n",
    "import datetime\n",
    "import time\n",
    "\n",
    "#***\"ATTN: Please seletct the first three letter of the month of interest for monthly data assembly:\"***\n",
    "active_month = \"Apr\"\n",
    "\n",
    "#url for seasonally adjusted data:\n",
    "\n",
    "esd_sa_url = \"https://fortress.wa.gov/esd/employmentdata/docs/economic-reports/wa-historical-employment-seasonally-adjusted.xlsx\"\n",
    "\n",
    "#define the excel file name:\n",
    "\n",
    "sa_filename = esd_sa_url[-49:-5]+\"_\"+time.strftime(\"%m%d%Y\")+esd_sa_url[-5:]"
   ]
  },
  {
   "cell_type": "code",
   "execution_count": 33,
   "metadata": {
    "collapsed": true
   },
   "outputs": [],
   "source": []
  },
  {
   "cell_type": "code",
   "execution_count": 73,
   "metadata": {
    "collapsed": false,
    "scrolled": true
   },
   "outputs": [
    {
     "data": {
      "text/plain": [
       "'05242016'"
      ]
     },
     "execution_count": 73,
     "metadata": {},
     "output_type": "execute_result"
    }
   ],
   "source": [
    "time.strftime(\"%m%d%Y\")"
   ]
  },
  {
   "cell_type": "code",
   "execution_count": 74,
   "metadata": {
    "collapsed": false,
    "scrolled": false
   },
   "outputs": [
    {
     "name": "stdout",
     "output_type": "stream",
     "text": [
      "hello Jalal Jahir what\n",
      "hello Jalal Jahir is a GREAT Guy\n",
      " 0.0\n",
      "0.0\n"
     ]
    }
   ],
   "source": [
    "start = time.time()\n",
    "print \"hello Jalal Jahir what\"\n",
    "print \"hello Jalal Jahir is a GREAT Guy\"\n",
    "end = time.time()\n",
    "processtime = end - start\n",
    "print \"{0: .3}\".format(processtime)\n",
    "print float(processtime)"
   ]
  },
  {
   "cell_type": "code",
   "execution_count": 75,
   "metadata": {
    "collapsed": false,
    "scrolled": false
   },
   "outputs": [
    {
     "name": "stdout",
     "output_type": "stream",
     "text": [
      "J:\\Staff\\Jalal\\Monthly_Emp_Update_Scratch\\wa_esd_emp\n"
     ]
    }
   ],
   "source": [
    "print os.getcwd()"
   ]
  },
  {
   "cell_type": "code",
   "execution_count": 76,
   "metadata": {
    "collapsed": false
   },
   "outputs": [],
   "source": [
    "current_dir = os.getcwd()"
   ]
  },
  {
   "cell_type": "code",
   "execution_count": 126,
   "metadata": {
    "collapsed": false
   },
   "outputs": [
    {
     "ename": "SyntaxError",
     "evalue": "invalid syntax (<ipython-input-126-c2baec72ce2a>, line 5)",
     "output_type": "error",
     "traceback": [
      "\u001b[1;36m  File \u001b[1;32m\"<ipython-input-126-c2baec72ce2a>\"\u001b[1;36m, line \u001b[1;32m5\u001b[0m\n\u001b[1;33m    esdfile.retrieve(esd_sa_url, os.getcwd()+\"/\"+ \"emp_data_\"+ time.strftime(\"%m%d%Y\") + \"/\" sa_filename)\u001b[0m\n\u001b[1;37m                                                                                                       ^\u001b[0m\n\u001b[1;31mSyntaxError\u001b[0m\u001b[1;31m:\u001b[0m invalid syntax\n"
     ]
    }
   ],
   "source": [
    "#download the data\n",
    "def download_esd_sa():\n",
    "    start = time.time()\n",
    "    esdfile = urllib.URLopener()\n",
    "    esdfile.retrieve(esd_sa_url, os.getcwd()+\"/\"+ sa_filename)\n",
    "    end = time.time()\n",
    "    processtime = end - start\n",
    "    print \"Data download completed. Download Time: \" + \"{0: .3}\".format(processtime) + \" Sec.\"\n",
    "    "
   ]
  },
  {
   "cell_type": "code",
   "execution_count": 110,
   "metadata": {
    "collapsed": false
   },
   "outputs": [
    {
     "name": "stdout",
     "output_type": "stream",
     "text": [
      "Data download completed. Download Time:  1.12 Sec.\n"
     ]
    }
   ],
   "source": [
    "download_esd_sa()"
   ]
  },
  {
   "cell_type": "code",
   "execution_count": 13,
   "metadata": {
    "collapsed": true
   },
   "outputs": [
    {
     "name": "stdout",
     "output_type": "stream",
     "text": [
      "Help on module urllib:\n",
      "\n",
      "NAME\n",
      "    urllib - Open an arbitrary URL.\n",
      "\n",
      "FILE\n",
      "    c:\\users\\jalal\\anaconda2\\lib\\urllib.py\n",
      "\n",
      "DESCRIPTION\n",
      "    See the following document for more info on URLs:\n",
      "    \"Names and Addresses, URIs, URLs, URNs, URCs\", at\n",
      "    http://www.w3.org/pub/WWW/Addressing/Overview.html\n",
      "    \n",
      "    See also the HTTP spec (from which the error codes are derived):\n",
      "    \"HTTP - Hypertext Transfer Protocol\", at\n",
      "    http://www.w3.org/pub/WWW/Protocols/\n",
      "    \n",
      "    Related standards and specs:\n",
      "    - RFC1808: the \"relative URL\" spec. (authoritative status)\n",
      "    - RFC1738 - the \"URL standard\". (authoritative status)\n",
      "    - RFC1630 - the \"URI spec\". (informational status)\n",
      "    \n",
      "    The object returned by URLopener().open(file) will differ per\n",
      "    protocol.  All you know is that is has methods read(), readline(),\n",
      "    readlines(), fileno(), close() and info().  The read*(), fileno()\n",
      "    and close() methods work like those of open files.\n",
      "    The info() method returns a mimetools.Message object which can be\n",
      "    used to query various info about the object, if available.\n",
      "    (mimetools.Message objects are queried with the getheader() method.)\n",
      "\n",
      "CLASSES\n",
      "    URLopener\n",
      "        FancyURLopener\n",
      "    \n",
      "    class FancyURLopener(URLopener)\n",
      "     |  Derived class with handlers for errors we can handle (perhaps).\n",
      "     |  \n",
      "     |  Methods defined here:\n",
      "     |  \n",
      "     |  __init__(self, *args, **kwargs)\n",
      "     |  \n",
      "     |  get_user_passwd(self, host, realm, clear_cache=0)\n",
      "     |  \n",
      "     |  http_error_301(self, url, fp, errcode, errmsg, headers, data=None)\n",
      "     |      Error 301 -- also relocated (permanently).\n",
      "     |  \n",
      "     |  http_error_302(self, url, fp, errcode, errmsg, headers, data=None)\n",
      "     |      Error 302 -- relocated (temporarily).\n",
      "     |  \n",
      "     |  http_error_303(self, url, fp, errcode, errmsg, headers, data=None)\n",
      "     |      Error 303 -- also relocated (essentially identical to 302).\n",
      "     |  \n",
      "     |  http_error_307(self, url, fp, errcode, errmsg, headers, data=None)\n",
      "     |      Error 307 -- relocated, but turn POST into error.\n",
      "     |  \n",
      "     |  http_error_401(self, url, fp, errcode, errmsg, headers, data=None)\n",
      "     |      Error 401 -- authentication required.\n",
      "     |      This function supports Basic authentication only.\n",
      "     |  \n",
      "     |  http_error_407(self, url, fp, errcode, errmsg, headers, data=None)\n",
      "     |      Error 407 -- proxy authentication required.\n",
      "     |      This function supports Basic authentication only.\n",
      "     |  \n",
      "     |  http_error_default(self, url, fp, errcode, errmsg, headers)\n",
      "     |      Default error handling -- don't raise an exception.\n",
      "     |  \n",
      "     |  prompt_user_passwd(self, host, realm)\n",
      "     |      Override this in a GUI environment!\n",
      "     |  \n",
      "     |  redirect_internal(self, url, fp, errcode, errmsg, headers, data)\n",
      "     |  \n",
      "     |  retry_http_basic_auth(self, url, realm, data=None)\n",
      "     |  \n",
      "     |  retry_https_basic_auth(self, url, realm, data=None)\n",
      "     |  \n",
      "     |  retry_proxy_http_basic_auth(self, url, realm, data=None)\n",
      "     |  \n",
      "     |  retry_proxy_https_basic_auth(self, url, realm, data=None)\n",
      "     |  \n",
      "     |  ----------------------------------------------------------------------\n",
      "     |  Methods inherited from URLopener:\n",
      "     |  \n",
      "     |  __del__(self)\n",
      "     |  \n",
      "     |  addheader(self, *args)\n",
      "     |      Add a header to be used by the HTTP interface only\n",
      "     |      e.g. u.addheader('Accept', 'sound/basic')\n",
      "     |  \n",
      "     |  cleanup(self)\n",
      "     |  \n",
      "     |  close(self)\n",
      "     |  \n",
      "     |  http_error(self, url, fp, errcode, errmsg, headers, data=None)\n",
      "     |      Handle http errors.\n",
      "     |      Derived class can override this, or provide specific handlers\n",
      "     |      named http_error_DDD where DDD is the 3-digit error code.\n",
      "     |  \n",
      "     |  open(self, fullurl, data=None)\n",
      "     |      Use URLopener().open(file) instead of open(file, 'r').\n",
      "     |  \n",
      "     |  open_data(self, url, data=None)\n",
      "     |      Use \"data\" URL.\n",
      "     |  \n",
      "     |  open_file(self, url)\n",
      "     |      Use local file or FTP depending on form of URL.\n",
      "     |  \n",
      "     |  open_ftp(self, url)\n",
      "     |      Use FTP protocol.\n",
      "     |  \n",
      "     |  open_http(self, url, data=None)\n",
      "     |      Use HTTP protocol.\n",
      "     |  \n",
      "     |  open_https(self, url, data=None)\n",
      "     |      Use HTTPS protocol.\n",
      "     |  \n",
      "     |  open_local_file(self, url)\n",
      "     |      Use local file.\n",
      "     |  \n",
      "     |  open_unknown(self, fullurl, data=None)\n",
      "     |      Overridable interface to open unknown URL type.\n",
      "     |  \n",
      "     |  open_unknown_proxy(self, proxy, fullurl, data=None)\n",
      "     |      Overridable interface to open unknown URL type.\n",
      "     |  \n",
      "     |  retrieve(self, url, filename=None, reporthook=None, data=None)\n",
      "     |      retrieve(url) returns (filename, headers) for a local object\n",
      "     |      or (tempfilename, headers) for a remote object.\n",
      "     |  \n",
      "     |  ----------------------------------------------------------------------\n",
      "     |  Data and other attributes inherited from URLopener:\n",
      "     |  \n",
      "     |  version = 'Python-urllib/1.17'\n",
      "    \n",
      "    class URLopener\n",
      "     |  Class to open URLs.\n",
      "     |  This is a class rather than just a subroutine because we may need\n",
      "     |  more than one set of global protocol-specific options.\n",
      "     |  Note -- this is a base class for those who don't want the\n",
      "     |  automatic handling of errors type 302 (relocated) and 401\n",
      "     |  (authorization needed).\n",
      "     |  \n",
      "     |  Methods defined here:\n",
      "     |  \n",
      "     |  __del__(self)\n",
      "     |  \n",
      "     |  __init__(self, proxies=None, context=None, **x509)\n",
      "     |      # Constructor\n",
      "     |  \n",
      "     |  addheader(self, *args)\n",
      "     |      Add a header to be used by the HTTP interface only\n",
      "     |      e.g. u.addheader('Accept', 'sound/basic')\n",
      "     |  \n",
      "     |  cleanup(self)\n",
      "     |  \n",
      "     |  close(self)\n",
      "     |  \n",
      "     |  http_error(self, url, fp, errcode, errmsg, headers, data=None)\n",
      "     |      Handle http errors.\n",
      "     |      Derived class can override this, or provide specific handlers\n",
      "     |      named http_error_DDD where DDD is the 3-digit error code.\n",
      "     |  \n",
      "     |  http_error_default(self, url, fp, errcode, errmsg, headers)\n",
      "     |      Default error handler: close the connection and raise IOError.\n",
      "     |  \n",
      "     |  open(self, fullurl, data=None)\n",
      "     |      Use URLopener().open(file) instead of open(file, 'r').\n",
      "     |  \n",
      "     |  open_data(self, url, data=None)\n",
      "     |      Use \"data\" URL.\n",
      "     |  \n",
      "     |  open_file(self, url)\n",
      "     |      Use local file or FTP depending on form of URL.\n",
      "     |  \n",
      "     |  open_ftp(self, url)\n",
      "     |      Use FTP protocol.\n",
      "     |  \n",
      "     |  open_http(self, url, data=None)\n",
      "     |      Use HTTP protocol.\n",
      "     |  \n",
      "     |  open_https(self, url, data=None)\n",
      "     |      Use HTTPS protocol.\n",
      "     |  \n",
      "     |  open_local_file(self, url)\n",
      "     |      Use local file.\n",
      "     |  \n",
      "     |  open_unknown(self, fullurl, data=None)\n",
      "     |      Overridable interface to open unknown URL type.\n",
      "     |  \n",
      "     |  open_unknown_proxy(self, proxy, fullurl, data=None)\n",
      "     |      Overridable interface to open unknown URL type.\n",
      "     |  \n",
      "     |  retrieve(self, url, filename=None, reporthook=None, data=None)\n",
      "     |      retrieve(url) returns (filename, headers) for a local object\n",
      "     |      or (tempfilename, headers) for a remote object.\n",
      "     |  \n",
      "     |  ----------------------------------------------------------------------\n",
      "     |  Data and other attributes defined here:\n",
      "     |  \n",
      "     |  version = 'Python-urllib/1.17'\n",
      "\n",
      "FUNCTIONS\n",
      "    basejoin = urljoin(base, url, allow_fragments=True)\n",
      "        Join a base URL and a possibly relative URL to form an absolute\n",
      "        interpretation of the latter.\n",
      "    \n",
      "    ftperrors()\n",
      "        Return the set of errors raised by the FTP class.\n",
      "    \n",
      "    getproxies()\n",
      "        Return a dictionary of scheme -> proxy server URL mappings.\n",
      "        \n",
      "        Returns settings gathered from the environment, if specified,\n",
      "        or the registry.\n",
      "    \n",
      "    localhost()\n",
      "        Return the IP address of the magic hostname 'localhost'.\n",
      "    \n",
      "    pathname2url(p)\n",
      "        OS-specific conversion from a file system path to a relative URL\n",
      "        of the 'file' scheme; not recommended for general use.\n",
      "    \n",
      "    quote(s, safe='/')\n",
      "        quote('abc def') -> 'abc%20def'\n",
      "        \n",
      "        Each part of a URL, e.g. the path info, the query, etc., has a\n",
      "        different set of reserved characters that must be quoted.\n",
      "        \n",
      "        RFC 2396 Uniform Resource Identifiers (URI): Generic Syntax lists\n",
      "        the following reserved characters.\n",
      "        \n",
      "        reserved    = \";\" | \"/\" | \"?\" | \":\" | \"@\" | \"&\" | \"=\" | \"+\" |\n",
      "                      \"$\" | \",\"\n",
      "        \n",
      "        Each of these characters is reserved in some component of a URL,\n",
      "        but not necessarily in all of them.\n",
      "        \n",
      "        By default, the quote function is intended for quoting the path\n",
      "        section of a URL.  Thus, it will not encode '/'.  This character\n",
      "        is reserved, but in typical usage the quote function is being\n",
      "        called on a path where the existing slash characters are used as\n",
      "        reserved characters.\n",
      "    \n",
      "    quote_plus(s, safe='')\n",
      "        Quote the query fragment of a URL; replacing ' ' with '+'\n",
      "    \n",
      "    splitattr(url)\n",
      "        splitattr('/path;attr1=value1;attr2=value2;...') ->\n",
      "        '/path', ['attr1=value1', 'attr2=value2', ...].\n",
      "    \n",
      "    splithost(url)\n",
      "        splithost('//host[:port]/path') --> 'host[:port]', '/path'.\n",
      "    \n",
      "    splitnport(host, defport=-1)\n",
      "        Split host and port, returning numeric port.\n",
      "        Return given default port if no ':' found; defaults to -1.\n",
      "        Return numerical port if a valid number are found after ':'.\n",
      "        Return None if ':' but not a valid number.\n",
      "    \n",
      "    splitpasswd(user)\n",
      "        splitpasswd('user:passwd') -> 'user', 'passwd'.\n",
      "    \n",
      "    splitport(host)\n",
      "        splitport('host:port') --> 'host', 'port'.\n",
      "    \n",
      "    splitquery(url)\n",
      "        splitquery('/path?query') --> '/path', 'query'.\n",
      "    \n",
      "    splittag(url)\n",
      "        splittag('/path#tag') --> '/path', 'tag'.\n",
      "    \n",
      "    splittype(url)\n",
      "        splittype('type:opaquestring') --> 'type', 'opaquestring'.\n",
      "    \n",
      "    splituser(host)\n",
      "        splituser('user[:passwd]@host[:port]') --> 'user[:passwd]', 'host[:port]'.\n",
      "    \n",
      "    splitvalue(attr)\n",
      "        splitvalue('attr=value') --> 'attr', 'value'.\n",
      "    \n",
      "    thishost()\n",
      "        Return the IP address of the current host.\n",
      "    \n",
      "    unquote(s)\n",
      "        unquote('abc%20def') -> 'abc def'.\n",
      "    \n",
      "    unquote_plus(s)\n",
      "        unquote('%7e/abc+def') -> '~/abc def'\n",
      "    \n",
      "    unwrap(url)\n",
      "        unwrap('<URL:type://host/path>') --> 'type://host/path'.\n",
      "    \n",
      "    url2pathname(url)\n",
      "        OS-specific conversion from a relative URL of the 'file' scheme\n",
      "        to a file system path; not recommended for general use.\n",
      "    \n",
      "    urlcleanup()\n",
      "    \n",
      "    urlencode(query, doseq=0)\n",
      "        Encode a sequence of two-element tuples or dictionary into a URL query string.\n",
      "        \n",
      "        If any values in the query arg are sequences and doseq is true, each\n",
      "        sequence element is converted to a separate parameter.\n",
      "        \n",
      "        If the query arg is a sequence of two-element tuples, the order of the\n",
      "        parameters in the output will match the order of parameters in the\n",
      "        input.\n",
      "    \n",
      "    urlopen(url, data=None, proxies=None, context=None)\n",
      "        Create a file-like object for the specified URL to read from.\n",
      "    \n",
      "    urlretrieve(url, filename=None, reporthook=None, data=None, context=None)\n",
      "\n",
      "DATA\n",
      "    __all__ = ['urlopen', 'URLopener', 'FancyURLopener', 'urlretrieve', 'u...\n",
      "    __version__ = '1.17'\n",
      "\n",
      "VERSION\n",
      "    1.17\n",
      "\n",
      "\n"
     ]
    }
   ],
   "source": [
    "help (urllib)"
   ]
  },
  {
   "cell_type": "code",
   "execution_count": 9,
   "metadata": {
    "collapsed": false,
    "scrolled": true
   },
   "outputs": [],
   "source": []
  },
  {
   "cell_type": "code",
   "execution_count": 73,
   "metadata": {
    "collapsed": false
   },
   "outputs": [],
   "source": []
  },
  {
   "cell_type": "code",
   "execution_count": 111,
   "metadata": {
    "collapsed": false
   },
   "outputs": [
    {
     "name": "stdout",
     "output_type": "stream",
     "text": [
      "List of worksheets to be included in the analysis: \n",
      "1. Bremerton MSA\n",
      "2. Seattle MSA\n",
      "3. Tacoma MSA\n",
      "Total 3 out of 12 worksheets from the excel file include data for the PSRC region.\n"
     ]
    }
   ],
   "source": [
    "# Check the number of worksheet in the .xlsx file & list the name of the worksheets\n",
    "#included in the analysis\n",
    "\n",
    "def check_worksheet():\n",
    "    esd_sa_file = pd.ExcelFile(os.getcwd()+\"/\"+ sa_filename)\n",
    "    #get the list of worksheets from the excelfile\n",
    "    esd_sa_ws_master = {sheet_name: esd_sa_file.parse(sheet_name) \n",
    "              for sheet_name in esd_sa_file.sheet_names}\n",
    "\n",
    "    a_list = []\n",
    "    count = 0\n",
    "    count_total = 0\n",
    "    for i in esd_sa_ws_master:\n",
    "        if i == \"Seattle MSA\":\n",
    "            a_list.append(i)\n",
    "            count = count+1\n",
    "            count_total = count_total+1\n",
    "        elif i == \"Bremerton MSA\":\n",
    "            a_list.append(i)\n",
    "            count = count+1\n",
    "            count_total = count_total+1\n",
    "        elif i == \"Tacoma MSA\":\n",
    "            a_list.append(i)\n",
    "            count = count+1\n",
    "            count_total = count_total+1\n",
    "        else:\n",
    "            count_total = count_total+1\n",
    "\n",
    "\n",
    "    print \"List of worksheets to be included in the analysis: \"\n",
    "\n",
    "    count_ws = 0\n",
    "    for x in sorted(a_list):\n",
    "        count_ws = count_ws+1 \n",
    "        print str(count_ws)+\". \"+ x\n",
    "\n",
    "    print \"Total \"+str(count)+\" \"+\"out of \"+ str(count_total)+ \" worksheets from the excel file include data for the PSRC region.\"\n",
    "\n",
    "check_worksheet()"
   ]
  },
  {
   "cell_type": "code",
   "execution_count": 94,
   "metadata": {
    "collapsed": false
   },
   "outputs": [],
   "source": [
    "## EXAMPLE: Read the worksheet into dataframe from a excel file:\n",
    "\n",
    "#esd_sa_file = pd.ExcelFile(os.getcwd()+\"/\"+ sa_filename)\n",
    "#df_sa_kin_sno = esd_sa_file.parse(\"Seattle MSA\", header =1).head()"
   ]
  },
  {
   "cell_type": "code",
   "execution_count": 5,
   "metadata": {
    "collapsed": false
   },
   "outputs": [],
   "source": [
    "#read the required worksheets into dataframes\n",
    "\n",
    "df_sa_kin_sno = pd.read_excel(os.getcwd()+\"/\"+ sa_filename, sheetname=\"Seattle MSA\", header = 1, index_col=[1])\n",
    "df_sa_kit = pd.read_excel(os.getcwd()+\"/\"+ sa_filename, sheetname=\"Bremerton MSA\", header = 1, index_col=[1])\n",
    "df_sa_pie = pd.read_excel(os.getcwd()+\"/\"+ sa_filename, sheetname=\"Tacoma MSA\", header = 1, index_col=[1])\n"
   ]
  },
  {
   "cell_type": "code",
   "execution_count": 183,
   "metadata": {
    "collapsed": false
   },
   "outputs": [
    {
     "data": {
      "text/plain": [
       "pandas.core.frame.DataFrame"
      ]
     },
     "execution_count": 183,
     "metadata": {},
     "output_type": "execute_result"
    }
   ],
   "source": [
    "type(df_sa_pie)"
   ]
  },
  {
   "cell_type": "code",
   "execution_count": 182,
   "metadata": {
    "collapsed": false
   },
   "outputs": [
    {
     "data": {
      "text/plain": [
       "(315, 11)"
      ]
     },
     "execution_count": 182,
     "metadata": {},
     "output_type": "execute_result"
    }
   ],
   "source": [
    "df_sa_pie.shape"
   ]
  },
  {
   "cell_type": "code",
   "execution_count": 185,
   "metadata": {
    "collapsed": true
   },
   "outputs": [
    {
     "data": {
      "text/plain": [
       "id\n",
       "year                      int64\n",
       "month                    object\n",
       "Pierce: Total NonFarm     int64\n",
       "Pierce: Consruction       int64\n",
       "Pierce: FIRE              int64\n",
       "Pierce: Manufacturing     int64\n",
       "Pierce: Retail            int64\n",
       "Pierce: Service           int64\n",
       "Pierce: WTU               int64\n",
       "Pierce: Government        int64\n",
       "Pierce: Education         int64\n",
       "dtype: object"
      ]
     },
     "execution_count": 185,
     "metadata": {},
     "output_type": "execute_result"
    }
   ],
   "source": [
    "df_sa_pie.dtypes"
   ]
  },
  {
   "cell_type": "code",
   "execution_count": 188,
   "metadata": {
    "collapsed": true
   },
   "outputs": [
    {
     "data": {
      "text/plain": [
       "['year',\n",
       " 'month',\n",
       " 'Pierce: Total NonFarm',\n",
       " 'Pierce: Consruction',\n",
       " 'Pierce: FIRE',\n",
       " 'Pierce: Manufacturing',\n",
       " 'Pierce: Retail',\n",
       " 'Pierce: Service',\n",
       " 'Pierce: WTU',\n",
       " 'Pierce: Government',\n",
       " 'Pierce: Education']"
      ]
     },
     "execution_count": 188,
     "metadata": {},
     "output_type": "execute_result"
    }
   ],
   "source": [
    "df_sa_pie.columns.tolist()"
   ]
  },
  {
   "cell_type": "code",
   "execution_count": 119,
   "metadata": {
    "collapsed": false
   },
   "outputs": [
    {
     "data": {
      "text/plain": [
       "[]"
      ]
     },
     "execution_count": 119,
     "metadata": {},
     "output_type": "execute_result"
    }
   ],
   "source": [
    "df_sa_kin_sno_main"
   ]
  },
  {
   "cell_type": "code",
   "execution_count": 175,
   "metadata": {
    "collapsed": false
   },
   "outputs": [],
   "source": [
    "#initial process of King and Snohomish County data:\n",
    "\n",
    "def sa_kin_sno():\n",
    "    #read the required worksheets into dataframes\n",
    "    df_sa_kin_sno = pd.read_excel(os.getcwd()+\"/\"+ sa_filename, sheetname=\"Seattle MSA\", header = 1, index_col=[1])\n",
    "\n",
    "    #transpose the dataframe\n",
    "    df_sa_kin_sno = df_sa_kin_sno.transpose()\n",
    "\n",
    "    #transposing caused the date column to be the index column, so\n",
    "    #extracting the date information to another column named \"date_stamp\"\n",
    "\n",
    "    df_sa_kin_sno['date_stamp'] = df_sa_kin_sno.index\n",
    "\n",
    "    #deleting the first data row (not the header) containing NAICS info \n",
    "    #entirely for formatting purposes \n",
    "\n",
    "    df_sa_kin_sno = df_sa_kin_sno.ix[1:]\n",
    "\n",
    "    #resetting the index of the dataframe\n",
    "    #as we already copied the date info into another column, nothing to worry\n",
    "\n",
    "    df_sa_kin_sno = df_sa_kin_sno.reset_index(drop =True)\n",
    "\n",
    "    #renaming the index colum from \"NAICS Industy\" to \"id\" \n",
    "\n",
    "    df_sa_kin_sno.columns.names = [\"id\"]\n",
    "\n",
    "    #get a column for year and one for month (note the foramting for month)\n",
    "    df_sa_kin_sno[\"year\"] = df_sa_kin_sno[\"date_stamp\"].dt.year\n",
    "    df_sa_kin_sno[\"month\"] = df_sa_kin_sno[\"date_stamp\"].dt.strftime(\"%b\")\n",
    "\n",
    "    #get the month column to string (not essential)\n",
    "    df_sa_kin_sno[\"month\"] = df_sa_kin_sno[\"month\"].astype(\"str\")\n",
    "\n",
    "\n",
    "#define sectors for King and Snohomish Counties:\n",
    "\n",
    "\n",
    "    #get the list of column names, any of the options below works just fine\n",
    "    # list(df_sa_kin_sno) or list(df_sa_kin_sno.columns.values) works too\n",
    "    kin_sno_list = df_sa_kin_sno.columns.values.tolist()\n",
    "\n",
    "\n",
    "    #define PSRC sectors by adding columns for each of the eight sectors and total nonfarm jobs:\n",
    "    df_sa_kin_sno[\"King & Snohomish: Total NonFarm\"] = df_sa_kin_sno[\"Total Nonfarm\"] \n",
    "    df_sa_kin_sno[\"King & Snohomish: Consruction\"] = df_sa_kin_sno[kin_sno_list[3]] + df_sa_kin_sno[kin_sno_list[4]]\n",
    "    df_sa_kin_sno[\"King & Snohomish: FIRE\"] = df_sa_kin_sno[kin_sno_list[33]]\n",
    "    df_sa_kin_sno[\"King & Snohomish: Manufacturing\"] = df_sa_kin_sno[kin_sno_list[8]]\n",
    "    df_sa_kin_sno[\"King & Snohomish: Retail\"] = df_sa_kin_sno[kin_sno_list[20]]\n",
    "    df_sa_kin_sno[\"King & Snohomish: Service\"] = df_sa_kin_sno[kin_sno_list[17]] - df_sa_kin_sno[kin_sno_list[18]] - df_sa_kin_sno[kin_sno_list[33]] - df_sa_kin_sno[kin_sno_list[62]]                                                     \n",
    "    df_sa_kin_sno[\"King & Snohomish: WTU\"] = df_sa_kin_sno[kin_sno_list[18]] - df_sa_kin_sno[kin_sno_list[20]]\n",
    "    df_sa_kin_sno[\"King & Snohomish: Government\"] = df_sa_kin_sno[kin_sno_list[62]] - df_sa_kin_sno[kin_sno_list[65]] - df_sa_kin_sno[kin_sno_list[67]]\n",
    "    df_sa_kin_sno[\"King & Snohomish: Education\"] = df_sa_kin_sno[kin_sno_list[65]] + df_sa_kin_sno[kin_sno_list[67]]\n",
    "\n",
    "    #delete columns that we don't need anymore (all except the year, month and columns created for sectors)\n",
    "    #df_sa_kin_sno = df_sa_kin_sno.drop(df_sa_kin_sno.columns[range(69)], axis = 1) works for this operation too!\n",
    "    df_sa_kin_sno = df_sa_kin_sno.drop(df_sa_kin_sno.columns[:69], axis = 1)\n",
    "\n",
    "    #ATTENTION: \"\"\"just for this iteration, won't need for future runs\"\"\", deleting the row that contains Apr16 info for Seattle MSA\n",
    "    #df_sa_kin_sno = df_sa_kin_sno.drop(df_sa_kin_sno.index[[315]])\n",
    "\n",
    "    #putting in a check-point in place to make sure the sector columns add up to the total jobs:\n",
    "    #df_sa_kit[\"Kitsap: Total NonFarm\"].isin(df_sa_kit[kit_col_list[3:]].sum(axis=1)).all() == True.... works too for this step.\n",
    "    \n",
    "    \n",
    "\n",
    "    if df_sa_kin_sno[\"King & Snohomish: Total NonFarm\"].isin(df_sa_kin_sno.ix[:,3:].sum(axis=1)).all() == True:\n",
    "        print \"Checked: King & Snohomish Counties - All industry sectors adds up to total NonFarm jobs...\"\n",
    "    else:\n",
    "        print \"ERROR!!\"\n",
    "    return df_sa_kin_sno\n"
   ]
  },
  {
   "cell_type": "code",
   "execution_count": 176,
   "metadata": {
    "collapsed": false
   },
   "outputs": [
    {
     "name": "stdout",
     "output_type": "stream",
     "text": [
      "Checked: King & Snohomish Counties - All industry sectors adds up to total NonFarm jobs...\n"
     ]
    }
   ],
   "source": [
    "df_sa_kin_sno = sa_kin_sno()\n",
    "\n"
   ]
  },
  {
   "cell_type": "code",
   "execution_count": 177,
   "metadata": {
    "collapsed": false
   },
   "outputs": [
    {
     "data": {
      "text/html": [
       "<div>\n",
       "<table border=\"1\" class=\"dataframe\">\n",
       "  <thead>\n",
       "    <tr style=\"text-align: right;\">\n",
       "      <th>id</th>\n",
       "      <th>year</th>\n",
       "      <th>month</th>\n",
       "      <th>King &amp; Snohomish: Total NonFarm</th>\n",
       "      <th>King &amp; Snohomish: Consruction</th>\n",
       "      <th>King &amp; Snohomish: FIRE</th>\n",
       "      <th>King &amp; Snohomish: Manufacturing</th>\n",
       "      <th>King &amp; Snohomish: Retail</th>\n",
       "      <th>King &amp; Snohomish: Service</th>\n",
       "      <th>King &amp; Snohomish: WTU</th>\n",
       "      <th>King &amp; Snohomish: Government</th>\n",
       "      <th>King &amp; Snohomish: Education</th>\n",
       "    </tr>\n",
       "  </thead>\n",
       "  <tbody>\n",
       "    <tr>\n",
       "      <th>311</th>\n",
       "      <td>2015</td>\n",
       "      <td>Dec</td>\n",
       "      <td>1614000</td>\n",
       "      <td>89400</td>\n",
       "      <td>82900</td>\n",
       "      <td>170100</td>\n",
       "      <td>169700</td>\n",
       "      <td>759800</td>\n",
       "      <td>127200</td>\n",
       "      <td>110600</td>\n",
       "      <td>104300</td>\n",
       "    </tr>\n",
       "    <tr>\n",
       "      <th>312</th>\n",
       "      <td>2016</td>\n",
       "      <td>Jan</td>\n",
       "      <td>1619100</td>\n",
       "      <td>89800</td>\n",
       "      <td>84300</td>\n",
       "      <td>168900</td>\n",
       "      <td>173500</td>\n",
       "      <td>761900</td>\n",
       "      <td>127700</td>\n",
       "      <td>110400</td>\n",
       "      <td>102600</td>\n",
       "    </tr>\n",
       "    <tr>\n",
       "      <th>313</th>\n",
       "      <td>2016</td>\n",
       "      <td>Feb</td>\n",
       "      <td>1627000</td>\n",
       "      <td>91700</td>\n",
       "      <td>84000</td>\n",
       "      <td>167800</td>\n",
       "      <td>174300</td>\n",
       "      <td>766700</td>\n",
       "      <td>127500</td>\n",
       "      <td>110900</td>\n",
       "      <td>104100</td>\n",
       "    </tr>\n",
       "    <tr>\n",
       "      <th>314</th>\n",
       "      <td>2016</td>\n",
       "      <td>Mar</td>\n",
       "      <td>1629200</td>\n",
       "      <td>92500</td>\n",
       "      <td>84300</td>\n",
       "      <td>167600</td>\n",
       "      <td>173800</td>\n",
       "      <td>765400</td>\n",
       "      <td>129300</td>\n",
       "      <td>112000</td>\n",
       "      <td>104300</td>\n",
       "    </tr>\n",
       "    <tr>\n",
       "      <th>315</th>\n",
       "      <td>2016</td>\n",
       "      <td>Apr</td>\n",
       "      <td>1634100</td>\n",
       "      <td>91900</td>\n",
       "      <td>84700</td>\n",
       "      <td>167600</td>\n",
       "      <td>174900</td>\n",
       "      <td>769400</td>\n",
       "      <td>129100</td>\n",
       "      <td>112300</td>\n",
       "      <td>104200</td>\n",
       "    </tr>\n",
       "  </tbody>\n",
       "</table>\n",
       "</div>"
      ],
      "text/plain": [
       "id   year month  King & Snohomish: Total NonFarm  \\\n",
       "311  2015   Dec                          1614000   \n",
       "312  2016   Jan                          1619100   \n",
       "313  2016   Feb                          1627000   \n",
       "314  2016   Mar                          1629200   \n",
       "315  2016   Apr                          1634100   \n",
       "\n",
       "id   King & Snohomish: Consruction  King & Snohomish: FIRE  \\\n",
       "311                          89400                   82900   \n",
       "312                          89800                   84300   \n",
       "313                          91700                   84000   \n",
       "314                          92500                   84300   \n",
       "315                          91900                   84700   \n",
       "\n",
       "id   King & Snohomish: Manufacturing  King & Snohomish: Retail  \\\n",
       "311                           170100                    169700   \n",
       "312                           168900                    173500   \n",
       "313                           167800                    174300   \n",
       "314                           167600                    173800   \n",
       "315                           167600                    174900   \n",
       "\n",
       "id   King & Snohomish: Service  King & Snohomish: WTU  \\\n",
       "311                     759800                 127200   \n",
       "312                     761900                 127700   \n",
       "313                     766700                 127500   \n",
       "314                     765400                 129300   \n",
       "315                     769400                 129100   \n",
       "\n",
       "id   King & Snohomish: Government  King & Snohomish: Education  \n",
       "311                        110600                       104300  \n",
       "312                        110400                       102600  \n",
       "313                        110900                       104100  \n",
       "314                        112000                       104300  \n",
       "315                        112300                       104200  "
      ]
     },
     "execution_count": 177,
     "metadata": {},
     "output_type": "execute_result"
    }
   ],
   "source": [
    "df_sa_kin_sno.tail()"
   ]
  },
  {
   "cell_type": "code",
   "execution_count": 132,
   "metadata": {
    "collapsed": false,
    "scrolled": true
   },
   "outputs": [],
   "source": [
    "def sa_kit():\n",
    "    df_sa_kit = pd.read_excel(os.getcwd()+\"/\"+ sa_filename, sheetname=\"Bremerton MSA\", header = 1, index_col=[1])\n",
    "    df_sa_kit = df_sa_kit.transpose()\n",
    "    df_sa_kit['date_stamp'] = df_sa_kit.index\n",
    "    df_sa_kit = df_sa_kit.ix[1:]\n",
    "    df_sa_kit = df_sa_kit.reset_index(drop =True)\n",
    "    df_sa_kit.columns.names = [\"id\"]\n",
    "    df_sa_kit[\"year\"] = df_sa_kit[\"date_stamp\"].dt.year\n",
    "    df_sa_kit[\"month\"] = df_sa_kit[\"date_stamp\"].dt.strftime(\"%b\")\n",
    "\n",
    "    #get the month column to string (not essential)\n",
    "    df_sa_kit[\"month\"] = df_sa_kit[\"month\"].astype(\"str\")\n",
    "\n",
    "    kit_list = df_sa_kit.columns.values.tolist()\n",
    "\n",
    "    df_sa_kit[\"Kitsap: Total NonFarm\"] = df_sa_kit[\"Total Nonfarm\"] \n",
    "    df_sa_kit[\"Kitsap: Consruction\"] = df_sa_kit[kit_list[3]]\n",
    "    #add new column for FIRE with zero as values with index aligned with the dataframe\n",
    "    df_sa_kit[\"Kitsap: FIRE\"] = pd.Series([0 for x in range(len(df_sa_kit.index))], index=df_sa_kit.index)\n",
    "    df_sa_kit[\"Kitsap: Manufacturing\"] = df_sa_kit[kit_list[4]]\n",
    "    df_sa_kit[\"Kitsap: Retail\"] = df_sa_kit[kit_list[8]]\n",
    "    df_sa_kit[\"Kitsap: Service\"] = df_sa_kit[kit_list[5]] - df_sa_kit[kit_list[7]] - df_sa_kit[kit_list[11]]\n",
    "    df_sa_kit[\"Kitsap: WTU\"] = df_sa_kit[kit_list[7]] - df_sa_kit[kit_list[8]]\n",
    "    df_sa_kit[\"Kitsap: Government\"] = df_sa_kit[kit_list[11]]\n",
    "    df_sa_kit[\"Kitsap: Education\"] = pd.Series([0 for x in range(len(df_sa_kit.index))], index=df_sa_kit.index)\n",
    "\n",
    "    df_sa_kit = df_sa_kit.drop(df_sa_kit.columns[:16], axis = 1)\n",
    "\n",
    "    if df_sa_kit[\"Kitsap: Total NonFarm\"].isin(df_sa_kit.ix[:,3:].sum(axis=1)).all() == True:\n",
    "        print \"Checked: Kitsap County - All industry sectors adds up to total NonFarm jobs...\"\n",
    "    else:\n",
    "        print \"ERROR!!\"\n",
    "    return pd.DataFrame[df_sa_kit]\n",
    "\n",
    "\n"
   ]
  },
  {
   "cell_type": "code",
   "execution_count": 133,
   "metadata": {
    "collapsed": false
   },
   "outputs": [
    {
     "name": "stdout",
     "output_type": "stream",
     "text": [
      "Checked: Kitsap County - All industry sectors adds up to total NonFarm jobs...\n"
     ]
    },
    {
     "data": {
      "text/html": [
       "<div>\n",
       "<table border=\"1\" class=\"dataframe\">\n",
       "  <thead>\n",
       "    <tr style=\"text-align: right;\">\n",
       "      <th>id</th>\n",
       "      <th>year</th>\n",
       "      <th>month</th>\n",
       "      <th>Kitsap: Total NonFarm</th>\n",
       "      <th>Kitsap: Consruction</th>\n",
       "      <th>Kitsap: FIRE</th>\n",
       "      <th>Kitsap: Manufacturing</th>\n",
       "      <th>Kitsap: Retail</th>\n",
       "      <th>Kitsap: Service</th>\n",
       "      <th>Kitsap: WTU</th>\n",
       "      <th>Kitsap: Government</th>\n",
       "      <th>Kitsap: Education</th>\n",
       "    </tr>\n",
       "  </thead>\n",
       "  <tbody>\n",
       "    <tr>\n",
       "      <th>311</th>\n",
       "      <td>2015</td>\n",
       "      <td>Dec</td>\n",
       "      <td>88800</td>\n",
       "      <td>4200</td>\n",
       "      <td>0</td>\n",
       "      <td>2400</td>\n",
       "      <td>10600</td>\n",
       "      <td>37100</td>\n",
       "      <td>2600</td>\n",
       "      <td>31900</td>\n",
       "      <td>0</td>\n",
       "    </tr>\n",
       "    <tr>\n",
       "      <th>312</th>\n",
       "      <td>2016</td>\n",
       "      <td>Jan</td>\n",
       "      <td>88700</td>\n",
       "      <td>4100</td>\n",
       "      <td>0</td>\n",
       "      <td>2500</td>\n",
       "      <td>10700</td>\n",
       "      <td>37100</td>\n",
       "      <td>2500</td>\n",
       "      <td>31800</td>\n",
       "      <td>0</td>\n",
       "    </tr>\n",
       "    <tr>\n",
       "      <th>313</th>\n",
       "      <td>2016</td>\n",
       "      <td>Feb</td>\n",
       "      <td>88700</td>\n",
       "      <td>4000</td>\n",
       "      <td>0</td>\n",
       "      <td>2500</td>\n",
       "      <td>11000</td>\n",
       "      <td>36800</td>\n",
       "      <td>2600</td>\n",
       "      <td>31800</td>\n",
       "      <td>0</td>\n",
       "    </tr>\n",
       "    <tr>\n",
       "      <th>314</th>\n",
       "      <td>2016</td>\n",
       "      <td>Mar</td>\n",
       "      <td>88800</td>\n",
       "      <td>4200</td>\n",
       "      <td>0</td>\n",
       "      <td>2500</td>\n",
       "      <td>11000</td>\n",
       "      <td>36700</td>\n",
       "      <td>2600</td>\n",
       "      <td>31800</td>\n",
       "      <td>0</td>\n",
       "    </tr>\n",
       "    <tr>\n",
       "      <th>315</th>\n",
       "      <td>2016</td>\n",
       "      <td>Apr</td>\n",
       "      <td>88600</td>\n",
       "      <td>4200</td>\n",
       "      <td>0</td>\n",
       "      <td>2500</td>\n",
       "      <td>11000</td>\n",
       "      <td>36600</td>\n",
       "      <td>2600</td>\n",
       "      <td>31700</td>\n",
       "      <td>0</td>\n",
       "    </tr>\n",
       "  </tbody>\n",
       "</table>\n",
       "</div>"
      ],
      "text/plain": [
       "id   year month  Kitsap: Total NonFarm  Kitsap: Consruction  Kitsap: FIRE  \\\n",
       "311  2015   Dec                  88800                 4200             0   \n",
       "312  2016   Jan                  88700                 4100             0   \n",
       "313  2016   Feb                  88700                 4000             0   \n",
       "314  2016   Mar                  88800                 4200             0   \n",
       "315  2016   Apr                  88600                 4200             0   \n",
       "\n",
       "id   Kitsap: Manufacturing  Kitsap: Retail  Kitsap: Service  Kitsap: WTU  \\\n",
       "311                   2400           10600            37100         2600   \n",
       "312                   2500           10700            37100         2500   \n",
       "313                   2500           11000            36800         2600   \n",
       "314                   2500           11000            36700         2600   \n",
       "315                   2500           11000            36600         2600   \n",
       "\n",
       "id   Kitsap: Government  Kitsap: Education  \n",
       "311               31900                  0  \n",
       "312               31800                  0  \n",
       "313               31800                  0  \n",
       "314               31800                  0  \n",
       "315               31700                  0  "
      ]
     },
     "execution_count": 133,
     "metadata": {},
     "output_type": "execute_result"
    }
   ],
   "source": [
    "sa_kit().tail()"
   ]
  },
  {
   "cell_type": "code",
   "execution_count": 134,
   "metadata": {
    "collapsed": false
   },
   "outputs": [],
   "source": [
    "def sa_pie():\n",
    "    df_sa_pie = pd.read_excel(os.getcwd()+\"/\"+ sa_filename, sheetname=\"Tacoma MSA\", header = 1, index_col=[1])\n",
    "    df_sa_pie = df_sa_pie.transpose()\n",
    "    df_sa_pie['date_stamp'] = df_sa_pie.index\n",
    "    df_sa_pie = df_sa_pie.ix[1:]\n",
    "    df_sa_pie = df_sa_pie.reset_index(drop =True)\n",
    "    df_sa_pie.columns.names = [\"id\"]\n",
    "    df_sa_pie[\"year\"] = df_sa_pie[\"date_stamp\"].dt.year\n",
    "    df_sa_pie[\"month\"] = df_sa_pie[\"date_stamp\"].dt.strftime(\"%b\")\n",
    "\n",
    "    #get the month column to string (not essential)\n",
    "    df_sa_pie[\"month\"] = df_sa_pie[\"month\"].astype(\"str\")\n",
    "\n",
    "    pie_list = df_sa_pie.columns.values.tolist()\n",
    "\n",
    "    df_sa_pie[\"Pierce: Total NonFarm\"] = df_sa_pie[\"Total Nonfarm\"] \n",
    "    df_sa_pie[\"Pierce: Consruction\"] = df_sa_pie[pie_list[3]] + df_sa_pie[pie_list[4]]\n",
    "    df_sa_pie[\"Pierce: FIRE\"] = df_sa_pie[pie_list[15]]\n",
    "    df_sa_pie[\"Pierce: Manufacturing\"] = df_sa_pie[pie_list[6]]\n",
    "    df_sa_pie[\"Pierce: Retail\"] = df_sa_pie[pie_list[10]]\n",
    "    df_sa_pie[\"Pierce: Service\"] = df_sa_pie[pie_list[7]] - df_sa_pie[pie_list[8]] - df_sa_pie[pie_list[15]] - df_sa_pie[pie_list[25]]                                                     \n",
    "    df_sa_pie[\"Pierce: WTU\"] = df_sa_pie[pie_list[8]] - df_sa_pie[pie_list[10]]\n",
    "    df_sa_pie[\"Pierce: Government\"] = df_sa_pie[pie_list[25]] - df_sa_pie[pie_list[28]] - df_sa_pie[pie_list[30]]\n",
    "    df_sa_pie[\"Pierce: Education\"] = df_sa_pie[pie_list[28]] + df_sa_pie[pie_list[30]]\n",
    "\n",
    "    df_sa_pie = df_sa_pie.drop(df_sa_pie.columns[:32], axis = 1)    \n",
    "\n",
    "    if df_sa_pie[\"Pierce: Total NonFarm\"].isin(df_sa_pie.ix[:,3:].sum(axis=1)).all() == True:\n",
    "        print \"Checked: Pierce County - All industry sectors adds up to total NonFarm jobs...\"\n",
    "    else:\n",
    "        print \"ERROR!!\"\n",
    "    return df_sa_pie\n",
    "\n",
    "\n"
   ]
  },
  {
   "cell_type": "code",
   "execution_count": 135,
   "metadata": {
    "collapsed": false,
    "scrolled": true
   },
   "outputs": [
    {
     "name": "stdout",
     "output_type": "stream",
     "text": [
      "Checked: Pierce County - All industry sectors adds up to total NonFarm jobs...\n"
     ]
    },
    {
     "data": {
      "text/html": [
       "<div>\n",
       "<table border=\"1\" class=\"dataframe\">\n",
       "  <thead>\n",
       "    <tr style=\"text-align: right;\">\n",
       "      <th>id</th>\n",
       "      <th>year</th>\n",
       "      <th>month</th>\n",
       "      <th>Pierce: Total NonFarm</th>\n",
       "      <th>Pierce: Consruction</th>\n",
       "      <th>Pierce: FIRE</th>\n",
       "      <th>Pierce: Manufacturing</th>\n",
       "      <th>Pierce: Retail</th>\n",
       "      <th>Pierce: Service</th>\n",
       "      <th>Pierce: WTU</th>\n",
       "      <th>Pierce: Government</th>\n",
       "      <th>Pierce: Education</th>\n",
       "    </tr>\n",
       "  </thead>\n",
       "  <tbody>\n",
       "    <tr>\n",
       "      <th>311</th>\n",
       "      <td>2015</td>\n",
       "      <td>Dec</td>\n",
       "      <td>300800</td>\n",
       "      <td>20400</td>\n",
       "      <td>13600</td>\n",
       "      <td>17100</td>\n",
       "      <td>36400</td>\n",
       "      <td>129300</td>\n",
       "      <td>26400</td>\n",
       "      <td>34900</td>\n",
       "      <td>22700</td>\n",
       "    </tr>\n",
       "    <tr>\n",
       "      <th>312</th>\n",
       "      <td>2016</td>\n",
       "      <td>Jan</td>\n",
       "      <td>301600</td>\n",
       "      <td>20500</td>\n",
       "      <td>13700</td>\n",
       "      <td>16900</td>\n",
       "      <td>37100</td>\n",
       "      <td>129400</td>\n",
       "      <td>26300</td>\n",
       "      <td>35100</td>\n",
       "      <td>22600</td>\n",
       "    </tr>\n",
       "    <tr>\n",
       "      <th>313</th>\n",
       "      <td>2016</td>\n",
       "      <td>Feb</td>\n",
       "      <td>304000</td>\n",
       "      <td>21200</td>\n",
       "      <td>13800</td>\n",
       "      <td>17100</td>\n",
       "      <td>37800</td>\n",
       "      <td>129700</td>\n",
       "      <td>26500</td>\n",
       "      <td>35200</td>\n",
       "      <td>22700</td>\n",
       "    </tr>\n",
       "    <tr>\n",
       "      <th>314</th>\n",
       "      <td>2016</td>\n",
       "      <td>Mar</td>\n",
       "      <td>305000</td>\n",
       "      <td>21600</td>\n",
       "      <td>13800</td>\n",
       "      <td>17000</td>\n",
       "      <td>38200</td>\n",
       "      <td>130000</td>\n",
       "      <td>26500</td>\n",
       "      <td>35300</td>\n",
       "      <td>22600</td>\n",
       "    </tr>\n",
       "    <tr>\n",
       "      <th>315</th>\n",
       "      <td>2016</td>\n",
       "      <td>Apr</td>\n",
       "      <td>304000</td>\n",
       "      <td>21200</td>\n",
       "      <td>13700</td>\n",
       "      <td>17000</td>\n",
       "      <td>38000</td>\n",
       "      <td>129600</td>\n",
       "      <td>26900</td>\n",
       "      <td>35100</td>\n",
       "      <td>22500</td>\n",
       "    </tr>\n",
       "  </tbody>\n",
       "</table>\n",
       "</div>"
      ],
      "text/plain": [
       "id   year month  Pierce: Total NonFarm  Pierce: Consruction  Pierce: FIRE  \\\n",
       "311  2015   Dec                 300800                20400         13600   \n",
       "312  2016   Jan                 301600                20500         13700   \n",
       "313  2016   Feb                 304000                21200         13800   \n",
       "314  2016   Mar                 305000                21600         13800   \n",
       "315  2016   Apr                 304000                21200         13700   \n",
       "\n",
       "id   Pierce: Manufacturing  Pierce: Retail  Pierce: Service  Pierce: WTU  \\\n",
       "311                  17100           36400           129300        26400   \n",
       "312                  16900           37100           129400        26300   \n",
       "313                  17100           37800           129700        26500   \n",
       "314                  17000           38200           130000        26500   \n",
       "315                  17000           38000           129600        26900   \n",
       "\n",
       "id   Pierce: Government  Pierce: Education  \n",
       "311               34900              22700  \n",
       "312               35100              22600  \n",
       "313               35200              22700  \n",
       "314               35300              22600  \n",
       "315               35100              22500  "
      ]
     },
     "execution_count": 135,
     "metadata": {},
     "output_type": "execute_result"
    }
   ],
   "source": [
    "sa_pie().tail()"
   ]
  },
  {
   "cell_type": "code",
   "execution_count": 136,
   "metadata": {
    "collapsed": true
   },
   "outputs": [],
   "source": [
    "#merge the three dataframes to produce a regional dataframe\n",
    "def sa_region():\n",
    "    df_sa_psrc = pd.merge(pd.merge(df_sa_kin_sno, df_sa_pie, on = [\"year\", \"month\"]), df_sa_kit, on = [\"year\", \"month\"])\n",
    "    \n",
    "    #define regional sectors and add columns to a new dataframe\n",
    "\n",
    "    df_sa_region  = df_sa_psrc\n",
    "    region_list = df_sa_region.columns.values.tolist()\n",
    "\n",
    "    df_sa_region[\"Region: Construction\"] = df_sa_region[region_list[3]] + df_sa_region[region_list[12]] + df_sa_region[region_list[21]]\n",
    "    df_sa_region[\"Region: FIRE\"] = df_sa_region[region_list[4]] + df_sa_region[region_list[13]] + df_sa_region[region_list[22]]\n",
    "    df_sa_region[\"Region: Manufacturing\"] = df_sa_region[region_list[5]] + df_sa_region[region_list[14]] + df_sa_region[region_list[23]]\n",
    "    df_sa_region[\"Region: Retail\"] = df_sa_region[region_list[6]] + df_sa_region[region_list[15]] + df_sa_region[region_list[24]]\n",
    "    df_sa_region[\"Region: Service\"] = df_sa_region[region_list[7]] + df_sa_region[region_list[16]] + df_sa_region[region_list[25]]\n",
    "    df_sa_region[\"Region: WTU\"] = df_sa_region[region_list[8]] + df_sa_region[region_list[17]] + df_sa_region[region_list[26]]\n",
    "    df_sa_region[\"Region: Education\"] = df_sa_region[region_list[10]] + df_sa_region[region_list[19]] + df_sa_region[region_list[28]]\n",
    "    df_sa_region[\"Region: Government\"] = df_sa_region[region_list[9]] + df_sa_region[region_list[18]] + df_sa_region[region_list[27]]\n",
    "    df_sa_region[\"Region: Total NonFarm\"] = df_sa_region[region_list[2]] + df_sa_region[region_list[11]] + df_sa_region[region_list[20]]\n",
    "    \n",
    "    return df_sa_region"
   ]
  },
  {
   "cell_type": "code",
   "execution_count": 125,
   "metadata": {
    "collapsed": false
   },
   "outputs": [],
   "source": [
    "#merge the three dataframes to produce a regional dataframe\n",
    "df_sa_psrc = pd.merge(pd.merge(df_sa_kin_sno, df_sa_pie, on = [\"year\", \"month\"]), df_sa_kit, on = [\"year\", \"month\"])"
   ]
  },
  {
   "cell_type": "code",
   "execution_count": 84,
   "metadata": {
    "collapsed": true
   },
   "outputs": [],
   "source": [
    "#define regional sectors and add columns to a new dataframe\n",
    "\n",
    "df_sa_region  = df_sa_psrc\n",
    "region_list = df_sa_region.columns.values.tolist()\n",
    "\n",
    "df_sa_region[\"Region: Construction\"] = df_sa_region[region_list[3]] + df_sa_region[region_list[12]] + df_sa_region[region_list[21]]\n",
    "df_sa_region[\"Region: FIRE\"] = df_sa_region[region_list[4]] + df_sa_region[region_list[13]] + df_sa_region[region_list[22]]\n",
    "df_sa_region[\"Region: Manufacturing\"] = df_sa_region[region_list[5]] + df_sa_region[region_list[14]] + df_sa_region[region_list[23]]\n",
    "df_sa_region[\"Region: Retail\"] = df_sa_region[region_list[6]] + df_sa_region[region_list[15]] + df_sa_region[region_list[24]]\n",
    "df_sa_region[\"Region: Service\"] = df_sa_region[region_list[7]] + df_sa_region[region_list[16]] + df_sa_region[region_list[25]]\n",
    "df_sa_region[\"Region: WTU\"] = df_sa_region[region_list[8]] + df_sa_region[region_list[17]] + df_sa_region[region_list[26]]\n",
    "df_sa_region[\"Region: Education\"] = df_sa_region[region_list[10]] + df_sa_region[region_list[19]] + df_sa_region[region_list[28]]\n",
    "df_sa_region[\"Region: Government\"] = df_sa_region[region_list[9]] + df_sa_region[region_list[18]] + df_sa_region[region_list[27]]\n",
    "df_sa_region[\"Region: Total NonFarm\"] = df_sa_region[region_list[2]] + df_sa_region[region_list[11]] + df_sa_region[region_list[20]]"
   ]
  },
  {
   "cell_type": "code",
   "execution_count": 140,
   "metadata": {
    "collapsed": false
   },
   "outputs": [],
   "source": [
    "def sa_region_query():\n",
    "    #Query: just the three MSA and regional total\n",
    "    df_sa_region_total = df_sa_region[[0,1, 2, 11,20,-1]]\n",
    "    #Query: just the three MSA and regional total for current month\n",
    "    df_sa_region_total_CM = df_sa_region[[0,1, 2, 11,20,-1]][df_sa_region.month== active_month]\n",
    "    #Query: just the three MSA and regional sectors for current month\n",
    "    df_sa_region_sector_CM = df_sa_region[df_sa_region.month== active_month]\n",
    "    \n"
   ]
  },
  {
   "cell_type": "code",
   "execution_count": 143,
   "metadata": {
    "collapsed": false
   },
   "outputs": [
    {
     "ename": "TypeError",
     "evalue": "sa_region_query() takes no arguments (1 given)",
     "output_type": "error",
     "traceback": [
      "\u001b[1;31m---------------------------------------------------------------------------\u001b[0m",
      "\u001b[1;31mTypeError\u001b[0m                                 Traceback (most recent call last)",
      "\u001b[1;32m<ipython-input-143-1b531185e370>\u001b[0m in \u001b[0;36m<module>\u001b[1;34m()\u001b[0m\n\u001b[1;32m----> 1\u001b[1;33m \u001b[0msa_region_query\u001b[0m\u001b[1;33m(\u001b[0m\u001b[1;36m3\u001b[0m\u001b[1;33m)\u001b[0m\u001b[1;33m.\u001b[0m\u001b[0mtail\u001b[0m\u001b[1;33m(\u001b[0m\u001b[1;33m)\u001b[0m\u001b[1;33m\u001b[0m\u001b[0m\n\u001b[0m",
      "\u001b[1;31mTypeError\u001b[0m: sa_region_query() takes no arguments (1 given)"
     ]
    }
   ],
   "source": [
    "sa_region_query.tail(3)"
   ]
  },
  {
   "cell_type": "code",
   "execution_count": 87,
   "metadata": {
    "collapsed": false,
    "scrolled": true
   },
   "outputs": [],
   "source": [
    "#delete unnecessary worksheets from the excel file\n",
    "\n",
    "def delete_ws():\n",
    "    wb_sa = load_workbook(os.getcwd()+\"/\"+ sa_filename)\n",
    "\n",
    "    del_sheets = []\n",
    "\n",
    "    for i in wb_sa.get_sheet_names():\n",
    "        if i == \"Seattle MSA\":\n",
    "            pass\n",
    "        elif i == \"Tacoma MSA\":\n",
    "            pass\n",
    "        elif i == \"Bremerton MSA\":\n",
    "            pass\n",
    "        elif i == \"Washington State\":\n",
    "            pass\n",
    "        else:\n",
    "            del_sheets.append(i)\n",
    "    #print del_sheets\n",
    "    #now delete the bad sheets\n",
    "    [wb_sa.remove_sheet(wb_sa.get_sheet_by_name(sheet)) for sheet in del_sheets]\n",
    "    #if you get a ValueError, this means you are incorrectly requesting a sheet\n",
    "\n",
    "    wb_sa.save(os.getcwd()+\"/\"+ sa_filename)    \n",
    "\n",
    "delete_ws()\n",
    "    \n",
    "    "
   ]
  },
  {
   "cell_type": "code",
   "execution_count": 88,
   "metadata": {
    "collapsed": false
   },
   "outputs": [],
   "source": [
    "#write the data frames to the excel file on different worksheets with different names:\n",
    "\n",
    "def data_to_workbook():\n",
    "    sa_book = load_workbook(os.getcwd()+\"/\"+ sa_filename)\n",
    "    sa_writer = pd.ExcelWriter(os.getcwd()+\"/\"+ sa_filename, engine='openpyxl') \n",
    "    sa_writer.book = sa_book\n",
    "    sa_writer.sheets = dict((ws.title, ws) for ws in sa_book.worksheets)\n",
    "\n",
    "    df_sa_region_total.to_excel(sa_writer, \"RegionMaster\", index =False)\n",
    "\n",
    "    df_sa_region.to_excel(sa_writer, \"Region_Sector\", index =False)\n",
    "\n",
    "    df_sa_region_total_CM.to_excel(sa_writer, \"Region_CMonth\", index =False)\n",
    "\n",
    "    df_sa_region_sector_CM.to_excel(sa_writer, \"Region_Sec_CMonth\", index =False)\n",
    "\n",
    "    sa_writer.save()\n",
    "    \n",
    "    print \"Data frames exported to the exce workbook located at the working directory:  \"+\"\\n\"+ os.getcwd()\n"
   ]
  },
  {
   "cell_type": "code",
   "execution_count": 145,
   "metadata": {
    "collapsed": false
   },
   "outputs": [
    {
     "name": "stdout",
     "output_type": "stream",
     "text": [
      "Data frames exported to the exce workbook located at the working directory:  \n",
      "J:\\Staff\\Jalal\\Monthly_Emp_Update_Scratch\\wa_esd_emp\n"
     ]
    }
   ],
   "source": []
  },
  {
   "cell_type": "code",
   "execution_count": null,
   "metadata": {
    "collapsed": true
   },
   "outputs": [],
   "source": []
  },
  {
   "cell_type": "code",
   "execution_count": null,
   "metadata": {
    "collapsed": true
   },
   "outputs": [],
   "source": [
    "download_esd_sa()\n",
    "check_worksheet()\n",
    "sa_kin_sno()\n",
    "sa_kit()\n",
    "sa_pie()\n",
    "sa_region()\n",
    "delete_ws()\n",
    "\n",
    "data_to_workbook()\n",
    "\n",
    "\n"
   ]
  },
  {
   "cell_type": "code",
   "execution_count": 147,
   "metadata": {
    "collapsed": false
   },
   "outputs": [
    {
     "name": "stdout",
     "output_type": "stream",
     "text": [
      "\n",
      "Jalal\n"
     ]
    }
   ],
   "source": [
    "print \"\\nJalal\""
   ]
  },
  {
   "cell_type": "code",
   "execution_count": null,
   "metadata": {
    "collapsed": true
   },
   "outputs": [],
   "source": []
  },
  {
   "cell_type": "code",
   "execution_count": null,
   "metadata": {
    "collapsed": true
   },
   "outputs": [],
   "source": []
  },
  {
   "cell_type": "code",
   "execution_count": 47,
   "metadata": {
    "collapsed": false
   },
   "outputs": [],
   "source": [
    "\n",
    "#[df_sa_psrc.month== active_month]"
   ]
  },
  {
   "cell_type": "code",
   "execution_count": 51,
   "metadata": {
    "collapsed": true
   },
   "outputs": [],
   "source": [
    "df_sa_region_total_CM = df_sa_region[[0,1, 2, 11,20,-1]][df_sa_psrc.month== active_month]"
   ]
  },
  {
   "cell_type": "code",
   "execution_count": 66,
   "metadata": {
    "collapsed": false
   },
   "outputs": [],
   "source": [
    "df_sa_region_sector_CM = df_sa_region[df_sa_region.month== active_month]\n"
   ]
  },
  {
   "cell_type": "code",
   "execution_count": 14,
   "metadata": {
    "collapsed": true
   },
   "outputs": [],
   "source": [
    "#define regional sectors and add columns to a new dataframe\n",
    "\n",
    "\n",
    "df_sa_psrc[\"Region: Construction\"] = df_sa_psrc[psrc_list[3]] + df_sa_psrc[psrc_list[12]] + df_sa_psrc[psrc_list[21]]\n",
    "df_sa_psrc[\"Region: FIRE\"] = df_sa_psrc[psrc_list[4]] + df_sa_psrc[psrc_list[13]] + df_sa_psrc[psrc_list[22]]\n",
    "df_sa_psrc[\"Region: Manufacturing\"] = df_sa_psrc[psrc_list[5]] + df_sa_psrc[psrc_list[14]] + df_sa_psrc[psrc_list[23]]\n",
    "df_sa_psrc[\"Region: Retail\"] = df_sa_psrc[psrc_list[6]] + df_sa_psrc[psrc_list[15]] + df_sa_psrc[psrc_list[24]]\n",
    "df_sa_psrc[\"Region: Service\"] = df_sa_psrc[psrc_list[7]] + df_sa_psrc[psrc_list[16]] + df_sa_psrc[psrc_list[25]]\n",
    "df_sa_psrc[\"Region: WTU\"] = df_sa_psrc[psrc_list[8]] + df_sa_psrc[psrc_list[17]] + df_sa_psrc[psrc_list[26]]\n",
    "df_sa_psrc[\"Region: Education\"] = df_sa_psrc[psrc_list[10]] + df_sa_psrc[psrc_list[19]] + df_sa_psrc[psrc_list[28]]\n",
    "df_sa_psrc[\"Region: Government\"] = df_sa_psrc[psrc_list[9]] + df_sa_psrc[psrc_list[18]] + df_sa_psrc[psrc_list[27]]\n",
    "df_sa_psrc[\"Region: Total NonFarm\"] = df_sa_psrc[psrc_list[2]] + df_sa_psrc[psrc_list[11]] + df_sa_psrc[psrc_list[20]]"
   ]
  },
  {
   "cell_type": "code",
   "execution_count": 108,
   "metadata": {
    "collapsed": true
   },
   "outputs": [
    {
     "data": {
      "text/html": [
       "<div>\n",
       "<table border=\"1\" class=\"dataframe\">\n",
       "  <thead>\n",
       "    <tr style=\"text-align: right;\">\n",
       "      <th>id</th>\n",
       "      <th>year</th>\n",
       "      <th>month</th>\n",
       "      <th>King &amp; Snohomish: Total NonFarm</th>\n",
       "      <th>King &amp; Snohomish: Consruction</th>\n",
       "      <th>King &amp; Snohomish: FIRE</th>\n",
       "      <th>King &amp; Snohomish: Manufacturing</th>\n",
       "      <th>King &amp; Snohomish: Retail</th>\n",
       "      <th>King &amp; Snohomish: Service</th>\n",
       "      <th>King &amp; Snohomish: WTU</th>\n",
       "      <th>King &amp; Snohomish: Government</th>\n",
       "      <th>...</th>\n",
       "      <th>Pierce: Education</th>\n",
       "      <th>Kitsap: Total NonFarm</th>\n",
       "      <th>Kitsap: Consruction</th>\n",
       "      <th>Kitsap: FIRE</th>\n",
       "      <th>Kitsap: Manufacturing</th>\n",
       "      <th>Kitsap: Retail</th>\n",
       "      <th>Kitsap: Service</th>\n",
       "      <th>Kitsap: WTU</th>\n",
       "      <th>Kitsap: Government</th>\n",
       "      <th>Kitsap: Education</th>\n",
       "    </tr>\n",
       "  </thead>\n",
       "  <tbody>\n",
       "    <tr>\n",
       "      <th>122</th>\n",
       "      <td>NaN</td>\n",
       "      <td>NaN</td>\n",
       "      <td>NaN</td>\n",
       "      <td>NaN</td>\n",
       "      <td>NaN</td>\n",
       "      <td>NaN</td>\n",
       "      <td>NaN</td>\n",
       "      <td>NaN</td>\n",
       "      <td>NaN</td>\n",
       "      <td>NaN</td>\n",
       "      <td>...</td>\n",
       "      <td>NaN</td>\n",
       "      <td>NaN</td>\n",
       "      <td>NaN</td>\n",
       "      <td>NaN</td>\n",
       "      <td>NaN</td>\n",
       "      <td>NaN</td>\n",
       "      <td>NaN</td>\n",
       "      <td>NaN</td>\n",
       "      <td>NaN</td>\n",
       "      <td>NaN</td>\n",
       "    </tr>\n",
       "    <tr>\n",
       "      <th>123</th>\n",
       "      <td>NaN</td>\n",
       "      <td>NaN</td>\n",
       "      <td>NaN</td>\n",
       "      <td>NaN</td>\n",
       "      <td>NaN</td>\n",
       "      <td>NaN</td>\n",
       "      <td>NaN</td>\n",
       "      <td>NaN</td>\n",
       "      <td>NaN</td>\n",
       "      <td>NaN</td>\n",
       "      <td>...</td>\n",
       "      <td>NaN</td>\n",
       "      <td>NaN</td>\n",
       "      <td>NaN</td>\n",
       "      <td>NaN</td>\n",
       "      <td>NaN</td>\n",
       "      <td>NaN</td>\n",
       "      <td>NaN</td>\n",
       "      <td>NaN</td>\n",
       "      <td>NaN</td>\n",
       "      <td>NaN</td>\n",
       "    </tr>\n",
       "  </tbody>\n",
       "</table>\n",
       "<p>2 rows × 29 columns</p>\n",
       "</div>"
      ],
      "text/plain": [
       "id   year month  King & Snohomish: Total NonFarm  \\\n",
       "122   NaN   NaN                              NaN   \n",
       "123   NaN   NaN                              NaN   \n",
       "\n",
       "id   King & Snohomish: Consruction  King & Snohomish: FIRE  \\\n",
       "122                            NaN                     NaN   \n",
       "123                            NaN                     NaN   \n",
       "\n",
       "id   King & Snohomish: Manufacturing  King & Snohomish: Retail  \\\n",
       "122                              NaN                       NaN   \n",
       "123                              NaN                       NaN   \n",
       "\n",
       "id   King & Snohomish: Service  King & Snohomish: WTU  \\\n",
       "122                        NaN                    NaN   \n",
       "123                        NaN                    NaN   \n",
       "\n",
       "id   King & Snohomish: Government        ...          Pierce: Education  \\\n",
       "122                           NaN        ...                        NaN   \n",
       "123                           NaN        ...                        NaN   \n",
       "\n",
       "id   Kitsap: Total NonFarm  Kitsap: Consruction  Kitsap: FIRE  \\\n",
       "122                    NaN                  NaN           NaN   \n",
       "123                    NaN                  NaN           NaN   \n",
       "\n",
       "id   Kitsap: Manufacturing  Kitsap: Retail  Kitsap: Service  Kitsap: WTU  \\\n",
       "122                    NaN             NaN              NaN          NaN   \n",
       "123                    NaN             NaN              NaN          NaN   \n",
       "\n",
       "id   Kitsap: Government  Kitsap: Education  \n",
       "122                 NaN                NaN  \n",
       "123                 NaN                NaN  \n",
       "\n",
       "[2 rows x 29 columns]"
      ]
     },
     "execution_count": 108,
     "metadata": {},
     "output_type": "execute_result"
    }
   ],
   "source": [
    "#(df_sa_psrc[(df_sa_psrc.month == \"Mar\") & (df_sa_psrc.year == 2000)].tail() + df_sa_psrc[(df_sa_psrc.month == \"Apr\") & (df_sa_psrc.year == 2000)].tail())"
   ]
  },
  {
   "cell_type": "code",
   "execution_count": 70,
   "metadata": {
    "collapsed": false
   },
   "outputs": [
    {
     "data": {
      "text/html": [
       "<div>\n",
       "<table border=\"1\" class=\"dataframe\">\n",
       "  <thead>\n",
       "    <tr style=\"text-align: right;\">\n",
       "      <th>id</th>\n",
       "      <th>year</th>\n",
       "      <th>month</th>\n",
       "      <th>King &amp; Snohomish: Total NonFarm</th>\n",
       "      <th>King &amp; Snohomish: Consruction</th>\n",
       "      <th>King &amp; Snohomish: FIRE</th>\n",
       "      <th>King &amp; Snohomish: Manufacturing</th>\n",
       "      <th>King &amp; Snohomish: Retail</th>\n",
       "      <th>King &amp; Snohomish: Service</th>\n",
       "      <th>King &amp; Snohomish: WTU</th>\n",
       "      <th>King &amp; Snohomish: Government</th>\n",
       "      <th>...</th>\n",
       "      <th>Pierce: Education</th>\n",
       "      <th>Kitsap: Total NonFarm</th>\n",
       "      <th>Kitsap: Consruction</th>\n",
       "      <th>Kitsap: FIRE</th>\n",
       "      <th>Kitsap: Manufacturing</th>\n",
       "      <th>Kitsap: Retail</th>\n",
       "      <th>Kitsap: Service</th>\n",
       "      <th>Kitsap: WTU</th>\n",
       "      <th>Kitsap: Government</th>\n",
       "      <th>Kitsap: Education</th>\n",
       "    </tr>\n",
       "  </thead>\n",
       "  <tbody>\n",
       "    <tr>\n",
       "      <th>311</th>\n",
       "      <td>2015</td>\n",
       "      <td>Dec</td>\n",
       "      <td>1614000</td>\n",
       "      <td>89400</td>\n",
       "      <td>82900</td>\n",
       "      <td>170100</td>\n",
       "      <td>169700</td>\n",
       "      <td>759800</td>\n",
       "      <td>127200</td>\n",
       "      <td>110600</td>\n",
       "      <td>...</td>\n",
       "      <td>22700</td>\n",
       "      <td>88800</td>\n",
       "      <td>4200</td>\n",
       "      <td>0</td>\n",
       "      <td>2400</td>\n",
       "      <td>10600</td>\n",
       "      <td>37100</td>\n",
       "      <td>2600</td>\n",
       "      <td>31900</td>\n",
       "      <td>0</td>\n",
       "    </tr>\n",
       "    <tr>\n",
       "      <th>312</th>\n",
       "      <td>2016</td>\n",
       "      <td>Jan</td>\n",
       "      <td>1619100</td>\n",
       "      <td>89800</td>\n",
       "      <td>84300</td>\n",
       "      <td>168900</td>\n",
       "      <td>173500</td>\n",
       "      <td>761900</td>\n",
       "      <td>127700</td>\n",
       "      <td>110400</td>\n",
       "      <td>...</td>\n",
       "      <td>22600</td>\n",
       "      <td>88700</td>\n",
       "      <td>4100</td>\n",
       "      <td>0</td>\n",
       "      <td>2500</td>\n",
       "      <td>10700</td>\n",
       "      <td>37100</td>\n",
       "      <td>2500</td>\n",
       "      <td>31800</td>\n",
       "      <td>0</td>\n",
       "    </tr>\n",
       "    <tr>\n",
       "      <th>313</th>\n",
       "      <td>2016</td>\n",
       "      <td>Feb</td>\n",
       "      <td>1627000</td>\n",
       "      <td>91700</td>\n",
       "      <td>84000</td>\n",
       "      <td>167800</td>\n",
       "      <td>174300</td>\n",
       "      <td>766700</td>\n",
       "      <td>127500</td>\n",
       "      <td>110900</td>\n",
       "      <td>...</td>\n",
       "      <td>22700</td>\n",
       "      <td>88700</td>\n",
       "      <td>4000</td>\n",
       "      <td>0</td>\n",
       "      <td>2500</td>\n",
       "      <td>11000</td>\n",
       "      <td>36800</td>\n",
       "      <td>2600</td>\n",
       "      <td>31800</td>\n",
       "      <td>0</td>\n",
       "    </tr>\n",
       "    <tr>\n",
       "      <th>314</th>\n",
       "      <td>2016</td>\n",
       "      <td>Mar</td>\n",
       "      <td>1629200</td>\n",
       "      <td>92500</td>\n",
       "      <td>84300</td>\n",
       "      <td>167600</td>\n",
       "      <td>173800</td>\n",
       "      <td>765400</td>\n",
       "      <td>129300</td>\n",
       "      <td>112000</td>\n",
       "      <td>...</td>\n",
       "      <td>22600</td>\n",
       "      <td>88800</td>\n",
       "      <td>4200</td>\n",
       "      <td>0</td>\n",
       "      <td>2500</td>\n",
       "      <td>11000</td>\n",
       "      <td>36700</td>\n",
       "      <td>2600</td>\n",
       "      <td>31800</td>\n",
       "      <td>0</td>\n",
       "    </tr>\n",
       "    <tr>\n",
       "      <th>315</th>\n",
       "      <td>2016</td>\n",
       "      <td>Apr</td>\n",
       "      <td>1634100</td>\n",
       "      <td>91900</td>\n",
       "      <td>84700</td>\n",
       "      <td>167600</td>\n",
       "      <td>174900</td>\n",
       "      <td>769400</td>\n",
       "      <td>129100</td>\n",
       "      <td>112300</td>\n",
       "      <td>...</td>\n",
       "      <td>22500</td>\n",
       "      <td>88600</td>\n",
       "      <td>4200</td>\n",
       "      <td>0</td>\n",
       "      <td>2500</td>\n",
       "      <td>11000</td>\n",
       "      <td>36600</td>\n",
       "      <td>2600</td>\n",
       "      <td>31700</td>\n",
       "      <td>0</td>\n",
       "    </tr>\n",
       "  </tbody>\n",
       "</table>\n",
       "<p>5 rows × 29 columns</p>\n",
       "</div>"
      ],
      "text/plain": [
       "id   year month  King & Snohomish: Total NonFarm  \\\n",
       "311  2015   Dec                          1614000   \n",
       "312  2016   Jan                          1619100   \n",
       "313  2016   Feb                          1627000   \n",
       "314  2016   Mar                          1629200   \n",
       "315  2016   Apr                          1634100   \n",
       "\n",
       "id   King & Snohomish: Consruction  King & Snohomish: FIRE  \\\n",
       "311                          89400                   82900   \n",
       "312                          89800                   84300   \n",
       "313                          91700                   84000   \n",
       "314                          92500                   84300   \n",
       "315                          91900                   84700   \n",
       "\n",
       "id   King & Snohomish: Manufacturing  King & Snohomish: Retail  \\\n",
       "311                           170100                    169700   \n",
       "312                           168900                    173500   \n",
       "313                           167800                    174300   \n",
       "314                           167600                    173800   \n",
       "315                           167600                    174900   \n",
       "\n",
       "id   King & Snohomish: Service  King & Snohomish: WTU  \\\n",
       "311                     759800                 127200   \n",
       "312                     761900                 127700   \n",
       "313                     766700                 127500   \n",
       "314                     765400                 129300   \n",
       "315                     769400                 129100   \n",
       "\n",
       "id   King & Snohomish: Government        ...          Pierce: Education  \\\n",
       "311                        110600        ...                      22700   \n",
       "312                        110400        ...                      22600   \n",
       "313                        110900        ...                      22700   \n",
       "314                        112000        ...                      22600   \n",
       "315                        112300        ...                      22500   \n",
       "\n",
       "id   Kitsap: Total NonFarm  Kitsap: Consruction  Kitsap: FIRE  \\\n",
       "311                  88800                 4200             0   \n",
       "312                  88700                 4100             0   \n",
       "313                  88700                 4000             0   \n",
       "314                  88800                 4200             0   \n",
       "315                  88600                 4200             0   \n",
       "\n",
       "id   Kitsap: Manufacturing  Kitsap: Retail  Kitsap: Service  Kitsap: WTU  \\\n",
       "311                   2400           10600            37100         2600   \n",
       "312                   2500           10700            37100         2500   \n",
       "313                   2500           11000            36800         2600   \n",
       "314                   2500           11000            36700         2600   \n",
       "315                   2500           11000            36600         2600   \n",
       "\n",
       "id   Kitsap: Government  Kitsap: Education  \n",
       "311               31900                  0  \n",
       "312               31800                  0  \n",
       "313               31800                  0  \n",
       "314               31800                  0  \n",
       "315               31700                  0  \n",
       "\n",
       "[5 rows x 29 columns]"
      ]
     },
     "execution_count": 70,
     "metadata": {},
     "output_type": "execute_result"
    }
   ],
   "source": [
    "df_sa_psrc.tail()"
   ]
  },
  {
   "cell_type": "code",
   "execution_count": 24,
   "metadata": {
    "collapsed": true
   },
   "outputs": [
    {
     "data": {
      "text/html": [
       "<div>\n",
       "<table border=\"1\" class=\"dataframe\">\n",
       "  <thead>\n",
       "    <tr style=\"text-align: right;\">\n",
       "      <th>id</th>\n",
       "      <th>year</th>\n",
       "      <th>month</th>\n",
       "      <th>King &amp; Snohomish: Total NonFarm</th>\n",
       "      <th>King &amp; Snohomish: Consruction</th>\n",
       "      <th>King &amp; Snohomish: FIRE</th>\n",
       "      <th>King &amp; Snohomish: Manufacturing</th>\n",
       "      <th>King &amp; Snohomish: Retail</th>\n",
       "      <th>King &amp; Snohomish: Service</th>\n",
       "      <th>King &amp; Snohomish: WTU</th>\n",
       "      <th>King &amp; Snohomish: Government</th>\n",
       "      <th>...</th>\n",
       "      <th>Kitsap: Education</th>\n",
       "      <th>Region: Construction</th>\n",
       "      <th>Region: FIRE</th>\n",
       "      <th>Region: Manufacturing</th>\n",
       "      <th>Region: Retail</th>\n",
       "      <th>Region: Service</th>\n",
       "      <th>Region: WTU</th>\n",
       "      <th>Region: Education</th>\n",
       "      <th>Region: Government</th>\n",
       "      <th>Region: Total NonFarm</th>\n",
       "    </tr>\n",
       "  </thead>\n",
       "  <tbody>\n",
       "    <tr>\n",
       "      <th>266</th>\n",
       "      <td>2012</td>\n",
       "      <td>Mar</td>\n",
       "      <td>1446800</td>\n",
       "      <td>64200</td>\n",
       "      <td>77500</td>\n",
       "      <td>164700</td>\n",
       "      <td>143000</td>\n",
       "      <td>680600</td>\n",
       "      <td>114200</td>\n",
       "      <td>107700</td>\n",
       "      <td>...</td>\n",
       "      <td>0</td>\n",
       "      <td>84300</td>\n",
       "      <td>90000</td>\n",
       "      <td>183200</td>\n",
       "      <td>185300</td>\n",
       "      <td>831500</td>\n",
       "      <td>140100</td>\n",
       "      <td>116800</td>\n",
       "      <td>171800</td>\n",
       "      <td>1803000</td>\n",
       "    </tr>\n",
       "    <tr>\n",
       "      <th>278</th>\n",
       "      <td>2013</td>\n",
       "      <td>Mar</td>\n",
       "      <td>1490000</td>\n",
       "      <td>71100</td>\n",
       "      <td>80000</td>\n",
       "      <td>170500</td>\n",
       "      <td>150300</td>\n",
       "      <td>698800</td>\n",
       "      <td>115300</td>\n",
       "      <td>107200</td>\n",
       "      <td>...</td>\n",
       "      <td>0</td>\n",
       "      <td>92300</td>\n",
       "      <td>92800</td>\n",
       "      <td>189600</td>\n",
       "      <td>192500</td>\n",
       "      <td>851000</td>\n",
       "      <td>142900</td>\n",
       "      <td>118500</td>\n",
       "      <td>171100</td>\n",
       "      <td>1850700</td>\n",
       "    </tr>\n",
       "    <tr>\n",
       "      <th>290</th>\n",
       "      <td>2014</td>\n",
       "      <td>Mar</td>\n",
       "      <td>1533400</td>\n",
       "      <td>76500</td>\n",
       "      <td>80500</td>\n",
       "      <td>169200</td>\n",
       "      <td>159300</td>\n",
       "      <td>722200</td>\n",
       "      <td>118800</td>\n",
       "      <td>107900</td>\n",
       "      <td>...</td>\n",
       "      <td>0</td>\n",
       "      <td>99600</td>\n",
       "      <td>94100</td>\n",
       "      <td>188900</td>\n",
       "      <td>202900</td>\n",
       "      <td>880500</td>\n",
       "      <td>146900</td>\n",
       "      <td>121100</td>\n",
       "      <td>170800</td>\n",
       "      <td>1904800</td>\n",
       "    </tr>\n",
       "    <tr>\n",
       "      <th>302</th>\n",
       "      <td>2015</td>\n",
       "      <td>Mar</td>\n",
       "      <td>1578600</td>\n",
       "      <td>86400</td>\n",
       "      <td>81200</td>\n",
       "      <td>171100</td>\n",
       "      <td>167400</td>\n",
       "      <td>738800</td>\n",
       "      <td>122700</td>\n",
       "      <td>108800</td>\n",
       "      <td>...</td>\n",
       "      <td>0</td>\n",
       "      <td>110800</td>\n",
       "      <td>94900</td>\n",
       "      <td>190600</td>\n",
       "      <td>213800</td>\n",
       "      <td>898300</td>\n",
       "      <td>151500</td>\n",
       "      <td>124600</td>\n",
       "      <td>174800</td>\n",
       "      <td>1959300</td>\n",
       "    </tr>\n",
       "    <tr>\n",
       "      <th>314</th>\n",
       "      <td>2016</td>\n",
       "      <td>Mar</td>\n",
       "      <td>1629200</td>\n",
       "      <td>92500</td>\n",
       "      <td>84300</td>\n",
       "      <td>167600</td>\n",
       "      <td>173800</td>\n",
       "      <td>765400</td>\n",
       "      <td>129300</td>\n",
       "      <td>112000</td>\n",
       "      <td>...</td>\n",
       "      <td>0</td>\n",
       "      <td>118300</td>\n",
       "      <td>98100</td>\n",
       "      <td>187100</td>\n",
       "      <td>223000</td>\n",
       "      <td>932100</td>\n",
       "      <td>158400</td>\n",
       "      <td>126900</td>\n",
       "      <td>179100</td>\n",
       "      <td>2023000</td>\n",
       "    </tr>\n",
       "  </tbody>\n",
       "</table>\n",
       "<p>5 rows × 38 columns</p>\n",
       "</div>"
      ],
      "text/plain": [
       "id   year month  King & Snohomish: Total NonFarm  \\\n",
       "266  2012   Mar                          1446800   \n",
       "278  2013   Mar                          1490000   \n",
       "290  2014   Mar                          1533400   \n",
       "302  2015   Mar                          1578600   \n",
       "314  2016   Mar                          1629200   \n",
       "\n",
       "id   King & Snohomish: Consruction  King & Snohomish: FIRE  \\\n",
       "266                          64200                   77500   \n",
       "278                          71100                   80000   \n",
       "290                          76500                   80500   \n",
       "302                          86400                   81200   \n",
       "314                          92500                   84300   \n",
       "\n",
       "id   King & Snohomish: Manufacturing  King & Snohomish: Retail  \\\n",
       "266                           164700                    143000   \n",
       "278                           170500                    150300   \n",
       "290                           169200                    159300   \n",
       "302                           171100                    167400   \n",
       "314                           167600                    173800   \n",
       "\n",
       "id   King & Snohomish: Service  King & Snohomish: WTU  \\\n",
       "266                     680600                 114200   \n",
       "278                     698800                 115300   \n",
       "290                     722200                 118800   \n",
       "302                     738800                 122700   \n",
       "314                     765400                 129300   \n",
       "\n",
       "id   King & Snohomish: Government          ...            Kitsap: Education  \\\n",
       "266                        107700          ...                            0   \n",
       "278                        107200          ...                            0   \n",
       "290                        107900          ...                            0   \n",
       "302                        108800          ...                            0   \n",
       "314                        112000          ...                            0   \n",
       "\n",
       "id   Region: Construction  Region: FIRE  Region: Manufacturing  \\\n",
       "266                 84300         90000                 183200   \n",
       "278                 92300         92800                 189600   \n",
       "290                 99600         94100                 188900   \n",
       "302                110800         94900                 190600   \n",
       "314                118300         98100                 187100   \n",
       "\n",
       "id   Region: Retail  Region: Service  Region: WTU  Region: Education  \\\n",
       "266          185300           831500       140100             116800   \n",
       "278          192500           851000       142900             118500   \n",
       "290          202900           880500       146900             121100   \n",
       "302          213800           898300       151500             124600   \n",
       "314          223000           932100       158400             126900   \n",
       "\n",
       "id   Region: Government  Region: Total NonFarm  \n",
       "266              171800                1803000  \n",
       "278              171100                1850700  \n",
       "290              170800                1904800  \n",
       "302              174800                1959300  \n",
       "314              179100                2023000  \n",
       "\n",
       "[5 rows x 38 columns]"
      ]
     },
     "execution_count": 24,
     "metadata": {},
     "output_type": "execute_result"
    }
   ],
   "source": [
    "df_sa_psrc.query('month== \"Mar\"').tail()"
   ]
  },
  {
   "cell_type": "code",
   "execution_count": null,
   "metadata": {
    "collapsed": true
   },
   "outputs": [],
   "source": [
    "def process_esd_sa():\n",
    "    start = time.time()\n",
    "    \n",
    "    \n",
    "    \n",
    "    \n",
    "    \n",
    "    \n",
    "    \n",
    "    \n",
    "    processtime = end - start\n",
    "    print \"Data download completed. Download Time: \" + \"{0: .3}\".format(processtime) + \" Sec.\"\n",
    "    "
   ]
  },
  {
   "cell_type": "code",
   "execution_count": null,
   "metadata": {
    "collapsed": true
   },
   "outputs": [],
   "source": []
  },
  {
   "cell_type": "code",
   "execution_count": null,
   "metadata": {
    "collapsed": true
   },
   "outputs": [],
   "source": []
  },
  {
   "cell_type": "code",
   "execution_count": null,
   "metadata": {
    "collapsed": true
   },
   "outputs": [],
   "source": []
  },
  {
   "cell_type": "code",
   "execution_count": null,
   "metadata": {
    "collapsed": true
   },
   "outputs": [],
   "source": []
  },
  {
   "cell_type": "code",
   "execution_count": null,
   "metadata": {
    "collapsed": true
   },
   "outputs": [],
   "source": []
  },
  {
   "cell_type": "code",
   "execution_count": null,
   "metadata": {
    "collapsed": true
   },
   "outputs": [],
   "source": []
  },
  {
   "cell_type": "code",
   "execution_count": null,
   "metadata": {
    "collapsed": true
   },
   "outputs": [],
   "source": []
  },
  {
   "cell_type": "code",
   "execution_count": null,
   "metadata": {
    "collapsed": true
   },
   "outputs": [],
   "source": []
  },
  {
   "cell_type": "code",
   "execution_count": null,
   "metadata": {
    "collapsed": true
   },
   "outputs": [],
   "source": []
  },
  {
   "cell_type": "code",
   "execution_count": null,
   "metadata": {
    "collapsed": true
   },
   "outputs": [],
   "source": []
  },
  {
   "cell_type": "code",
   "execution_count": null,
   "metadata": {
    "collapsed": true
   },
   "outputs": [],
   "source": []
  }
 ],
 "metadata": {
  "kernelspec": {
   "display_name": "Python 2",
   "language": "python",
   "name": "python2"
  },
  "language_info": {
   "codemirror_mode": {
    "name": "ipython",
    "version": 2
   },
   "file_extension": ".py",
   "mimetype": "text/x-python",
   "name": "python",
   "nbconvert_exporter": "python",
   "pygments_lexer": "ipython2",
   "version": "2.7.11"
  }
 },
 "nbformat": 4,
 "nbformat_minor": 0
}
