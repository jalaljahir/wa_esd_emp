{
 "cells": [
  {
   "cell_type": "code",
   "execution_count": 319,
   "metadata": {
    "collapsed": true
   },
   "outputs": [],
   "source": [
    "import os\n",
    "import pandas as pd\n",
    "import urllib\n",
    "import datetime\n",
    "import time"
   ]
  },
  {
   "cell_type": "code",
   "execution_count": 320,
   "metadata": {
    "collapsed": false,
    "scrolled": true
   },
   "outputs": [
    {
     "data": {
      "text/plain": [
       "'05192016'"
      ]
     },
     "execution_count": 320,
     "metadata": {},
     "output_type": "execute_result"
    }
   ],
   "source": [
    "time.strftime(\"%m%d%Y\")"
   ]
  },
  {
   "cell_type": "code",
   "execution_count": 321,
   "metadata": {
    "collapsed": false,
    "scrolled": true
   },
   "outputs": [
    {
     "name": "stdout",
     "output_type": "stream",
     "text": [
      "hello Jalal Jahir what\n",
      "hello Jalal Jahir is a GREAT Guy\n",
      " 0.0\n",
      "0.0\n"
     ]
    }
   ],
   "source": [
    "start = time.time()\n",
    "print \"hello Jalal Jahir what\"\n",
    "print \"hello Jalal Jahir is a GREAT Guy\"\n",
    "end = time.time()\n",
    "processtime = end - start\n",
    "print \"{0: .3}\".format(processtime)\n",
    "print float(processtime)"
   ]
  },
  {
   "cell_type": "code",
   "execution_count": 322,
   "metadata": {
    "collapsed": false,
    "scrolled": false
   },
   "outputs": [
    {
     "name": "stdout",
     "output_type": "stream",
     "text": [
      "J:\\Staff\\Jalal\\Monthly_Emp_Update_Scratch\\wa_esd_emp\n"
     ]
    }
   ],
   "source": [
    "print os.getcwd()"
   ]
  },
  {
   "cell_type": "code",
   "execution_count": 323,
   "metadata": {
    "collapsed": false
   },
   "outputs": [],
   "source": [
    "current_dir = os.getcwd()"
   ]
  },
  {
   "cell_type": "code",
   "execution_count": 702,
   "metadata": {
    "collapsed": false
   },
   "outputs": [],
   "source": [
    "esd_sa_url = \"https://fortress.wa.gov/esd/employmentdata/docs/economic-reports/wa-historical-employment-seasonally-adjusted.xlsx\"\n",
    "sa_filename = esd_sa_url[-49:-5]+\"_\"+time.strftime(\"%m%d%Y\")+esd_sa_url[-5:]\n",
    "def download_esd_sa():\n",
    "    start = time.time()\n",
    "    esdfile = urllib.URLopener()\n",
    "    esdfile.retrieve(esd_sa_url, os.getcwd()+\"/\"+ sa_filename)\n",
    "    end = time.time()\n",
    "    processtime = end - start\n",
    "    print \"{0: .3}\".format(processtime)\n",
    "    "
   ]
  },
  {
   "cell_type": "code",
   "execution_count": 703,
   "metadata": {
    "collapsed": false
   },
   "outputs": [
    {
     "ename": "IOError",
     "evalue": "[Errno 22] invalid mode ('wb') or filename: 'J:\\\\Staff\\\\Jalal\\\\Monthly_Emp_Update_Scratch\\\\wa_esd_emp/wa-historical-employment-seasonally-adjusted_05192016.xlsx'",
     "output_type": "error",
     "traceback": [
      "\u001b[1;31m---------------------------------------------------------------------------\u001b[0m",
      "\u001b[1;31mIOError\u001b[0m                                   Traceback (most recent call last)",
      "\u001b[1;32m<ipython-input-703-805eca6809d1>\u001b[0m in \u001b[0;36m<module>\u001b[1;34m()\u001b[0m\n\u001b[1;32m----> 1\u001b[1;33m \u001b[0mdownload_esd_sa\u001b[0m\u001b[1;33m(\u001b[0m\u001b[1;33m)\u001b[0m\u001b[1;33m\u001b[0m\u001b[0m\n\u001b[0m",
      "\u001b[1;32m<ipython-input-702-b0b3fcaca614>\u001b[0m in \u001b[0;36mdownload_esd_sa\u001b[1;34m()\u001b[0m\n\u001b[0;32m      4\u001b[0m     \u001b[0mstart\u001b[0m \u001b[1;33m=\u001b[0m \u001b[0mtime\u001b[0m\u001b[1;33m.\u001b[0m\u001b[0mtime\u001b[0m\u001b[1;33m(\u001b[0m\u001b[1;33m)\u001b[0m\u001b[1;33m\u001b[0m\u001b[0m\n\u001b[0;32m      5\u001b[0m     \u001b[0mesdfile\u001b[0m \u001b[1;33m=\u001b[0m \u001b[0murllib\u001b[0m\u001b[1;33m.\u001b[0m\u001b[0mURLopener\u001b[0m\u001b[1;33m(\u001b[0m\u001b[1;33m)\u001b[0m\u001b[1;33m\u001b[0m\u001b[0m\n\u001b[1;32m----> 6\u001b[1;33m     \u001b[0mesdfile\u001b[0m\u001b[1;33m.\u001b[0m\u001b[0mretrieve\u001b[0m\u001b[1;33m(\u001b[0m\u001b[0mesd_sa_url\u001b[0m\u001b[1;33m,\u001b[0m \u001b[0mos\u001b[0m\u001b[1;33m.\u001b[0m\u001b[0mgetcwd\u001b[0m\u001b[1;33m(\u001b[0m\u001b[1;33m)\u001b[0m\u001b[1;33m+\u001b[0m\u001b[1;34m\"/\"\u001b[0m\u001b[1;33m+\u001b[0m \u001b[0msa_filename\u001b[0m\u001b[1;33m)\u001b[0m\u001b[1;33m\u001b[0m\u001b[0m\n\u001b[0m\u001b[0;32m      7\u001b[0m     \u001b[0mend\u001b[0m \u001b[1;33m=\u001b[0m \u001b[0mtime\u001b[0m\u001b[1;33m.\u001b[0m\u001b[0mtime\u001b[0m\u001b[1;33m(\u001b[0m\u001b[1;33m)\u001b[0m\u001b[1;33m\u001b[0m\u001b[0m\n\u001b[0;32m      8\u001b[0m     \u001b[0mprocesstime\u001b[0m \u001b[1;33m=\u001b[0m \u001b[0mend\u001b[0m \u001b[1;33m-\u001b[0m \u001b[0mstart\u001b[0m\u001b[1;33m\u001b[0m\u001b[0m\n",
      "\u001b[1;32mC:\\Anaconda2\\lib\\urllib.pyc\u001b[0m in \u001b[0;36mretrieve\u001b[1;34m(self, url, filename, reporthook, data)\u001b[0m\n\u001b[0;32m    247\u001b[0m             \u001b[0mheaders\u001b[0m \u001b[1;33m=\u001b[0m \u001b[0mfp\u001b[0m\u001b[1;33m.\u001b[0m\u001b[0minfo\u001b[0m\u001b[1;33m(\u001b[0m\u001b[1;33m)\u001b[0m\u001b[1;33m\u001b[0m\u001b[0m\n\u001b[0;32m    248\u001b[0m             \u001b[1;32mif\u001b[0m \u001b[0mfilename\u001b[0m\u001b[1;33m:\u001b[0m\u001b[1;33m\u001b[0m\u001b[0m\n\u001b[1;32m--> 249\u001b[1;33m                 \u001b[0mtfp\u001b[0m \u001b[1;33m=\u001b[0m \u001b[0mopen\u001b[0m\u001b[1;33m(\u001b[0m\u001b[0mfilename\u001b[0m\u001b[1;33m,\u001b[0m \u001b[1;34m'wb'\u001b[0m\u001b[1;33m)\u001b[0m\u001b[1;33m\u001b[0m\u001b[0m\n\u001b[0m\u001b[0;32m    250\u001b[0m             \u001b[1;32melse\u001b[0m\u001b[1;33m:\u001b[0m\u001b[1;33m\u001b[0m\u001b[0m\n\u001b[0;32m    251\u001b[0m                 \u001b[1;32mimport\u001b[0m \u001b[0mtempfile\u001b[0m\u001b[1;33m\u001b[0m\u001b[0m\n",
      "\u001b[1;31mIOError\u001b[0m: [Errno 22] invalid mode ('wb') or filename: 'J:\\\\Staff\\\\Jalal\\\\Monthly_Emp_Update_Scratch\\\\wa_esd_emp/wa-historical-employment-seasonally-adjusted_05192016.xlsx'"
     ]
    }
   ],
   "source": [
    "download_esd_sa()"
   ]
  },
  {
   "cell_type": "code",
   "execution_count": 13,
   "metadata": {
    "collapsed": true
   },
   "outputs": [
    {
     "name": "stdout",
     "output_type": "stream",
     "text": [
      "Help on module urllib:\n",
      "\n",
      "NAME\n",
      "    urllib - Open an arbitrary URL.\n",
      "\n",
      "FILE\n",
      "    c:\\users\\jalal\\anaconda2\\lib\\urllib.py\n",
      "\n",
      "DESCRIPTION\n",
      "    See the following document for more info on URLs:\n",
      "    \"Names and Addresses, URIs, URLs, URNs, URCs\", at\n",
      "    http://www.w3.org/pub/WWW/Addressing/Overview.html\n",
      "    \n",
      "    See also the HTTP spec (from which the error codes are derived):\n",
      "    \"HTTP - Hypertext Transfer Protocol\", at\n",
      "    http://www.w3.org/pub/WWW/Protocols/\n",
      "    \n",
      "    Related standards and specs:\n",
      "    - RFC1808: the \"relative URL\" spec. (authoritative status)\n",
      "    - RFC1738 - the \"URL standard\". (authoritative status)\n",
      "    - RFC1630 - the \"URI spec\". (informational status)\n",
      "    \n",
      "    The object returned by URLopener().open(file) will differ per\n",
      "    protocol.  All you know is that is has methods read(), readline(),\n",
      "    readlines(), fileno(), close() and info().  The read*(), fileno()\n",
      "    and close() methods work like those of open files.\n",
      "    The info() method returns a mimetools.Message object which can be\n",
      "    used to query various info about the object, if available.\n",
      "    (mimetools.Message objects are queried with the getheader() method.)\n",
      "\n",
      "CLASSES\n",
      "    URLopener\n",
      "        FancyURLopener\n",
      "    \n",
      "    class FancyURLopener(URLopener)\n",
      "     |  Derived class with handlers for errors we can handle (perhaps).\n",
      "     |  \n",
      "     |  Methods defined here:\n",
      "     |  \n",
      "     |  __init__(self, *args, **kwargs)\n",
      "     |  \n",
      "     |  get_user_passwd(self, host, realm, clear_cache=0)\n",
      "     |  \n",
      "     |  http_error_301(self, url, fp, errcode, errmsg, headers, data=None)\n",
      "     |      Error 301 -- also relocated (permanently).\n",
      "     |  \n",
      "     |  http_error_302(self, url, fp, errcode, errmsg, headers, data=None)\n",
      "     |      Error 302 -- relocated (temporarily).\n",
      "     |  \n",
      "     |  http_error_303(self, url, fp, errcode, errmsg, headers, data=None)\n",
      "     |      Error 303 -- also relocated (essentially identical to 302).\n",
      "     |  \n",
      "     |  http_error_307(self, url, fp, errcode, errmsg, headers, data=None)\n",
      "     |      Error 307 -- relocated, but turn POST into error.\n",
      "     |  \n",
      "     |  http_error_401(self, url, fp, errcode, errmsg, headers, data=None)\n",
      "     |      Error 401 -- authentication required.\n",
      "     |      This function supports Basic authentication only.\n",
      "     |  \n",
      "     |  http_error_407(self, url, fp, errcode, errmsg, headers, data=None)\n",
      "     |      Error 407 -- proxy authentication required.\n",
      "     |      This function supports Basic authentication only.\n",
      "     |  \n",
      "     |  http_error_default(self, url, fp, errcode, errmsg, headers)\n",
      "     |      Default error handling -- don't raise an exception.\n",
      "     |  \n",
      "     |  prompt_user_passwd(self, host, realm)\n",
      "     |      Override this in a GUI environment!\n",
      "     |  \n",
      "     |  redirect_internal(self, url, fp, errcode, errmsg, headers, data)\n",
      "     |  \n",
      "     |  retry_http_basic_auth(self, url, realm, data=None)\n",
      "     |  \n",
      "     |  retry_https_basic_auth(self, url, realm, data=None)\n",
      "     |  \n",
      "     |  retry_proxy_http_basic_auth(self, url, realm, data=None)\n",
      "     |  \n",
      "     |  retry_proxy_https_basic_auth(self, url, realm, data=None)\n",
      "     |  \n",
      "     |  ----------------------------------------------------------------------\n",
      "     |  Methods inherited from URLopener:\n",
      "     |  \n",
      "     |  __del__(self)\n",
      "     |  \n",
      "     |  addheader(self, *args)\n",
      "     |      Add a header to be used by the HTTP interface only\n",
      "     |      e.g. u.addheader('Accept', 'sound/basic')\n",
      "     |  \n",
      "     |  cleanup(self)\n",
      "     |  \n",
      "     |  close(self)\n",
      "     |  \n",
      "     |  http_error(self, url, fp, errcode, errmsg, headers, data=None)\n",
      "     |      Handle http errors.\n",
      "     |      Derived class can override this, or provide specific handlers\n",
      "     |      named http_error_DDD where DDD is the 3-digit error code.\n",
      "     |  \n",
      "     |  open(self, fullurl, data=None)\n",
      "     |      Use URLopener().open(file) instead of open(file, 'r').\n",
      "     |  \n",
      "     |  open_data(self, url, data=None)\n",
      "     |      Use \"data\" URL.\n",
      "     |  \n",
      "     |  open_file(self, url)\n",
      "     |      Use local file or FTP depending on form of URL.\n",
      "     |  \n",
      "     |  open_ftp(self, url)\n",
      "     |      Use FTP protocol.\n",
      "     |  \n",
      "     |  open_http(self, url, data=None)\n",
      "     |      Use HTTP protocol.\n",
      "     |  \n",
      "     |  open_https(self, url, data=None)\n",
      "     |      Use HTTPS protocol.\n",
      "     |  \n",
      "     |  open_local_file(self, url)\n",
      "     |      Use local file.\n",
      "     |  \n",
      "     |  open_unknown(self, fullurl, data=None)\n",
      "     |      Overridable interface to open unknown URL type.\n",
      "     |  \n",
      "     |  open_unknown_proxy(self, proxy, fullurl, data=None)\n",
      "     |      Overridable interface to open unknown URL type.\n",
      "     |  \n",
      "     |  retrieve(self, url, filename=None, reporthook=None, data=None)\n",
      "     |      retrieve(url) returns (filename, headers) for a local object\n",
      "     |      or (tempfilename, headers) for a remote object.\n",
      "     |  \n",
      "     |  ----------------------------------------------------------------------\n",
      "     |  Data and other attributes inherited from URLopener:\n",
      "     |  \n",
      "     |  version = 'Python-urllib/1.17'\n",
      "    \n",
      "    class URLopener\n",
      "     |  Class to open URLs.\n",
      "     |  This is a class rather than just a subroutine because we may need\n",
      "     |  more than one set of global protocol-specific options.\n",
      "     |  Note -- this is a base class for those who don't want the\n",
      "     |  automatic handling of errors type 302 (relocated) and 401\n",
      "     |  (authorization needed).\n",
      "     |  \n",
      "     |  Methods defined here:\n",
      "     |  \n",
      "     |  __del__(self)\n",
      "     |  \n",
      "     |  __init__(self, proxies=None, context=None, **x509)\n",
      "     |      # Constructor\n",
      "     |  \n",
      "     |  addheader(self, *args)\n",
      "     |      Add a header to be used by the HTTP interface only\n",
      "     |      e.g. u.addheader('Accept', 'sound/basic')\n",
      "     |  \n",
      "     |  cleanup(self)\n",
      "     |  \n",
      "     |  close(self)\n",
      "     |  \n",
      "     |  http_error(self, url, fp, errcode, errmsg, headers, data=None)\n",
      "     |      Handle http errors.\n",
      "     |      Derived class can override this, or provide specific handlers\n",
      "     |      named http_error_DDD where DDD is the 3-digit error code.\n",
      "     |  \n",
      "     |  http_error_default(self, url, fp, errcode, errmsg, headers)\n",
      "     |      Default error handler: close the connection and raise IOError.\n",
      "     |  \n",
      "     |  open(self, fullurl, data=None)\n",
      "     |      Use URLopener().open(file) instead of open(file, 'r').\n",
      "     |  \n",
      "     |  open_data(self, url, data=None)\n",
      "     |      Use \"data\" URL.\n",
      "     |  \n",
      "     |  open_file(self, url)\n",
      "     |      Use local file or FTP depending on form of URL.\n",
      "     |  \n",
      "     |  open_ftp(self, url)\n",
      "     |      Use FTP protocol.\n",
      "     |  \n",
      "     |  open_http(self, url, data=None)\n",
      "     |      Use HTTP protocol.\n",
      "     |  \n",
      "     |  open_https(self, url, data=None)\n",
      "     |      Use HTTPS protocol.\n",
      "     |  \n",
      "     |  open_local_file(self, url)\n",
      "     |      Use local file.\n",
      "     |  \n",
      "     |  open_unknown(self, fullurl, data=None)\n",
      "     |      Overridable interface to open unknown URL type.\n",
      "     |  \n",
      "     |  open_unknown_proxy(self, proxy, fullurl, data=None)\n",
      "     |      Overridable interface to open unknown URL type.\n",
      "     |  \n",
      "     |  retrieve(self, url, filename=None, reporthook=None, data=None)\n",
      "     |      retrieve(url) returns (filename, headers) for a local object\n",
      "     |      or (tempfilename, headers) for a remote object.\n",
      "     |  \n",
      "     |  ----------------------------------------------------------------------\n",
      "     |  Data and other attributes defined here:\n",
      "     |  \n",
      "     |  version = 'Python-urllib/1.17'\n",
      "\n",
      "FUNCTIONS\n",
      "    basejoin = urljoin(base, url, allow_fragments=True)\n",
      "        Join a base URL and a possibly relative URL to form an absolute\n",
      "        interpretation of the latter.\n",
      "    \n",
      "    ftperrors()\n",
      "        Return the set of errors raised by the FTP class.\n",
      "    \n",
      "    getproxies()\n",
      "        Return a dictionary of scheme -> proxy server URL mappings.\n",
      "        \n",
      "        Returns settings gathered from the environment, if specified,\n",
      "        or the registry.\n",
      "    \n",
      "    localhost()\n",
      "        Return the IP address of the magic hostname 'localhost'.\n",
      "    \n",
      "    pathname2url(p)\n",
      "        OS-specific conversion from a file system path to a relative URL\n",
      "        of the 'file' scheme; not recommended for general use.\n",
      "    \n",
      "    quote(s, safe='/')\n",
      "        quote('abc def') -> 'abc%20def'\n",
      "        \n",
      "        Each part of a URL, e.g. the path info, the query, etc., has a\n",
      "        different set of reserved characters that must be quoted.\n",
      "        \n",
      "        RFC 2396 Uniform Resource Identifiers (URI): Generic Syntax lists\n",
      "        the following reserved characters.\n",
      "        \n",
      "        reserved    = \";\" | \"/\" | \"?\" | \":\" | \"@\" | \"&\" | \"=\" | \"+\" |\n",
      "                      \"$\" | \",\"\n",
      "        \n",
      "        Each of these characters is reserved in some component of a URL,\n",
      "        but not necessarily in all of them.\n",
      "        \n",
      "        By default, the quote function is intended for quoting the path\n",
      "        section of a URL.  Thus, it will not encode '/'.  This character\n",
      "        is reserved, but in typical usage the quote function is being\n",
      "        called on a path where the existing slash characters are used as\n",
      "        reserved characters.\n",
      "    \n",
      "    quote_plus(s, safe='')\n",
      "        Quote the query fragment of a URL; replacing ' ' with '+'\n",
      "    \n",
      "    splitattr(url)\n",
      "        splitattr('/path;attr1=value1;attr2=value2;...') ->\n",
      "        '/path', ['attr1=value1', 'attr2=value2', ...].\n",
      "    \n",
      "    splithost(url)\n",
      "        splithost('//host[:port]/path') --> 'host[:port]', '/path'.\n",
      "    \n",
      "    splitnport(host, defport=-1)\n",
      "        Split host and port, returning numeric port.\n",
      "        Return given default port if no ':' found; defaults to -1.\n",
      "        Return numerical port if a valid number are found after ':'.\n",
      "        Return None if ':' but not a valid number.\n",
      "    \n",
      "    splitpasswd(user)\n",
      "        splitpasswd('user:passwd') -> 'user', 'passwd'.\n",
      "    \n",
      "    splitport(host)\n",
      "        splitport('host:port') --> 'host', 'port'.\n",
      "    \n",
      "    splitquery(url)\n",
      "        splitquery('/path?query') --> '/path', 'query'.\n",
      "    \n",
      "    splittag(url)\n",
      "        splittag('/path#tag') --> '/path', 'tag'.\n",
      "    \n",
      "    splittype(url)\n",
      "        splittype('type:opaquestring') --> 'type', 'opaquestring'.\n",
      "    \n",
      "    splituser(host)\n",
      "        splituser('user[:passwd]@host[:port]') --> 'user[:passwd]', 'host[:port]'.\n",
      "    \n",
      "    splitvalue(attr)\n",
      "        splitvalue('attr=value') --> 'attr', 'value'.\n",
      "    \n",
      "    thishost()\n",
      "        Return the IP address of the current host.\n",
      "    \n",
      "    unquote(s)\n",
      "        unquote('abc%20def') -> 'abc def'.\n",
      "    \n",
      "    unquote_plus(s)\n",
      "        unquote('%7e/abc+def') -> '~/abc def'\n",
      "    \n",
      "    unwrap(url)\n",
      "        unwrap('<URL:type://host/path>') --> 'type://host/path'.\n",
      "    \n",
      "    url2pathname(url)\n",
      "        OS-specific conversion from a relative URL of the 'file' scheme\n",
      "        to a file system path; not recommended for general use.\n",
      "    \n",
      "    urlcleanup()\n",
      "    \n",
      "    urlencode(query, doseq=0)\n",
      "        Encode a sequence of two-element tuples or dictionary into a URL query string.\n",
      "        \n",
      "        If any values in the query arg are sequences and doseq is true, each\n",
      "        sequence element is converted to a separate parameter.\n",
      "        \n",
      "        If the query arg is a sequence of two-element tuples, the order of the\n",
      "        parameters in the output will match the order of parameters in the\n",
      "        input.\n",
      "    \n",
      "    urlopen(url, data=None, proxies=None, context=None)\n",
      "        Create a file-like object for the specified URL to read from.\n",
      "    \n",
      "    urlretrieve(url, filename=None, reporthook=None, data=None, context=None)\n",
      "\n",
      "DATA\n",
      "    __all__ = ['urlopen', 'URLopener', 'FancyURLopener', 'urlretrieve', 'u...\n",
      "    __version__ = '1.17'\n",
      "\n",
      "VERSION\n",
      "    1.17\n",
      "\n",
      "\n"
     ]
    }
   ],
   "source": [
    "help (urllib)"
   ]
  },
  {
   "cell_type": "code",
   "execution_count": 699,
   "metadata": {
    "collapsed": false
   },
   "outputs": [
    {
     "ename": "SyntaxError",
     "evalue": "EOL while scanning string literal (<ipython-input-699-3f1d159a2ed2>, line 1)",
     "output_type": "error",
     "traceback": [
      "\u001b[1;36m  File \u001b[1;32m\"<ipython-input-699-3f1d159a2ed2>\"\u001b[1;36m, line \u001b[1;32m1\u001b[0m\n\u001b[1;33m    esd_sa_file = pd.ExcelFile(os.getcwd()+\"\\\"+ sa_filename)\u001b[0m\n\u001b[1;37m                                                           ^\u001b[0m\n\u001b[1;31mSyntaxError\u001b[0m\u001b[1;31m:\u001b[0m EOL while scanning string literal\n"
     ]
    }
   ],
   "source": [
    "esd_sa_file = pd.ExcelFile(os.getcwd()+\"\\\"+ sa_filename)"
   ]
  },
  {
   "cell_type": "code",
   "execution_count": null,
   "metadata": {
    "collapsed": true
   },
   "outputs": [],
   "source": [
    "dfs = {sheet_name: xl_file.parse(sheet_name) \n",
    "          for sheet_name in xl_file.sheet_names}"
   ]
  },
  {
   "cell_type": "code",
   "execution_count": null,
   "metadata": {
    "collapsed": true
   },
   "outputs": [],
   "source": []
  },
  {
   "cell_type": "code",
   "execution_count": null,
   "metadata": {
    "collapsed": true
   },
   "outputs": [],
   "source": []
  },
  {
   "cell_type": "code",
   "execution_count": 664,
   "metadata": {
    "collapsed": false
   },
   "outputs": [],
   "source": [
    "df_sa_kin_sno = pd.read_excel(os.getcwd()+\"/\"+ sa_filename, sheetname=\"Seattle MSA\", header = 1, index_col=[1])\n"
   ]
  },
  {
   "cell_type": "code",
   "execution_count": 665,
   "metadata": {
    "collapsed": false
   },
   "outputs": [
    {
     "data": {
      "text/plain": [
       "pandas.core.frame.DataFrame"
      ]
     },
     "execution_count": 665,
     "metadata": {},
     "output_type": "execute_result"
    }
   ],
   "source": [
    "type(df_sa_kin_sno)"
   ]
  },
  {
   "cell_type": "code",
   "execution_count": 666,
   "metadata": {
    "collapsed": true
   },
   "outputs": [
    {
     "data": {
      "text/html": [
       "<div>\n",
       "<table border=\"1\" class=\"dataframe\">\n",
       "  <thead>\n",
       "    <tr style=\"text-align: right;\">\n",
       "      <th></th>\n",
       "      <th>NAICS CELL</th>\n",
       "      <th>1990-01-01 00:00:00</th>\n",
       "      <th>1990-02-01 00:00:00</th>\n",
       "      <th>1990-03-01 00:00:00</th>\n",
       "      <th>1990-04-01 00:00:00</th>\n",
       "      <th>1990-05-01 00:00:00</th>\n",
       "      <th>1990-06-01 00:00:00</th>\n",
       "      <th>1990-07-01 00:00:00</th>\n",
       "      <th>1990-08-01 00:00:00</th>\n",
       "      <th>1990-09-01 00:00:00</th>\n",
       "      <th>...</th>\n",
       "      <th>2015-07-01 00:00:00</th>\n",
       "      <th>2015-08-01 00:00:00</th>\n",
       "      <th>2015-09-01 00:00:00</th>\n",
       "      <th>2015-10-01 00:00:00</th>\n",
       "      <th>2015-11-01 00:00:00</th>\n",
       "      <th>2015-12-01 00:00:00</th>\n",
       "      <th>2016-01-01 00:00:00</th>\n",
       "      <th>2016-02-01 00:00:00</th>\n",
       "      <th>2016-03-01 00:00:00</th>\n",
       "      <th>2016-04-01 00:00:00</th>\n",
       "    </tr>\n",
       "    <tr>\n",
       "      <th>NAICS INDUSTRY</th>\n",
       "      <th></th>\n",
       "      <th></th>\n",
       "      <th></th>\n",
       "      <th></th>\n",
       "      <th></th>\n",
       "      <th></th>\n",
       "      <th></th>\n",
       "      <th></th>\n",
       "      <th></th>\n",
       "      <th></th>\n",
       "      <th></th>\n",
       "      <th></th>\n",
       "      <th></th>\n",
       "      <th></th>\n",
       "      <th></th>\n",
       "      <th></th>\n",
       "      <th></th>\n",
       "      <th></th>\n",
       "      <th></th>\n",
       "      <th></th>\n",
       "      <th></th>\n",
       "    </tr>\n",
       "  </thead>\n",
       "  <tbody>\n",
       "    <tr>\n",
       "      <th>Total Nonfarm</th>\n",
       "      <td>0</td>\n",
       "      <td>1096300</td>\n",
       "      <td>1098400</td>\n",
       "      <td>1101600</td>\n",
       "      <td>1103100</td>\n",
       "      <td>1106100</td>\n",
       "      <td>1111200</td>\n",
       "      <td>1113900</td>\n",
       "      <td>1119000</td>\n",
       "      <td>1115500</td>\n",
       "      <td>...</td>\n",
       "      <td>1596400</td>\n",
       "      <td>1602200</td>\n",
       "      <td>1606100</td>\n",
       "      <td>1606300</td>\n",
       "      <td>1608600</td>\n",
       "      <td>1614000</td>\n",
       "      <td>1619100</td>\n",
       "      <td>1627000</td>\n",
       "      <td>1629200</td>\n",
       "      <td>1634100</td>\n",
       "    </tr>\n",
       "    <tr>\n",
       "      <th>Total Private</th>\n",
       "      <td>5000000</td>\n",
       "      <td>951400</td>\n",
       "      <td>952200</td>\n",
       "      <td>956300</td>\n",
       "      <td>957600</td>\n",
       "      <td>960200</td>\n",
       "      <td>964400</td>\n",
       "      <td>966700</td>\n",
       "      <td>967500</td>\n",
       "      <td>967100</td>\n",
       "      <td>...</td>\n",
       "      <td>1383400</td>\n",
       "      <td>1386100</td>\n",
       "      <td>1390600</td>\n",
       "      <td>1391800</td>\n",
       "      <td>1393700</td>\n",
       "      <td>1399100</td>\n",
       "      <td>1406100</td>\n",
       "      <td>1412000</td>\n",
       "      <td>1412900</td>\n",
       "      <td>1417600</td>\n",
       "    </tr>\n",
       "    <tr>\n",
       "      <th>Goods Producing</th>\n",
       "      <td>6000000</td>\n",
       "      <td>277800</td>\n",
       "      <td>276800</td>\n",
       "      <td>278100</td>\n",
       "      <td>277300</td>\n",
       "      <td>277400</td>\n",
       "      <td>277900</td>\n",
       "      <td>278800</td>\n",
       "      <td>278100</td>\n",
       "      <td>277500</td>\n",
       "      <td>...</td>\n",
       "      <td>258900</td>\n",
       "      <td>257400</td>\n",
       "      <td>257500</td>\n",
       "      <td>257100</td>\n",
       "      <td>257700</td>\n",
       "      <td>259500</td>\n",
       "      <td>258700</td>\n",
       "      <td>259500</td>\n",
       "      <td>260100</td>\n",
       "      <td>259500</td>\n",
       "    </tr>\n",
       "    <tr>\n",
       "      <th>Mining and Logging</th>\n",
       "      <td>10000000</td>\n",
       "      <td>1900</td>\n",
       "      <td>1900</td>\n",
       "      <td>1900</td>\n",
       "      <td>2000</td>\n",
       "      <td>2000</td>\n",
       "      <td>2000</td>\n",
       "      <td>2000</td>\n",
       "      <td>2000</td>\n",
       "      <td>2000</td>\n",
       "      <td>...</td>\n",
       "      <td>800</td>\n",
       "      <td>700</td>\n",
       "      <td>800</td>\n",
       "      <td>800</td>\n",
       "      <td>800</td>\n",
       "      <td>800</td>\n",
       "      <td>800</td>\n",
       "      <td>800</td>\n",
       "      <td>800</td>\n",
       "      <td>800</td>\n",
       "    </tr>\n",
       "    <tr>\n",
       "      <th>Construction</th>\n",
       "      <td>20000000</td>\n",
       "      <td>61900</td>\n",
       "      <td>61800</td>\n",
       "      <td>62600</td>\n",
       "      <td>63200</td>\n",
       "      <td>63700</td>\n",
       "      <td>63800</td>\n",
       "      <td>63200</td>\n",
       "      <td>62900</td>\n",
       "      <td>62600</td>\n",
       "      <td>...</td>\n",
       "      <td>86300</td>\n",
       "      <td>85500</td>\n",
       "      <td>85700</td>\n",
       "      <td>86600</td>\n",
       "      <td>87100</td>\n",
       "      <td>88600</td>\n",
       "      <td>89000</td>\n",
       "      <td>90900</td>\n",
       "      <td>91700</td>\n",
       "      <td>91100</td>\n",
       "    </tr>\n",
       "  </tbody>\n",
       "</table>\n",
       "<p>5 rows × 317 columns</p>\n",
       "</div>"
      ],
      "text/plain": [
       "                                    NAICS CELL  1990-01-01 00:00:00  \\\n",
       "NAICS INDUSTRY                                                        \n",
       "Total Nonfarm                                0              1096300   \n",
       "    Total Private                      5000000               951400   \n",
       "        Goods Producing                6000000               277800   \n",
       "                Mining and Logging    10000000                 1900   \n",
       "                Construction          20000000                61900   \n",
       "\n",
       "                                    1990-02-01 00:00:00  1990-03-01 00:00:00  \\\n",
       "NAICS INDUSTRY                                                                 \n",
       "Total Nonfarm                                   1098400              1101600   \n",
       "    Total Private                                952200               956300   \n",
       "        Goods Producing                          276800               278100   \n",
       "                Mining and Logging                 1900                 1900   \n",
       "                Construction                      61800                62600   \n",
       "\n",
       "                                    1990-04-01 00:00:00  1990-05-01 00:00:00  \\\n",
       "NAICS INDUSTRY                                                                 \n",
       "Total Nonfarm                                   1103100              1106100   \n",
       "    Total Private                                957600               960200   \n",
       "        Goods Producing                          277300               277400   \n",
       "                Mining and Logging                 2000                 2000   \n",
       "                Construction                      63200                63700   \n",
       "\n",
       "                                    1990-06-01 00:00:00  1990-07-01 00:00:00  \\\n",
       "NAICS INDUSTRY                                                                 \n",
       "Total Nonfarm                                   1111200              1113900   \n",
       "    Total Private                                964400               966700   \n",
       "        Goods Producing                          277900               278800   \n",
       "                Mining and Logging                 2000                 2000   \n",
       "                Construction                      63800                63200   \n",
       "\n",
       "                                    1990-08-01 00:00:00  1990-09-01 00:00:00  \\\n",
       "NAICS INDUSTRY                                                                 \n",
       "Total Nonfarm                                   1119000              1115500   \n",
       "    Total Private                                967500               967100   \n",
       "        Goods Producing                          278100               277500   \n",
       "                Mining and Logging                 2000                 2000   \n",
       "                Construction                      62900                62600   \n",
       "\n",
       "                                           ...           2015-07-01 00:00:00  \\\n",
       "NAICS INDUSTRY                             ...                                 \n",
       "Total Nonfarm                              ...                       1596400   \n",
       "    Total Private                          ...                       1383400   \n",
       "        Goods Producing                    ...                        258900   \n",
       "                Mining and Logging         ...                           800   \n",
       "                Construction               ...                         86300   \n",
       "\n",
       "                                    2015-08-01 00:00:00  2015-09-01 00:00:00  \\\n",
       "NAICS INDUSTRY                                                                 \n",
       "Total Nonfarm                                   1602200              1606100   \n",
       "    Total Private                               1386100              1390600   \n",
       "        Goods Producing                          257400               257500   \n",
       "                Mining and Logging                  700                  800   \n",
       "                Construction                      85500                85700   \n",
       "\n",
       "                                    2015-10-01 00:00:00  2015-11-01 00:00:00  \\\n",
       "NAICS INDUSTRY                                                                 \n",
       "Total Nonfarm                                   1606300              1608600   \n",
       "    Total Private                               1391800              1393700   \n",
       "        Goods Producing                          257100               257700   \n",
       "                Mining and Logging                  800                  800   \n",
       "                Construction                      86600                87100   \n",
       "\n",
       "                                    2015-12-01 00:00:00  2016-01-01 00:00:00  \\\n",
       "NAICS INDUSTRY                                                                 \n",
       "Total Nonfarm                                   1614000              1619100   \n",
       "    Total Private                               1399100              1406100   \n",
       "        Goods Producing                          259500               258700   \n",
       "                Mining and Logging                  800                  800   \n",
       "                Construction                      88600                89000   \n",
       "\n",
       "                                    2016-02-01 00:00:00  2016-03-01 00:00:00  \\\n",
       "NAICS INDUSTRY                                                                 \n",
       "Total Nonfarm                                   1627000              1629200   \n",
       "    Total Private                               1412000              1412900   \n",
       "        Goods Producing                          259500               260100   \n",
       "                Mining and Logging                  800                  800   \n",
       "                Construction                      90900                91700   \n",
       "\n",
       "                                    2016-04-01 00:00:00  \n",
       "NAICS INDUSTRY                                           \n",
       "Total Nonfarm                                   1634100  \n",
       "    Total Private                               1417600  \n",
       "        Goods Producing                          259500  \n",
       "                Mining and Logging                  800  \n",
       "                Construction                      91100  \n",
       "\n",
       "[5 rows x 317 columns]"
      ]
     },
     "execution_count": 666,
     "metadata": {},
     "output_type": "execute_result"
    }
   ],
   "source": [
    "df_sa_kin_sno.head()"
   ]
  },
  {
   "cell_type": "code",
   "execution_count": null,
   "metadata": {
    "collapsed": true
   },
   "outputs": [],
   "source": []
  },
  {
   "cell_type": "code",
   "execution_count": null,
   "metadata": {
    "collapsed": true
   },
   "outputs": [],
   "source": []
  },
  {
   "cell_type": "code",
   "execution_count": 667,
   "metadata": {
    "collapsed": false
   },
   "outputs": [],
   "source": [
    "#transpose the dataframe\n",
    "\n",
    "df_sa_kin_sno = df_sa_kin_sno.transpose()"
   ]
  },
  {
   "cell_type": "code",
   "execution_count": 668,
   "metadata": {
    "collapsed": true
   },
   "outputs": [],
   "source": [
    "#transposing caused the date column to be the index column, so\n",
    "#extracting the date information to another column named \"date_stamp\"\n",
    "\n",
    "df_sa_kin_sno['date_stamp'] = df_sa_kin_sno.index"
   ]
  },
  {
   "cell_type": "code",
   "execution_count": 669,
   "metadata": {
    "collapsed": true
   },
   "outputs": [],
   "source": [
    "#deleting the first data row (not the header) containing NAICS info \n",
    "#entirely for formatting purposes \n",
    "\n",
    "df_sa_kin_sno = df_sa_kin_sno.ix[1:]"
   ]
  },
  {
   "cell_type": "code",
   "execution_count": 670,
   "metadata": {
    "collapsed": false
   },
   "outputs": [],
   "source": [
    "#Resetting the index of the dataframe\n",
    "#as we already copied the date info into another column, nothing to worry\n",
    "\n",
    "df_sa_kin_sno = df_sa_kin_sno.reset_index(drop =True)\n",
    "\n",
    "#renaming the index colum from \"NAICS Industy\" to \"id\" \n",
    "\n",
    "df_sa_kin_sno.columns.names = [\"id\"]"
   ]
  },
  {
   "cell_type": "code",
   "execution_count": 671,
   "metadata": {
    "collapsed": false
   },
   "outputs": [],
   "source": [
    "#get a column for year and one for month (note the foramting for month)\n",
    "df_sa_kin_sno[\"year\"] = df_sa_kin_sno[\"date_stamp\"].dt.year\n",
    "df_sa_kin_sno[\"month\"] = df_sa_kin_sno[\"date_stamp\"].dt.strftime(\"%b\")\n",
    "\n",
    "#get the month column to string (not essential)\n",
    "df_sa_kin_sno[\"month\"] = df_sa_kin_sno[\"month\"].astype(\"str\")"
   ]
  },
  {
   "cell_type": "code",
   "execution_count": 672,
   "metadata": {
    "collapsed": true
   },
   "outputs": [
    {
     "data": {
      "text/html": [
       "<div>\n",
       "<table border=\"1\" class=\"dataframe\">\n",
       "  <thead>\n",
       "    <tr style=\"text-align: right;\">\n",
       "      <th>id</th>\n",
       "      <th>Total Nonfarm</th>\n",
       "      <th>Total Private</th>\n",
       "      <th>Goods Producing</th>\n",
       "      <th>Mining and Logging</th>\n",
       "      <th>Construction</th>\n",
       "      <th>Construction of Buildings</th>\n",
       "      <th>Heavy and Civil Engineering Construction</th>\n",
       "      <th>Specialty Trade Contractors</th>\n",
       "      <th>Manufacturing</th>\n",
       "      <th>Durable Goods Mfg</th>\n",
       "      <th>...</th>\n",
       "      <th>Membership Associations and Organizations</th>\n",
       "      <th>Government</th>\n",
       "      <th>Federal Government</th>\n",
       "      <th>Total State Government</th>\n",
       "      <th>State Government Educational Services</th>\n",
       "      <th>Total Local Government</th>\n",
       "      <th>Local Government Educational Services</th>\n",
       "      <th>date_stamp</th>\n",
       "      <th>year</th>\n",
       "      <th>month</th>\n",
       "    </tr>\n",
       "  </thead>\n",
       "  <tbody>\n",
       "    <tr>\n",
       "      <th>311</th>\n",
       "      <td>1614000</td>\n",
       "      <td>1399100</td>\n",
       "      <td>259500</td>\n",
       "      <td>800</td>\n",
       "      <td>88600</td>\n",
       "      <td>22900</td>\n",
       "      <td>8100</td>\n",
       "      <td>57600</td>\n",
       "      <td>170100</td>\n",
       "      <td>142300</td>\n",
       "      <td>...</td>\n",
       "      <td>27300</td>\n",
       "      <td>214900</td>\n",
       "      <td>22100</td>\n",
       "      <td>66100</td>\n",
       "      <td>48900</td>\n",
       "      <td>126700</td>\n",
       "      <td>55400</td>\n",
       "      <td>2015-12-01 00:00:00</td>\n",
       "      <td>2015</td>\n",
       "      <td>Dec</td>\n",
       "    </tr>\n",
       "    <tr>\n",
       "      <th>312</th>\n",
       "      <td>1619100</td>\n",
       "      <td>1406100</td>\n",
       "      <td>258700</td>\n",
       "      <td>800</td>\n",
       "      <td>89000</td>\n",
       "      <td>23000</td>\n",
       "      <td>8000</td>\n",
       "      <td>58000</td>\n",
       "      <td>168900</td>\n",
       "      <td>141100</td>\n",
       "      <td>...</td>\n",
       "      <td>27800</td>\n",
       "      <td>213000</td>\n",
       "      <td>22100</td>\n",
       "      <td>64400</td>\n",
       "      <td>47400</td>\n",
       "      <td>126500</td>\n",
       "      <td>55200</td>\n",
       "      <td>2016-01-01 00:00:00</td>\n",
       "      <td>2016</td>\n",
       "      <td>Jan</td>\n",
       "    </tr>\n",
       "    <tr>\n",
       "      <th>313</th>\n",
       "      <td>1627000</td>\n",
       "      <td>1412000</td>\n",
       "      <td>259500</td>\n",
       "      <td>800</td>\n",
       "      <td>90900</td>\n",
       "      <td>23400</td>\n",
       "      <td>8200</td>\n",
       "      <td>59300</td>\n",
       "      <td>167800</td>\n",
       "      <td>139900</td>\n",
       "      <td>...</td>\n",
       "      <td>28000</td>\n",
       "      <td>215000</td>\n",
       "      <td>22100</td>\n",
       "      <td>65800</td>\n",
       "      <td>48700</td>\n",
       "      <td>127100</td>\n",
       "      <td>55400</td>\n",
       "      <td>2016-02-01 00:00:00</td>\n",
       "      <td>2016</td>\n",
       "      <td>Feb</td>\n",
       "    </tr>\n",
       "    <tr>\n",
       "      <th>314</th>\n",
       "      <td>1629200</td>\n",
       "      <td>1412900</td>\n",
       "      <td>260100</td>\n",
       "      <td>800</td>\n",
       "      <td>91700</td>\n",
       "      <td>23400</td>\n",
       "      <td>8200</td>\n",
       "      <td>60100</td>\n",
       "      <td>167600</td>\n",
       "      <td>139300</td>\n",
       "      <td>...</td>\n",
       "      <td>27800</td>\n",
       "      <td>216300</td>\n",
       "      <td>22000</td>\n",
       "      <td>65800</td>\n",
       "      <td>48600</td>\n",
       "      <td>128500</td>\n",
       "      <td>55700</td>\n",
       "      <td>2016-03-01 00:00:00</td>\n",
       "      <td>2016</td>\n",
       "      <td>Mar</td>\n",
       "    </tr>\n",
       "    <tr>\n",
       "      <th>315</th>\n",
       "      <td>1634100</td>\n",
       "      <td>1417600</td>\n",
       "      <td>259500</td>\n",
       "      <td>800</td>\n",
       "      <td>91100</td>\n",
       "      <td>24400</td>\n",
       "      <td>8300</td>\n",
       "      <td>58400</td>\n",
       "      <td>167600</td>\n",
       "      <td>139300</td>\n",
       "      <td>...</td>\n",
       "      <td>28100</td>\n",
       "      <td>216500</td>\n",
       "      <td>22000</td>\n",
       "      <td>65500</td>\n",
       "      <td>48300</td>\n",
       "      <td>129000</td>\n",
       "      <td>55900</td>\n",
       "      <td>2016-04-01 00:00:00</td>\n",
       "      <td>2016</td>\n",
       "      <td>Apr</td>\n",
       "    </tr>\n",
       "  </tbody>\n",
       "</table>\n",
       "<p>5 rows × 71 columns</p>\n",
       "</div>"
      ],
      "text/plain": [
       "id   Total Nonfarm      Total Private          Goods Producing  \\\n",
       "311        1614000            1399100                   259500   \n",
       "312        1619100            1406100                   258700   \n",
       "313        1627000            1412000                   259500   \n",
       "314        1629200            1412900                   260100   \n",
       "315        1634100            1417600                   259500   \n",
       "\n",
       "id                   Mining and Logging                  Construction  \\\n",
       "311                                 800                         88600   \n",
       "312                                 800                         89000   \n",
       "313                                 800                         90900   \n",
       "314                                 800                         91700   \n",
       "315                                 800                         91100   \n",
       "\n",
       "id                       Construction of Buildings  \\\n",
       "311                                          22900   \n",
       "312                                          23000   \n",
       "313                                          23400   \n",
       "314                                          23400   \n",
       "315                                          24400   \n",
       "\n",
       "id                       Heavy and Civil Engineering Construction  \\\n",
       "311                                               8100              \n",
       "312                                               8000              \n",
       "313                                               8200              \n",
       "314                                               8200              \n",
       "315                                               8300              \n",
       "\n",
       "id                       Specialty Trade Contractors  \\\n",
       "311                                            57600   \n",
       "312                                            58000   \n",
       "313                                            59300   \n",
       "314                                            60100   \n",
       "315                                            58400   \n",
       "\n",
       "id                   Manufacturing                      Durable Goods Mfg  \\\n",
       "311                         170100                                 142300   \n",
       "312                         168900                                 141100   \n",
       "313                         167800                                 139900   \n",
       "314                         167600                                 139300   \n",
       "315                         167600                                 139300   \n",
       "\n",
       "id   ...                    Membership Associations and Organizations  \\\n",
       "311  ...                                                27300           \n",
       "312  ...                                                27800           \n",
       "313  ...                                                28000           \n",
       "314  ...                                                27800           \n",
       "315  ...                                                28100           \n",
       "\n",
       "id       Government                  Federal Government  \\\n",
       "311          214900                               22100   \n",
       "312          213000                               22100   \n",
       "313          215000                               22100   \n",
       "314          216300                               22000   \n",
       "315          216500                               22000   \n",
       "\n",
       "id                   Total State Government  \\\n",
       "311                                   66100   \n",
       "312                                   64400   \n",
       "313                                   65800   \n",
       "314                                   65800   \n",
       "315                                   65500   \n",
       "\n",
       "id                       State Government Educational Services  \\\n",
       "311                                              48900           \n",
       "312                                              47400           \n",
       "313                                              48700           \n",
       "314                                              48600           \n",
       "315                                              48300           \n",
       "\n",
       "id                   Total Local Government  \\\n",
       "311                                  126700   \n",
       "312                                  126500   \n",
       "313                                  127100   \n",
       "314                                  128500   \n",
       "315                                  129000   \n",
       "\n",
       "id                       Local Government Educational Services  \\\n",
       "311                                              55400           \n",
       "312                                              55200           \n",
       "313                                              55400           \n",
       "314                                              55700           \n",
       "315                                              55900           \n",
       "\n",
       "id            date_stamp  year  month  \n",
       "311  2015-12-01 00:00:00  2015    Dec  \n",
       "312  2016-01-01 00:00:00  2016    Jan  \n",
       "313  2016-02-01 00:00:00  2016    Feb  \n",
       "314  2016-03-01 00:00:00  2016    Mar  \n",
       "315  2016-04-01 00:00:00  2016    Apr  \n",
       "\n",
       "[5 rows x 71 columns]"
      ]
     },
     "execution_count": 672,
     "metadata": {},
     "output_type": "execute_result"
    }
   ],
   "source": [
    "df_sa_kin_sno.tail()"
   ]
  },
  {
   "cell_type": "code",
   "execution_count": 680,
   "metadata": {
    "collapsed": false
   },
   "outputs": [],
   "source": [
    "#get the list of column names, any of the options below works just fine\n",
    "# list(df_sa_kin_sno)\n",
    "# list(df_sa_kin_sno.columns.values)\n",
    "kin_sno_list = df_sa_kin_sno.columns.values.tolist()\n"
   ]
  },
  {
   "cell_type": "code",
   "execution_count": 681,
   "metadata": {
    "collapsed": false
   },
   "outputs": [
    {
     "data": {
      "text/plain": [
       "u'        Service Providing'"
      ]
     },
     "execution_count": 681,
     "metadata": {},
     "output_type": "execute_result"
    }
   ],
   "source": [
    "kin_sno_list[17]"
   ]
  },
  {
   "cell_type": "code",
   "execution_count": 682,
   "metadata": {
    "collapsed": false,
    "scrolled": true
   },
   "outputs": [
    {
     "data": {
      "text/plain": [
       "u'    Government'"
      ]
     },
     "execution_count": 682,
     "metadata": {},
     "output_type": "execute_result"
    }
   ],
   "source": [
    "kin_sno_list[62]"
   ]
  },
  {
   "cell_type": "code",
   "execution_count": 683,
   "metadata": {
    "collapsed": false
   },
   "outputs": [
    {
     "data": {
      "text/plain": [
       "u'                    State Government Educational Services'"
      ]
     },
     "execution_count": 683,
     "metadata": {},
     "output_type": "execute_result"
    }
   ],
   "source": [
    "kin_sno_list[65]"
   ]
  },
  {
   "cell_type": "code",
   "execution_count": 684,
   "metadata": {
    "collapsed": false
   },
   "outputs": [
    {
     "data": {
      "text/plain": [
       "'year'"
      ]
     },
     "execution_count": 684,
     "metadata": {},
     "output_type": "execute_result"
    }
   ],
   "source": [
    "kin_sno_list[69]"
   ]
  },
  {
   "cell_type": "code",
   "execution_count": 685,
   "metadata": {
    "collapsed": false,
    "scrolled": false
   },
   "outputs": [],
   "source": [
    "df_sa_kin_sno[\"king & Snohomish: Total NonFarm\"] = df_sa_kin_sno[\"Total Nonfarm\"] \n",
    "df_sa_kin_sno[\"King & Snohomish: Consruction\"] = df_sa_kin_sno[kin_sno_list[3]] + df_sa_kin_sno[kin_sno_list[4]]\n",
    "df_sa_kin_sno[\"King & Snohomish: FIRE\"] = df_sa_kin_sno[kin_sno_list[33]]\n",
    "df_sa_kin_sno[\"King & Snohomish: Manufacturing\"] = df_sa_kin_sno[kin_sno_list[8]]\n",
    "df_sa_kin_sno[\"King & Snohomish: Retail\"] = df_sa_kin_sno[kin_sno_list[20]]\n",
    "df_sa_kin_sno[\"King & Snohomish: Service\"] = df_sa_kin_sno[kin_sno_list[17]] - df_sa_kin_sno[kin_sno_list[18]] - df_sa_kin_sno[kin_sno_list[33]] - df_sa_kin_sno[kin_sno_list[62]]                                                     \n",
    "df_sa_kin_sno[\"King & Snohomish: WTU\"] = df_sa_kin_sno[kin_sno_list[18]] - df_sa_kin_sno[kin_sno_list[20]]\n",
    "df_sa_kin_sno[\"King & Snohomish: Government\"] = df_sa_kin_sno[kin_sno_list[62]] - df_sa_kin_sno[kin_sno_list[65]] - df_sa_kin_sno[kin_sno_list[67]]\n",
    "df_sa_kin_sno[\"King & Snohomish: Education\"] = df_sa_kin_sno[kin_sno_list[65]] + df_sa_kin_sno[kin_sno_list[67]]"
   ]
  },
  {
   "cell_type": "code",
   "execution_count": 373,
   "metadata": {
    "collapsed": false
   },
   "outputs": [],
   "source": [
    "#df_sa_kin_sno[\"Total Sector Jobs\"] = df_sa_kin_sno.ix[:,72:].sum(axis=1)"
   ]
  },
  {
   "cell_type": "code",
   "execution_count": 375,
   "metadata": {
    "collapsed": false
   },
   "outputs": [],
   "source": [
    "#df_sa_kin_sno[\"Total Private Sum\"] = df_sa_kin_sno.ix[:,72:-3].sum(axis= 1)"
   ]
  },
  {
   "cell_type": "code",
   "execution_count": 689,
   "metadata": {
    "collapsed": false
   },
   "outputs": [],
   "source": [
    "df_sa_kin_sno = df_sa_kin_sno.drop(df_sa_kin_sno.columns[:69], axis = 1)\n",
    "#df_sa_kin_sno = df_sa_kin_sno.drop(df_sa_kin_sno.columns[range(69)], axis = 1)"
   ]
  },
  {
   "cell_type": "code",
   "execution_count": 692,
   "metadata": {
    "collapsed": false
   },
   "outputs": [],
   "source": [
    "df_sa_kin_sno = df_sa_kin_sno.drop(df_sa_kin_sno.index[[315]])"
   ]
  },
  {
   "cell_type": "code",
   "execution_count": 697,
   "metadata": {
    "collapsed": false
   },
   "outputs": [
    {
     "name": "stdout",
     "output_type": "stream",
     "text": [
      "Hudasdrray\n"
     ]
    }
   ],
   "source": [
    "if df_sa_kin_sno[\"king & Snohomish: Total NonFarm\"].all() == df_sa_kin_sno.ix[:,3:].sum(axis=1).all():\n",
    "    print \"Hudasdrray\"\n",
    "else:\n",
    "    print \"ERROR\""
   ]
  },
  {
   "cell_type": "code",
   "execution_count": null,
   "metadata": {
    "collapsed": true
   },
   "outputs": [],
   "source": []
  },
  {
   "cell_type": "code",
   "execution_count": null,
   "metadata": {
    "collapsed": true
   },
   "outputs": [],
   "source": []
  },
  {
   "cell_type": "code",
   "execution_count": 630,
   "metadata": {
    "collapsed": false
   },
   "outputs": [],
   "source": []
  },
  {
   "cell_type": "code",
   "execution_count": null,
   "metadata": {
    "collapsed": true
   },
   "outputs": [],
   "source": []
  },
  {
   "cell_type": "code",
   "execution_count": 538,
   "metadata": {
    "collapsed": true
   },
   "outputs": [],
   "source": [
    "a =[\"a\", 'b','C',\"d\",\"222\"]"
   ]
  },
  {
   "cell_type": "code",
   "execution_count": 539,
   "metadata": {
    "collapsed": true
   },
   "outputs": [],
   "source": [
    "b = [1,2,5,6,9,8,16,21]"
   ]
  },
  {
   "cell_type": "code",
   "execution_count": 541,
   "metadata": {
    "collapsed": false
   },
   "outputs": [
    {
     "data": {
      "text/plain": [
       "['C', 'd', '222']"
      ]
     },
     "execution_count": 541,
     "metadata": {},
     "output_type": "execute_result"
    }
   ],
   "source": [
    "a[2:]"
   ]
  },
  {
   "cell_type": "code",
   "execution_count": 382,
   "metadata": {
    "collapsed": false
   },
   "outputs": [
    {
     "data": {
      "text/plain": [
       "-2"
      ]
     },
     "execution_count": 382,
     "metadata": {},
     "output_type": "execute_result"
    }
   ],
   "source": [
    "b[2]+b[4]-b[6]"
   ]
  },
  {
   "cell_type": "code",
   "execution_count": null,
   "metadata": {
    "collapsed": true
   },
   "outputs": [],
   "source": []
  },
  {
   "cell_type": "code",
   "execution_count": 657,
   "metadata": {
    "collapsed": false
   },
   "outputs": [
    {
     "data": {
      "text/plain": [
       "'May'"
      ]
     },
     "execution_count": 657,
     "metadata": {},
     "output_type": "execute_result"
    }
   ],
   "source": [
    "time.strftime(\"%b\")"
   ]
  },
  {
   "cell_type": "code",
   "execution_count": null,
   "metadata": {
    "collapsed": false
   },
   "outputs": [],
   "source": []
  },
  {
   "cell_type": "code",
   "execution_count": 484,
   "metadata": {
    "collapsed": false
   },
   "outputs": [],
   "source": [
    "a =5\n",
    "b = 4\n",
    "c= 2"
   ]
  },
  {
   "cell_type": "code",
   "execution_count": 485,
   "metadata": {
    "collapsed": false
   },
   "outputs": [
    {
     "name": "stdout",
     "output_type": "stream",
     "text": [
      "ERROR\n"
     ]
    }
   ],
   "source": [
    "if a == b+c:\n",
    "    pass\n",
    "else:\n",
    "    print \"ERROR\""
   ]
  },
  {
   "cell_type": "code",
   "execution_count": null,
   "metadata": {
    "collapsed": true
   },
   "outputs": [],
   "source": []
  },
  {
   "cell_type": "code",
   "execution_count": null,
   "metadata": {
    "collapsed": true
   },
   "outputs": [],
   "source": []
  },
  {
   "cell_type": "code",
   "execution_count": 247,
   "metadata": {
    "collapsed": false
   },
   "outputs": [],
   "source": [
    "# df_sa_king.drop(df_sa_king.columns[[1]], axis = 1).head()"
   ]
  },
  {
   "cell_type": "code",
   "execution_count": null,
   "metadata": {
    "collapsed": true
   },
   "outputs": [],
   "source": []
  },
  {
   "cell_type": "code",
   "execution_count": 658,
   "metadata": {
    "collapsed": true
   },
   "outputs": [],
   "source": []
  },
  {
   "cell_type": "code",
   "execution_count": null,
   "metadata": {
    "collapsed": true
   },
   "outputs": [],
   "source": []
  },
  {
   "cell_type": "code",
   "execution_count": 59,
   "metadata": {
    "collapsed": true
   },
   "outputs": [],
   "source": [
    "xl_file = pd.ExcelFile(os.getcwd()+\"/\"+ sa_filename)"
   ]
  },
  {
   "cell_type": "code",
   "execution_count": 60,
   "metadata": {
    "collapsed": true
   },
   "outputs": [],
   "source": [
    "dfs = {sheet_name: xl_file.parse(sheet_name) \n",
    "          for sheet_name in xl_file.sheet_names}"
   ]
  },
  {
   "cell_type": "code",
   "execution_count": 61,
   "metadata": {
    "collapsed": false
   },
   "outputs": [
    {
     "data": {
      "text/html": [
       "<div>\n",
       "<table border=\"1\" class=\"dataframe\">\n",
       "  <thead>\n",
       "    <tr style=\"text-align: right;\">\n",
       "      <th></th>\n",
       "      <th>Yakima MSA Quarterly Benchmarked</th>\n",
       "      <th>Unnamed: 1</th>\n",
       "      <th>Unnamed: 2</th>\n",
       "      <th>Unnamed: 3</th>\n",
       "      <th>Unnamed: 4</th>\n",
       "      <th>Unnamed: 5</th>\n",
       "      <th>Unnamed: 6</th>\n",
       "      <th>Unnamed: 7</th>\n",
       "      <th>Unnamed: 8</th>\n",
       "      <th>Unnamed: 9</th>\n",
       "      <th>...</th>\n",
       "      <th>Unnamed: 307</th>\n",
       "      <th>Unnamed: 308</th>\n",
       "      <th>Unnamed: 309</th>\n",
       "      <th>Unnamed: 310</th>\n",
       "      <th>Unnamed: 311</th>\n",
       "      <th>Unnamed: 312</th>\n",
       "      <th>Unnamed: 313</th>\n",
       "      <th>Unnamed: 314</th>\n",
       "      <th>Unnamed: 315</th>\n",
       "      <th>Unnamed: 316</th>\n",
       "    </tr>\n",
       "  </thead>\n",
       "  <tbody>\n",
       "    <tr>\n",
       "      <th>0</th>\n",
       "      <td>NAICS CELL</td>\n",
       "      <td>NAICS INDUSTRY</td>\n",
       "      <td>1990-01-01 00:00:00</td>\n",
       "      <td>1990-02-01 00:00:00</td>\n",
       "      <td>1990-03-01 00:00:00</td>\n",
       "      <td>1990-04-01 00:00:00</td>\n",
       "      <td>1990-05-01 00:00:00</td>\n",
       "      <td>1990-06-01 00:00:00</td>\n",
       "      <td>1990-07-01 00:00:00</td>\n",
       "      <td>1990-08-01 00:00:00</td>\n",
       "      <td>...</td>\n",
       "      <td>2015-06-01 00:00:00</td>\n",
       "      <td>2015-07-01 00:00:00</td>\n",
       "      <td>2015-08-01 00:00:00</td>\n",
       "      <td>2015-09-01 00:00:00</td>\n",
       "      <td>2015-10-01 00:00:00</td>\n",
       "      <td>2015-11-01 00:00:00</td>\n",
       "      <td>2015-12-01 00:00:00</td>\n",
       "      <td>2016-01-01 00:00:00</td>\n",
       "      <td>2016-02-01 00:00:00</td>\n",
       "      <td>2016-03-01 00:00:00</td>\n",
       "    </tr>\n",
       "    <tr>\n",
       "      <th>1</th>\n",
       "      <td>00000000</td>\n",
       "      <td>Total Nonfarm</td>\n",
       "      <td>63600</td>\n",
       "      <td>63600</td>\n",
       "      <td>64100</td>\n",
       "      <td>64300</td>\n",
       "      <td>64500</td>\n",
       "      <td>65000</td>\n",
       "      <td>65000</td>\n",
       "      <td>65000</td>\n",
       "      <td>...</td>\n",
       "      <td>82700</td>\n",
       "      <td>82400</td>\n",
       "      <td>84300</td>\n",
       "      <td>83900</td>\n",
       "      <td>84400</td>\n",
       "      <td>84200</td>\n",
       "      <td>84900</td>\n",
       "      <td>84900</td>\n",
       "      <td>85000</td>\n",
       "      <td>85300</td>\n",
       "    </tr>\n",
       "    <tr>\n",
       "      <th>2</th>\n",
       "      <td>05000000</td>\n",
       "      <td>Total Private</td>\n",
       "      <td>51700</td>\n",
       "      <td>51700</td>\n",
       "      <td>52100</td>\n",
       "      <td>52200</td>\n",
       "      <td>52300</td>\n",
       "      <td>52600</td>\n",
       "      <td>52400</td>\n",
       "      <td>52600</td>\n",
       "      <td>...</td>\n",
       "      <td>65600</td>\n",
       "      <td>64800</td>\n",
       "      <td>65600</td>\n",
       "      <td>65600</td>\n",
       "      <td>66200</td>\n",
       "      <td>66100</td>\n",
       "      <td>66500</td>\n",
       "      <td>66900</td>\n",
       "      <td>67200</td>\n",
       "      <td>67600</td>\n",
       "    </tr>\n",
       "    <tr>\n",
       "      <th>3</th>\n",
       "      <td>06000000</td>\n",
       "      <td>Goods Producing</td>\n",
       "      <td>12200</td>\n",
       "      <td>12100</td>\n",
       "      <td>12500</td>\n",
       "      <td>12400</td>\n",
       "      <td>12600</td>\n",
       "      <td>12800</td>\n",
       "      <td>12800</td>\n",
       "      <td>12800</td>\n",
       "      <td>...</td>\n",
       "      <td>12400</td>\n",
       "      <td>12200</td>\n",
       "      <td>12700</td>\n",
       "      <td>12900</td>\n",
       "      <td>12900</td>\n",
       "      <td>12500</td>\n",
       "      <td>12200</td>\n",
       "      <td>12200</td>\n",
       "      <td>12100</td>\n",
       "      <td>12300</td>\n",
       "    </tr>\n",
       "    <tr>\n",
       "      <th>4</th>\n",
       "      <td>15000000</td>\n",
       "      <td>Mining, Logging, and Construction</td>\n",
       "      <td>2400</td>\n",
       "      <td>2300</td>\n",
       "      <td>2400</td>\n",
       "      <td>2400</td>\n",
       "      <td>2500</td>\n",
       "      <td>2500</td>\n",
       "      <td>2500</td>\n",
       "      <td>2600</td>\n",
       "      <td>...</td>\n",
       "      <td>3800</td>\n",
       "      <td>3800</td>\n",
       "      <td>3800</td>\n",
       "      <td>3800</td>\n",
       "      <td>3800</td>\n",
       "      <td>3800</td>\n",
       "      <td>3700</td>\n",
       "      <td>3400</td>\n",
       "      <td>3400</td>\n",
       "      <td>3600</td>\n",
       "    </tr>\n",
       "  </tbody>\n",
       "</table>\n",
       "<p>5 rows × 317 columns</p>\n",
       "</div>"
      ],
      "text/plain": [
       "  Yakima MSA Quarterly Benchmarked  \\\n",
       "0                       NAICS CELL   \n",
       "1                         00000000   \n",
       "2                         05000000   \n",
       "3                         06000000   \n",
       "4                         15000000   \n",
       "\n",
       "                                      Unnamed: 1           Unnamed: 2  \\\n",
       "0                                 NAICS INDUSTRY  1990-01-01 00:00:00   \n",
       "1                                  Total Nonfarm                63600   \n",
       "2                                  Total Private                51700   \n",
       "3                                Goods Producing                12200   \n",
       "4              Mining, Logging, and Construction                 2400   \n",
       "\n",
       "            Unnamed: 3           Unnamed: 4           Unnamed: 5  \\\n",
       "0  1990-02-01 00:00:00  1990-03-01 00:00:00  1990-04-01 00:00:00   \n",
       "1                63600                64100                64300   \n",
       "2                51700                52100                52200   \n",
       "3                12100                12500                12400   \n",
       "4                 2300                 2400                 2400   \n",
       "\n",
       "            Unnamed: 6           Unnamed: 7           Unnamed: 8  \\\n",
       "0  1990-05-01 00:00:00  1990-06-01 00:00:00  1990-07-01 00:00:00   \n",
       "1                64500                65000                65000   \n",
       "2                52300                52600                52400   \n",
       "3                12600                12800                12800   \n",
       "4                 2500                 2500                 2500   \n",
       "\n",
       "            Unnamed: 9         ...                  Unnamed: 307  \\\n",
       "0  1990-08-01 00:00:00         ...           2015-06-01 00:00:00   \n",
       "1                65000         ...                         82700   \n",
       "2                52600         ...                         65600   \n",
       "3                12800         ...                         12400   \n",
       "4                 2600         ...                          3800   \n",
       "\n",
       "          Unnamed: 308         Unnamed: 309         Unnamed: 310  \\\n",
       "0  2015-07-01 00:00:00  2015-08-01 00:00:00  2015-09-01 00:00:00   \n",
       "1                82400                84300                83900   \n",
       "2                64800                65600                65600   \n",
       "3                12200                12700                12900   \n",
       "4                 3800                 3800                 3800   \n",
       "\n",
       "          Unnamed: 311         Unnamed: 312         Unnamed: 313  \\\n",
       "0  2015-10-01 00:00:00  2015-11-01 00:00:00  2015-12-01 00:00:00   \n",
       "1                84400                84200                84900   \n",
       "2                66200                66100                66500   \n",
       "3                12900                12500                12200   \n",
       "4                 3800                 3800                 3700   \n",
       "\n",
       "          Unnamed: 314         Unnamed: 315         Unnamed: 316  \n",
       "0  2016-01-01 00:00:00  2016-02-01 00:00:00  2016-03-01 00:00:00  \n",
       "1                84900                85000                85300  \n",
       "2                66900                67200                67600  \n",
       "3                12200                12100                12300  \n",
       "4                 3400                 3400                 3600  \n",
       "\n",
       "[5 rows x 317 columns]"
      ]
     },
     "execution_count": 61,
     "metadata": {},
     "output_type": "execute_result"
    }
   ],
   "source": [
    "dfs[\"Yakima MSA\"].head()"
   ]
  },
  {
   "cell_type": "code",
   "execution_count": 62,
   "metadata": {
    "collapsed": false
   },
   "outputs": [
    {
     "data": {
      "text/html": [
       "<div>\n",
       "<table border=\"1\" class=\"dataframe\">\n",
       "  <thead>\n",
       "    <tr style=\"text-align: right;\">\n",
       "      <th></th>\n",
       "      <th>Seattle MSA Quarterly Benchmarked</th>\n",
       "      <th>Unnamed: 1</th>\n",
       "      <th>Unnamed: 2</th>\n",
       "      <th>Unnamed: 3</th>\n",
       "      <th>Unnamed: 4</th>\n",
       "      <th>Unnamed: 5</th>\n",
       "      <th>Unnamed: 6</th>\n",
       "      <th>Unnamed: 7</th>\n",
       "      <th>Unnamed: 8</th>\n",
       "      <th>Unnamed: 9</th>\n",
       "      <th>...</th>\n",
       "      <th>Unnamed: 307</th>\n",
       "      <th>Unnamed: 308</th>\n",
       "      <th>Unnamed: 309</th>\n",
       "      <th>Unnamed: 310</th>\n",
       "      <th>Unnamed: 311</th>\n",
       "      <th>Unnamed: 312</th>\n",
       "      <th>Unnamed: 313</th>\n",
       "      <th>Unnamed: 314</th>\n",
       "      <th>Unnamed: 315</th>\n",
       "      <th>Unnamed: 316</th>\n",
       "    </tr>\n",
       "  </thead>\n",
       "  <tbody>\n",
       "    <tr>\n",
       "      <th>0</th>\n",
       "      <td>NAICS CELL</td>\n",
       "      <td>NAICS INDUSTRY</td>\n",
       "      <td>1990-01-01 00:00:00</td>\n",
       "      <td>1990-02-01 00:00:00</td>\n",
       "      <td>1990-03-01 00:00:00</td>\n",
       "      <td>1990-04-01 00:00:00</td>\n",
       "      <td>1990-05-01 00:00:00</td>\n",
       "      <td>1990-06-01 00:00:00</td>\n",
       "      <td>1990-07-01 00:00:00</td>\n",
       "      <td>1990-08-01 00:00:00</td>\n",
       "      <td>...</td>\n",
       "      <td>2015-06-01 00:00:00</td>\n",
       "      <td>2015-07-01 00:00:00</td>\n",
       "      <td>2015-08-01 00:00:00</td>\n",
       "      <td>2015-09-01 00:00:00</td>\n",
       "      <td>2015-10-01 00:00:00</td>\n",
       "      <td>2015-11-01 00:00:00</td>\n",
       "      <td>2015-12-01 00:00:00</td>\n",
       "      <td>2016-01-01 00:00:00</td>\n",
       "      <td>2016-02-01 00:00:00</td>\n",
       "      <td>2016-03-01 00:00:00</td>\n",
       "    </tr>\n",
       "    <tr>\n",
       "      <th>1</th>\n",
       "      <td>00000000</td>\n",
       "      <td>Total Nonfarm</td>\n",
       "      <td>1096300</td>\n",
       "      <td>1098400</td>\n",
       "      <td>1101600</td>\n",
       "      <td>1103100</td>\n",
       "      <td>1106100</td>\n",
       "      <td>1111200</td>\n",
       "      <td>1113900</td>\n",
       "      <td>1119000</td>\n",
       "      <td>...</td>\n",
       "      <td>1591500</td>\n",
       "      <td>1590500</td>\n",
       "      <td>1594000</td>\n",
       "      <td>1594100</td>\n",
       "      <td>1594600</td>\n",
       "      <td>1598900</td>\n",
       "      <td>1602600</td>\n",
       "      <td>1607700</td>\n",
       "      <td>1615600</td>\n",
       "      <td>1619900</td>\n",
       "    </tr>\n",
       "    <tr>\n",
       "      <th>2</th>\n",
       "      <td>05000000</td>\n",
       "      <td>Total Private</td>\n",
       "      <td>951400</td>\n",
       "      <td>952200</td>\n",
       "      <td>956300</td>\n",
       "      <td>957600</td>\n",
       "      <td>960200</td>\n",
       "      <td>964400</td>\n",
       "      <td>966700</td>\n",
       "      <td>967500</td>\n",
       "      <td>...</td>\n",
       "      <td>1376800</td>\n",
       "      <td>1382600</td>\n",
       "      <td>1392400</td>\n",
       "      <td>1385300</td>\n",
       "      <td>1380200</td>\n",
       "      <td>1382000</td>\n",
       "      <td>1390300</td>\n",
       "      <td>1394000</td>\n",
       "      <td>1400200</td>\n",
       "      <td>1402600</td>\n",
       "    </tr>\n",
       "    <tr>\n",
       "      <th>3</th>\n",
       "      <td>06000000</td>\n",
       "      <td>Goods Producing</td>\n",
       "      <td>277800</td>\n",
       "      <td>276800</td>\n",
       "      <td>278100</td>\n",
       "      <td>277300</td>\n",
       "      <td>277400</td>\n",
       "      <td>277900</td>\n",
       "      <td>278800</td>\n",
       "      <td>278100</td>\n",
       "      <td>...</td>\n",
       "      <td>258600</td>\n",
       "      <td>261300</td>\n",
       "      <td>260900</td>\n",
       "      <td>260600</td>\n",
       "      <td>254500</td>\n",
       "      <td>252900</td>\n",
       "      <td>254100</td>\n",
       "      <td>251900</td>\n",
       "      <td>252700</td>\n",
       "      <td>254200</td>\n",
       "    </tr>\n",
       "    <tr>\n",
       "      <th>4</th>\n",
       "      <td>10000000</td>\n",
       "      <td>Mining and Logging</td>\n",
       "      <td>1900</td>\n",
       "      <td>1900</td>\n",
       "      <td>1900</td>\n",
       "      <td>2000</td>\n",
       "      <td>2000</td>\n",
       "      <td>2000</td>\n",
       "      <td>2000</td>\n",
       "      <td>2000</td>\n",
       "      <td>...</td>\n",
       "      <td>800</td>\n",
       "      <td>800</td>\n",
       "      <td>800</td>\n",
       "      <td>800</td>\n",
       "      <td>700</td>\n",
       "      <td>700</td>\n",
       "      <td>700</td>\n",
       "      <td>700</td>\n",
       "      <td>800</td>\n",
       "      <td>700</td>\n",
       "    </tr>\n",
       "  </tbody>\n",
       "</table>\n",
       "<p>5 rows × 317 columns</p>\n",
       "</div>"
      ],
      "text/plain": [
       "  Seattle MSA Quarterly Benchmarked                          Unnamed: 1  \\\n",
       "0                        NAICS CELL                      NAICS INDUSTRY   \n",
       "1                          00000000                       Total Nonfarm   \n",
       "2                          05000000                       Total Private   \n",
       "3                          06000000                     Goods Producing   \n",
       "4                          10000000                  Mining and Logging   \n",
       "\n",
       "            Unnamed: 2           Unnamed: 3           Unnamed: 4  \\\n",
       "0  1990-01-01 00:00:00  1990-02-01 00:00:00  1990-03-01 00:00:00   \n",
       "1              1096300              1098400              1101600   \n",
       "2               951400               952200               956300   \n",
       "3               277800               276800               278100   \n",
       "4                 1900                 1900                 1900   \n",
       "\n",
       "            Unnamed: 5           Unnamed: 6           Unnamed: 7  \\\n",
       "0  1990-04-01 00:00:00  1990-05-01 00:00:00  1990-06-01 00:00:00   \n",
       "1              1103100              1106100              1111200   \n",
       "2               957600               960200               964400   \n",
       "3               277300               277400               277900   \n",
       "4                 2000                 2000                 2000   \n",
       "\n",
       "            Unnamed: 8           Unnamed: 9         ...           \\\n",
       "0  1990-07-01 00:00:00  1990-08-01 00:00:00         ...            \n",
       "1              1113900              1119000         ...            \n",
       "2               966700               967500         ...            \n",
       "3               278800               278100         ...            \n",
       "4                 2000                 2000         ...            \n",
       "\n",
       "          Unnamed: 307         Unnamed: 308         Unnamed: 309  \\\n",
       "0  2015-06-01 00:00:00  2015-07-01 00:00:00  2015-08-01 00:00:00   \n",
       "1              1591500              1590500              1594000   \n",
       "2              1376800              1382600              1392400   \n",
       "3               258600               261300               260900   \n",
       "4                  800                  800                  800   \n",
       "\n",
       "          Unnamed: 310         Unnamed: 311         Unnamed: 312  \\\n",
       "0  2015-09-01 00:00:00  2015-10-01 00:00:00  2015-11-01 00:00:00   \n",
       "1              1594100              1594600              1598900   \n",
       "2              1385300              1380200              1382000   \n",
       "3               260600               254500               252900   \n",
       "4                  800                  700                  700   \n",
       "\n",
       "          Unnamed: 313         Unnamed: 314         Unnamed: 315  \\\n",
       "0  2015-12-01 00:00:00  2016-01-01 00:00:00  2016-02-01 00:00:00   \n",
       "1              1602600              1607700              1615600   \n",
       "2              1390300              1394000              1400200   \n",
       "3               254100               251900               252700   \n",
       "4                  700                  700                  800   \n",
       "\n",
       "          Unnamed: 316  \n",
       "0  2016-03-01 00:00:00  \n",
       "1              1619900  \n",
       "2              1402600  \n",
       "3               254200  \n",
       "4                  700  \n",
       "\n",
       "[5 rows x 317 columns]"
      ]
     },
     "execution_count": 62,
     "metadata": {},
     "output_type": "execute_result"
    }
   ],
   "source": [
    "dfs[\"Seattle MSA\"].head()"
   ]
  },
  {
   "cell_type": "code",
   "execution_count": null,
   "metadata": {
    "collapsed": true
   },
   "outputs": [],
   "source": []
  }
 ],
 "metadata": {
  "kernelspec": {
   "display_name": "Python 2",
   "language": "python",
   "name": "python2"
  },
  "language_info": {
   "codemirror_mode": {
    "name": "ipython",
    "version": 2
   },
   "file_extension": ".py",
   "mimetype": "text/x-python",
   "name": "python",
   "nbconvert_exporter": "python",
   "pygments_lexer": "ipython2",
   "version": "2.7.11"
  }
 },
 "nbformat": 4,
 "nbformat_minor": 0
}
