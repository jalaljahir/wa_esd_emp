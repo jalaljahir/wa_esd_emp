{
 "cells": [
  {
   "cell_type": "code",
   "execution_count": 1,
   "metadata": {
    "collapsed": true
   },
   "outputs": [],
   "source": [
    "import pandas as pd"
   ]
  },
  {
   "cell_type": "code",
   "execution_count": 7,
   "metadata": {
    "collapsed": true
   },
   "outputs": [],
   "source": [
    "import urllib"
   ]
  },
  {
   "cell_type": "code",
   "execution_count": 9,
   "metadata": {
    "collapsed": true
   },
   "outputs": [],
   "source": [
    "import datetime"
   ]
  },
  {
   "cell_type": "code",
   "execution_count": 39,
   "metadata": {
    "collapsed": true
   },
   "outputs": [],
   "source": [
    "import time"
   ]
  },
  {
   "cell_type": "code",
   "execution_count": 40,
   "metadata": {
    "collapsed": false
   },
   "outputs": [
    {
     "data": {
      "text/plain": [
       "'05052016'"
      ]
     },
     "execution_count": 40,
     "metadata": {},
     "output_type": "execute_result"
    }
   ],
   "source": [
    "time.strftime(\"%d%m%Y\")"
   ]
  },
  {
   "cell_type": "code",
   "execution_count": 159,
   "metadata": {
    "collapsed": false,
    "scrolled": false
   },
   "outputs": [
    {
     "name": "stdout",
     "output_type": "stream",
     "text": [
      "hello Jalal Jahir what\n",
      "hello Jalal Jahir is a GREAT Guy\n",
      " 0.001\n",
      "0.000999927520752\n"
     ]
    }
   ],
   "source": [
    "start = time.time()\n",
    "print \"hello Jalal Jahir what\"\n",
    "print \"hello Jalal Jahir is a GREAT Guy\"\n",
    "end = time.time()\n",
    "processtime = end - start\n",
    "print \"{0: .3}\".format(processtime)\n",
    "print float(processtime)"
   ]
  },
  {
   "cell_type": "code",
   "execution_count": 160,
   "metadata": {
    "collapsed": true
   },
   "outputs": [],
   "source": [
    "import os"
   ]
  },
  {
   "cell_type": "code",
   "execution_count": 161,
   "metadata": {
    "collapsed": false
   },
   "outputs": [
    {
     "name": "stdout",
     "output_type": "stream",
     "text": [
      "J:\\Staff\\Jalal\\Monthly_Emp_Update_Scratch\\Code_Monthly-emp-Update\n"
     ]
    }
   ],
   "source": [
    "print os.getcwd()"
   ]
  },
  {
   "cell_type": "code",
   "execution_count": 174,
   "metadata": {
    "collapsed": true
   },
   "outputs": [],
   "source": [
    "current_dir = str(os.getcwd())"
   ]
  },
  {
   "cell_type": "code",
   "execution_count": 175,
   "metadata": {
    "collapsed": false
   },
   "outputs": [
    {
     "data": {
      "text/plain": [
       "'J:\\\\Staff\\\\Jalal\\\\Monthly_Emp_Update_Scratch\\\\Code_Monthly-emp-Update'"
      ]
     },
     "execution_count": 175,
     "metadata": {},
     "output_type": "execute_result"
    }
   ],
   "source": [
    "current_dir"
   ]
  },
  {
   "cell_type": "code",
   "execution_count": 182,
   "metadata": {
    "collapsed": true
   },
   "outputs": [],
   "source": [
    "esd_sa_url = \"https://fortress.wa.gov/esd/employmentdata/docs/economic-reports/wa-historical-employment-seasonally-adjusted.xlsx\"\n",
    "def download_esd():\n",
    "    esdfile = urllib.URLopener()\n",
    "    esdfile.retrieve(esd_sa_url, \"data.xlsx\")"
   ]
  },
  {
   "cell_type": "code",
   "execution_count": 183,
   "metadata": {
    "collapsed": true
   },
   "outputs": [],
   "source": [
    "download_esd()"
   ]
  },
  {
   "cell_type": "code",
   "execution_count": 181,
   "metadata": {
    "collapsed": false
   },
   "outputs": [
    {
     "name": "stdout",
     "output_type": "stream",
     "text": [
      "Help on module urllib:\n",
      "\n",
      "NAME\n",
      "    urllib - Open an arbitrary URL.\n",
      "\n",
      "FILE\n",
      "    c:\\anaconda2\\lib\\urllib.py\n",
      "\n",
      "DESCRIPTION\n",
      "    See the following document for more info on URLs:\n",
      "    \"Names and Addresses, URIs, URLs, URNs, URCs\", at\n",
      "    http://www.w3.org/pub/WWW/Addressing/Overview.html\n",
      "    \n",
      "    See also the HTTP spec (from which the error codes are derived):\n",
      "    \"HTTP - Hypertext Transfer Protocol\", at\n",
      "    http://www.w3.org/pub/WWW/Protocols/\n",
      "    \n",
      "    Related standards and specs:\n",
      "    - RFC1808: the \"relative URL\" spec. (authoritative status)\n",
      "    - RFC1738 - the \"URL standard\". (authoritative status)\n",
      "    - RFC1630 - the \"URI spec\". (informational status)\n",
      "    \n",
      "    The object returned by URLopener().open(file) will differ per\n",
      "    protocol.  All you know is that is has methods read(), readline(),\n",
      "    readlines(), fileno(), close() and info().  The read*(), fileno()\n",
      "    and close() methods work like those of open files.\n",
      "    The info() method returns a mimetools.Message object which can be\n",
      "    used to query various info about the object, if available.\n",
      "    (mimetools.Message objects are queried with the getheader() method.)\n",
      "\n",
      "CLASSES\n",
      "    URLopener\n",
      "        FancyURLopener\n",
      "    \n",
      "    class FancyURLopener(URLopener)\n",
      "     |  Derived class with handlers for errors we can handle (perhaps).\n",
      "     |  \n",
      "     |  Methods defined here:\n",
      "     |  \n",
      "     |  __init__(self, *args, **kwargs)\n",
      "     |  \n",
      "     |  get_user_passwd(self, host, realm, clear_cache=0)\n",
      "     |  \n",
      "     |  http_error_301(self, url, fp, errcode, errmsg, headers, data=None)\n",
      "     |      Error 301 -- also relocated (permanently).\n",
      "     |  \n",
      "     |  http_error_302(self, url, fp, errcode, errmsg, headers, data=None)\n",
      "     |      Error 302 -- relocated (temporarily).\n",
      "     |  \n",
      "     |  http_error_303(self, url, fp, errcode, errmsg, headers, data=None)\n",
      "     |      Error 303 -- also relocated (essentially identical to 302).\n",
      "     |  \n",
      "     |  http_error_307(self, url, fp, errcode, errmsg, headers, data=None)\n",
      "     |      Error 307 -- relocated, but turn POST into error.\n",
      "     |  \n",
      "     |  http_error_401(self, url, fp, errcode, errmsg, headers, data=None)\n",
      "     |      Error 401 -- authentication required.\n",
      "     |      This function supports Basic authentication only.\n",
      "     |  \n",
      "     |  http_error_407(self, url, fp, errcode, errmsg, headers, data=None)\n",
      "     |      Error 407 -- proxy authentication required.\n",
      "     |      This function supports Basic authentication only.\n",
      "     |  \n",
      "     |  http_error_default(self, url, fp, errcode, errmsg, headers)\n",
      "     |      Default error handling -- don't raise an exception.\n",
      "     |  \n",
      "     |  prompt_user_passwd(self, host, realm)\n",
      "     |      Override this in a GUI environment!\n",
      "     |  \n",
      "     |  redirect_internal(self, url, fp, errcode, errmsg, headers, data)\n",
      "     |  \n",
      "     |  retry_http_basic_auth(self, url, realm, data=None)\n",
      "     |  \n",
      "     |  retry_https_basic_auth(self, url, realm, data=None)\n",
      "     |  \n",
      "     |  retry_proxy_http_basic_auth(self, url, realm, data=None)\n",
      "     |  \n",
      "     |  retry_proxy_https_basic_auth(self, url, realm, data=None)\n",
      "     |  \n",
      "     |  ----------------------------------------------------------------------\n",
      "     |  Methods inherited from URLopener:\n",
      "     |  \n",
      "     |  __del__(self)\n",
      "     |  \n",
      "     |  addheader(self, *args)\n",
      "     |      Add a header to be used by the HTTP interface only\n",
      "     |      e.g. u.addheader('Accept', 'sound/basic')\n",
      "     |  \n",
      "     |  cleanup(self)\n",
      "     |  \n",
      "     |  close(self)\n",
      "     |  \n",
      "     |  http_error(self, url, fp, errcode, errmsg, headers, data=None)\n",
      "     |      Handle http errors.\n",
      "     |      Derived class can override this, or provide specific handlers\n",
      "     |      named http_error_DDD where DDD is the 3-digit error code.\n",
      "     |  \n",
      "     |  open(self, fullurl, data=None)\n",
      "     |      Use URLopener().open(file) instead of open(file, 'r').\n",
      "     |  \n",
      "     |  open_data(self, url, data=None)\n",
      "     |      Use \"data\" URL.\n",
      "     |  \n",
      "     |  open_file(self, url)\n",
      "     |      Use local file or FTP depending on form of URL.\n",
      "     |  \n",
      "     |  open_ftp(self, url)\n",
      "     |      Use FTP protocol.\n",
      "     |  \n",
      "     |  open_http(self, url, data=None)\n",
      "     |      Use HTTP protocol.\n",
      "     |  \n",
      "     |  open_https(self, url, data=None)\n",
      "     |      Use HTTPS protocol.\n",
      "     |  \n",
      "     |  open_local_file(self, url)\n",
      "     |      Use local file.\n",
      "     |  \n",
      "     |  open_unknown(self, fullurl, data=None)\n",
      "     |      Overridable interface to open unknown URL type.\n",
      "     |  \n",
      "     |  open_unknown_proxy(self, proxy, fullurl, data=None)\n",
      "     |      Overridable interface to open unknown URL type.\n",
      "     |  \n",
      "     |  retrieve(self, url, filename=None, reporthook=None, data=None)\n",
      "     |      retrieve(url) returns (filename, headers) for a local object\n",
      "     |      or (tempfilename, headers) for a remote object.\n",
      "     |  \n",
      "     |  ----------------------------------------------------------------------\n",
      "     |  Data and other attributes inherited from URLopener:\n",
      "     |  \n",
      "     |  version = 'Python-urllib/1.17'\n",
      "    \n",
      "    class URLopener\n",
      "     |  Class to open URLs.\n",
      "     |  This is a class rather than just a subroutine because we may need\n",
      "     |  more than one set of global protocol-specific options.\n",
      "     |  Note -- this is a base class for those who don't want the\n",
      "     |  automatic handling of errors type 302 (relocated) and 401\n",
      "     |  (authorization needed).\n",
      "     |  \n",
      "     |  Methods defined here:\n",
      "     |  \n",
      "     |  __del__(self)\n",
      "     |  \n",
      "     |  __init__(self, proxies=None, context=None, **x509)\n",
      "     |      # Constructor\n",
      "     |  \n",
      "     |  addheader(self, *args)\n",
      "     |      Add a header to be used by the HTTP interface only\n",
      "     |      e.g. u.addheader('Accept', 'sound/basic')\n",
      "     |  \n",
      "     |  cleanup(self)\n",
      "     |  \n",
      "     |  close(self)\n",
      "     |  \n",
      "     |  http_error(self, url, fp, errcode, errmsg, headers, data=None)\n",
      "     |      Handle http errors.\n",
      "     |      Derived class can override this, or provide specific handlers\n",
      "     |      named http_error_DDD where DDD is the 3-digit error code.\n",
      "     |  \n",
      "     |  http_error_default(self, url, fp, errcode, errmsg, headers)\n",
      "     |      Default error handler: close the connection and raise IOError.\n",
      "     |  \n",
      "     |  open(self, fullurl, data=None)\n",
      "     |      Use URLopener().open(file) instead of open(file, 'r').\n",
      "     |  \n",
      "     |  open_data(self, url, data=None)\n",
      "     |      Use \"data\" URL.\n",
      "     |  \n",
      "     |  open_file(self, url)\n",
      "     |      Use local file or FTP depending on form of URL.\n",
      "     |  \n",
      "     |  open_ftp(self, url)\n",
      "     |      Use FTP protocol.\n",
      "     |  \n",
      "     |  open_http(self, url, data=None)\n",
      "     |      Use HTTP protocol.\n",
      "     |  \n",
      "     |  open_https(self, url, data=None)\n",
      "     |      Use HTTPS protocol.\n",
      "     |  \n",
      "     |  open_local_file(self, url)\n",
      "     |      Use local file.\n",
      "     |  \n",
      "     |  open_unknown(self, fullurl, data=None)\n",
      "     |      Overridable interface to open unknown URL type.\n",
      "     |  \n",
      "     |  open_unknown_proxy(self, proxy, fullurl, data=None)\n",
      "     |      Overridable interface to open unknown URL type.\n",
      "     |  \n",
      "     |  retrieve(self, url, filename=None, reporthook=None, data=None)\n",
      "     |      retrieve(url) returns (filename, headers) for a local object\n",
      "     |      or (tempfilename, headers) for a remote object.\n",
      "     |  \n",
      "     |  ----------------------------------------------------------------------\n",
      "     |  Data and other attributes defined here:\n",
      "     |  \n",
      "     |  version = 'Python-urllib/1.17'\n",
      "\n",
      "FUNCTIONS\n",
      "    basejoin = urljoin(base, url, allow_fragments=True)\n",
      "        Join a base URL and a possibly relative URL to form an absolute\n",
      "        interpretation of the latter.\n",
      "    \n",
      "    ftperrors()\n",
      "        Return the set of errors raised by the FTP class.\n",
      "    \n",
      "    getproxies()\n",
      "        Return a dictionary of scheme -> proxy server URL mappings.\n",
      "        \n",
      "        Returns settings gathered from the environment, if specified,\n",
      "        or the registry.\n",
      "    \n",
      "    localhost()\n",
      "        Return the IP address of the magic hostname 'localhost'.\n",
      "    \n",
      "    pathname2url(p)\n",
      "        OS-specific conversion from a file system path to a relative URL\n",
      "        of the 'file' scheme; not recommended for general use.\n",
      "    \n",
      "    quote(s, safe='/')\n",
      "        quote('abc def') -> 'abc%20def'\n",
      "        \n",
      "        Each part of a URL, e.g. the path info, the query, etc., has a\n",
      "        different set of reserved characters that must be quoted.\n",
      "        \n",
      "        RFC 2396 Uniform Resource Identifiers (URI): Generic Syntax lists\n",
      "        the following reserved characters.\n",
      "        \n",
      "        reserved    = \";\" | \"/\" | \"?\" | \":\" | \"@\" | \"&\" | \"=\" | \"+\" |\n",
      "                      \"$\" | \",\"\n",
      "        \n",
      "        Each of these characters is reserved in some component of a URL,\n",
      "        but not necessarily in all of them.\n",
      "        \n",
      "        By default, the quote function is intended for quoting the path\n",
      "        section of a URL.  Thus, it will not encode '/'.  This character\n",
      "        is reserved, but in typical usage the quote function is being\n",
      "        called on a path where the existing slash characters are used as\n",
      "        reserved characters.\n",
      "    \n",
      "    quote_plus(s, safe='')\n",
      "        Quote the query fragment of a URL; replacing ' ' with '+'\n",
      "    \n",
      "    splitattr(url)\n",
      "        splitattr('/path;attr1=value1;attr2=value2;...') ->\n",
      "        '/path', ['attr1=value1', 'attr2=value2', ...].\n",
      "    \n",
      "    splithost(url)\n",
      "        splithost('//host[:port]/path') --> 'host[:port]', '/path'.\n",
      "    \n",
      "    splitnport(host, defport=-1)\n",
      "        Split host and port, returning numeric port.\n",
      "        Return given default port if no ':' found; defaults to -1.\n",
      "        Return numerical port if a valid number are found after ':'.\n",
      "        Return None if ':' but not a valid number.\n",
      "    \n",
      "    splitpasswd(user)\n",
      "        splitpasswd('user:passwd') -> 'user', 'passwd'.\n",
      "    \n",
      "    splitport(host)\n",
      "        splitport('host:port') --> 'host', 'port'.\n",
      "    \n",
      "    splitquery(url)\n",
      "        splitquery('/path?query') --> '/path', 'query'.\n",
      "    \n",
      "    splittag(url)\n",
      "        splittag('/path#tag') --> '/path', 'tag'.\n",
      "    \n",
      "    splittype(url)\n",
      "        splittype('type:opaquestring') --> 'type', 'opaquestring'.\n",
      "    \n",
      "    splituser(host)\n",
      "        splituser('user[:passwd]@host[:port]') --> 'user[:passwd]', 'host[:port]'.\n",
      "    \n",
      "    splitvalue(attr)\n",
      "        splitvalue('attr=value') --> 'attr', 'value'.\n",
      "    \n",
      "    thishost()\n",
      "        Return the IP address of the current host.\n",
      "    \n",
      "    unquote(s)\n",
      "        unquote('abc%20def') -> 'abc def'.\n",
      "    \n",
      "    unquote_plus(s)\n",
      "        unquote('%7e/abc+def') -> '~/abc def'\n",
      "    \n",
      "    unwrap(url)\n",
      "        unwrap('<URL:type://host/path>') --> 'type://host/path'.\n",
      "    \n",
      "    url2pathname(url)\n",
      "        OS-specific conversion from a relative URL of the 'file' scheme\n",
      "        to a file system path; not recommended for general use.\n",
      "    \n",
      "    urlcleanup()\n",
      "    \n",
      "    urlencode(query, doseq=0)\n",
      "        Encode a sequence of two-element tuples or dictionary into a URL query string.\n",
      "        \n",
      "        If any values in the query arg are sequences and doseq is true, each\n",
      "        sequence element is converted to a separate parameter.\n",
      "        \n",
      "        If the query arg is a sequence of two-element tuples, the order of the\n",
      "        parameters in the output will match the order of parameters in the\n",
      "        input.\n",
      "    \n",
      "    urlopen(url, data=None, proxies=None, context=None)\n",
      "        Create a file-like object for the specified URL to read from.\n",
      "    \n",
      "    urlretrieve(url, filename=None, reporthook=None, data=None, context=None)\n",
      "\n",
      "DATA\n",
      "    __all__ = ['urlopen', 'URLopener', 'FancyURLopener', 'urlretrieve', 'u...\n",
      "    __version__ = '1.17'\n",
      "\n",
      "VERSION\n",
      "    1.17\n",
      "\n",
      "\n"
     ]
    }
   ],
   "source": [
    "help (urllib)"
   ]
  },
  {
   "cell_type": "code",
   "execution_count": null,
   "metadata": {
    "collapsed": true
   },
   "outputs": [],
   "source": []
  }
 ],
 "metadata": {
  "kernelspec": {
   "display_name": "Python 2",
   "language": "python",
   "name": "python2"
  },
  "language_info": {
   "codemirror_mode": {
    "name": "ipython",
    "version": 2
   },
   "file_extension": ".py",
   "mimetype": "text/x-python",
   "name": "python",
   "nbconvert_exporter": "python",
   "pygments_lexer": "ipython2",
   "version": "2.7.11"
  }
 },
 "nbformat": 4,
 "nbformat_minor": 0
}
