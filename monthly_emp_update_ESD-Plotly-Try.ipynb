{
 "cells": [
  {
   "cell_type": "code",
   "execution_count": 10,
   "metadata": {
    "collapsed": true
   },
   "outputs": [],
   "source": [
    "import os\n",
    "import pandas as pd\n",
    "#from pandas import*\n",
    "import matplotlib\n",
    "import matplotlib.pyplot as plt\n",
    "import matplotlib.ticker as tkr\n",
    "import seaborn as sns\n",
    "import numpy as np\n",
    "import statsmodels.api as sm\n",
    "%matplotlib inline\n",
    "\n",
    "import plotly\n",
    "import plotly.plotly as py\n",
    "from plotly.tools import FigureFactory as FF"
   ]
  },
  {
   "cell_type": "code",
   "execution_count": 1,
   "metadata": {
    "collapsed": false,
    "scrolled": true
   },
   "outputs": [
    {
     "name": "stdout",
     "output_type": "stream",
     "text": [
      "\n",
      "Data download completed. Download Time:  2.33 Sec.\n",
      "\n",
      "List of worksheets to be included in the analysis: \n",
      "1. Bremerton MSA\n",
      "2. Seattle MSA\n",
      "3. Tacoma MSA\n",
      "Total 3 out of 12 worksheets contain data for the PSRC region.\n",
      "\n",
      "Checked: King & Snohomish Counties- All industry sectors add up to total NonFarm jobs...\n",
      "Checked: Kitsap County- All industry sectors add up to total NonFarm jobs...\n",
      "Checked: Pierce County- All industry sectors add up to total NonFarm jobs...\n",
      "Checked: Regional dataframe completed...\n",
      "\n",
      "Worksheets not included in the processing been deleted...\n",
      "\n",
      "Processed data been exported to the excel file located at the working directory: \n",
      "J:\\Staff\\Jalal\\Monthly_Emp_Update_Scratch\\wa_esd_emp\n",
      "\n",
      "New Worksheets: \n",
      "1. Region_Master \n",
      "2. Region_Sector \n",
      "3. Region_CMonth \n",
      "4. Region_Sec_CMonth \n",
      "\n",
      "Processing Completed! \n",
      "Total Processing Time:  14.4 Sec.\n"
     ]
    }
   ],
   "source": [
    "%run monthlyemp_ESD.py"
   ]
  },
  {
   "cell_type": "code",
   "execution_count": 44,
   "metadata": {
    "collapsed": false
   },
   "outputs": [
    {
     "data": {
      "text/html": [
       "<div>\n",
       "<table border=\"1\" class=\"dataframe\">\n",
       "  <thead>\n",
       "    <tr style=\"text-align: right;\">\n",
       "      <th>id</th>\n",
       "      <th>year</th>\n",
       "      <th>month</th>\n",
       "      <th>King &amp; Snohomish: Total NonFarm</th>\n",
       "      <th>Pierce: Total NonFarm</th>\n",
       "      <th>Kitsap: Total NonFarm</th>\n",
       "      <th>Region: Total NonFarm</th>\n",
       "    </tr>\n",
       "  </thead>\n",
       "  <tbody>\n",
       "    <tr>\n",
       "      <th>311</th>\n",
       "      <td>2015</td>\n",
       "      <td>Dec</td>\n",
       "      <td>1614000</td>\n",
       "      <td>300800</td>\n",
       "      <td>88800</td>\n",
       "      <td>2003600</td>\n",
       "    </tr>\n",
       "    <tr>\n",
       "      <th>312</th>\n",
       "      <td>2016</td>\n",
       "      <td>Jan</td>\n",
       "      <td>1619100</td>\n",
       "      <td>301600</td>\n",
       "      <td>88700</td>\n",
       "      <td>2009400</td>\n",
       "    </tr>\n",
       "    <tr>\n",
       "      <th>313</th>\n",
       "      <td>2016</td>\n",
       "      <td>Feb</td>\n",
       "      <td>1627000</td>\n",
       "      <td>304000</td>\n",
       "      <td>88700</td>\n",
       "      <td>2019700</td>\n",
       "    </tr>\n",
       "    <tr>\n",
       "      <th>314</th>\n",
       "      <td>2016</td>\n",
       "      <td>Mar</td>\n",
       "      <td>1629200</td>\n",
       "      <td>305000</td>\n",
       "      <td>88800</td>\n",
       "      <td>2023000</td>\n",
       "    </tr>\n",
       "    <tr>\n",
       "      <th>315</th>\n",
       "      <td>2016</td>\n",
       "      <td>Apr</td>\n",
       "      <td>1634100</td>\n",
       "      <td>304000</td>\n",
       "      <td>88600</td>\n",
       "      <td>2026700</td>\n",
       "    </tr>\n",
       "  </tbody>\n",
       "</table>\n",
       "</div>"
      ],
      "text/plain": [
       "id   year month  King & Snohomish: Total NonFarm  Pierce: Total NonFarm  \\\n",
       "311  2015   Dec                          1614000                 300800   \n",
       "312  2016   Jan                          1619100                 301600   \n",
       "313  2016   Feb                          1627000                 304000   \n",
       "314  2016   Mar                          1629200                 305000   \n",
       "315  2016   Apr                          1634100                 304000   \n",
       "\n",
       "id   Kitsap: Total NonFarm  Region: Total NonFarm  \n",
       "311                  88800                2003600  \n",
       "312                  88700                2009400  \n",
       "313                  88700                2019700  \n",
       "314                  88800                2023000  \n",
       "315                  88600                2026700  "
      ]
     },
     "execution_count": 44,
     "metadata": {},
     "output_type": "execute_result"
    }
   ],
   "source": [
    "df_sa_region_total[df_sa_region_total[\"year\"]>= 2010].tail()"
   ]
  },
  {
   "cell_type": "code",
   "execution_count": 3,
   "metadata": {
    "collapsed": false,
    "scrolled": true
   },
   "outputs": [
    {
     "data": {
      "text/html": [
       "<div>\n",
       "<table border=\"1\" class=\"dataframe\">\n",
       "  <thead>\n",
       "    <tr style=\"text-align: right;\">\n",
       "      <th>id</th>\n",
       "      <th>year</th>\n",
       "      <th>month</th>\n",
       "      <th>King &amp; Snohomish: Total NonFarm</th>\n",
       "      <th>Pierce: Total NonFarm</th>\n",
       "      <th>Kitsap: Total NonFarm</th>\n",
       "      <th>Region: Total NonFarm</th>\n",
       "    </tr>\n",
       "  </thead>\n",
       "  <tbody>\n",
       "    <tr>\n",
       "      <th>267</th>\n",
       "      <td>2012</td>\n",
       "      <td>Apr</td>\n",
       "      <td>1450400</td>\n",
       "      <td>272600</td>\n",
       "      <td>83400</td>\n",
       "      <td>1806400</td>\n",
       "    </tr>\n",
       "    <tr>\n",
       "      <th>279</th>\n",
       "      <td>2013</td>\n",
       "      <td>Apr</td>\n",
       "      <td>1493200</td>\n",
       "      <td>278500</td>\n",
       "      <td>83400</td>\n",
       "      <td>1855100</td>\n",
       "    </tr>\n",
       "    <tr>\n",
       "      <th>291</th>\n",
       "      <td>2014</td>\n",
       "      <td>Apr</td>\n",
       "      <td>1533500</td>\n",
       "      <td>286200</td>\n",
       "      <td>84800</td>\n",
       "      <td>1904500</td>\n",
       "    </tr>\n",
       "    <tr>\n",
       "      <th>303</th>\n",
       "      <td>2015</td>\n",
       "      <td>Apr</td>\n",
       "      <td>1581700</td>\n",
       "      <td>294600</td>\n",
       "      <td>87500</td>\n",
       "      <td>1963800</td>\n",
       "    </tr>\n",
       "    <tr>\n",
       "      <th>315</th>\n",
       "      <td>2016</td>\n",
       "      <td>Apr</td>\n",
       "      <td>1634100</td>\n",
       "      <td>304000</td>\n",
       "      <td>88600</td>\n",
       "      <td>2026700</td>\n",
       "    </tr>\n",
       "  </tbody>\n",
       "</table>\n",
       "</div>"
      ],
      "text/plain": [
       "id   year month  King & Snohomish: Total NonFarm  Pierce: Total NonFarm  \\\n",
       "267  2012   Apr                          1450400                 272600   \n",
       "279  2013   Apr                          1493200                 278500   \n",
       "291  2014   Apr                          1533500                 286200   \n",
       "303  2015   Apr                          1581700                 294600   \n",
       "315  2016   Apr                          1634100                 304000   \n",
       "\n",
       "id   Kitsap: Total NonFarm  Region: Total NonFarm  \n",
       "267                  83400                1806400  \n",
       "279                  83400                1855100  \n",
       "291                  84800                1904500  \n",
       "303                  87500                1963800  \n",
       "315                  88600                2026700  "
      ]
     },
     "execution_count": 3,
     "metadata": {},
     "output_type": "execute_result"
    }
   ],
   "source": [
    "df_sa_region_total_CM.tail()"
   ]
  },
  {
   "cell_type": "code",
   "execution_count": null,
   "metadata": {
    "collapsed": true
   },
   "outputs": [],
   "source": []
  },
  {
   "cell_type": "code",
   "execution_count": 76,
   "metadata": {
    "collapsed": false,
    "scrolled": true
   },
   "outputs": [
    {
     "name": "stderr",
     "output_type": "stream",
     "text": [
      "C:\\Anaconda2\\lib\\site-packages\\ipykernel\\__main__.py:1: SettingWithCopyWarning:\n",
      "\n",
      "\n",
      "A value is trying to be set on a copy of a slice from a DataFrame.\n",
      "Try using .loc[row_indexer,col_indexer] = value instead\n",
      "\n",
      "See the caveats in the documentation: http://pandas.pydata.org/pandas-docs/stable/indexing.html#indexing-view-versus-copy\n",
      "\n"
     ]
    }
   ],
   "source": [
    "df_by_month[\"period\"] = df_by_month[\"year\"].map(str) + \"-\"+df_by_month[\"month\"]"
   ]
  },
  {
   "cell_type": "code",
   "execution_count": 77,
   "metadata": {
    "collapsed": false,
    "scrolled": false
   },
   "outputs": [
    {
     "data": {
      "text/html": [
       "<div>\n",
       "<table border=\"1\" class=\"dataframe\">\n",
       "  <thead>\n",
       "    <tr style=\"text-align: right;\">\n",
       "      <th>id</th>\n",
       "      <th>year</th>\n",
       "      <th>month</th>\n",
       "      <th>King &amp; Snohomish: Total NonFarm</th>\n",
       "      <th>Pierce: Total NonFarm</th>\n",
       "      <th>Kitsap: Total NonFarm</th>\n",
       "      <th>Region: Total NonFarm</th>\n",
       "      <th>period</th>\n",
       "    </tr>\n",
       "  </thead>\n",
       "  <tbody>\n",
       "    <tr>\n",
       "      <th>240</th>\n",
       "      <td>2010</td>\n",
       "      <td>Jan</td>\n",
       "      <td>1388500</td>\n",
       "      <td>270400</td>\n",
       "      <td>84400</td>\n",
       "      <td>1743300</td>\n",
       "      <td>2010-Jan</td>\n",
       "    </tr>\n",
       "    <tr>\n",
       "      <th>241</th>\n",
       "      <td>2010</td>\n",
       "      <td>Feb</td>\n",
       "      <td>1385100</td>\n",
       "      <td>270100</td>\n",
       "      <td>84000</td>\n",
       "      <td>1739200</td>\n",
       "      <td>2010-Feb</td>\n",
       "    </tr>\n",
       "    <tr>\n",
       "      <th>242</th>\n",
       "      <td>2010</td>\n",
       "      <td>Mar</td>\n",
       "      <td>1388200</td>\n",
       "      <td>270100</td>\n",
       "      <td>83900</td>\n",
       "      <td>1742200</td>\n",
       "      <td>2010-Mar</td>\n",
       "    </tr>\n",
       "    <tr>\n",
       "      <th>243</th>\n",
       "      <td>2010</td>\n",
       "      <td>Apr</td>\n",
       "      <td>1392600</td>\n",
       "      <td>271300</td>\n",
       "      <td>84200</td>\n",
       "      <td>1748100</td>\n",
       "      <td>2010-Apr</td>\n",
       "    </tr>\n",
       "    <tr>\n",
       "      <th>244</th>\n",
       "      <td>2010</td>\n",
       "      <td>May</td>\n",
       "      <td>1394600</td>\n",
       "      <td>272000</td>\n",
       "      <td>84400</td>\n",
       "      <td>1751000</td>\n",
       "      <td>2010-May</td>\n",
       "    </tr>\n",
       "  </tbody>\n",
       "</table>\n",
       "</div>"
      ],
      "text/plain": [
       "id   year month  King & Snohomish: Total NonFarm  Pierce: Total NonFarm  \\\n",
       "240  2010   Jan                          1388500                 270400   \n",
       "241  2010   Feb                          1385100                 270100   \n",
       "242  2010   Mar                          1388200                 270100   \n",
       "243  2010   Apr                          1392600                 271300   \n",
       "244  2010   May                          1394600                 272000   \n",
       "\n",
       "id   Kitsap: Total NonFarm  Region: Total NonFarm    period  \n",
       "240                  84400                1743300  2010-Jan  \n",
       "241                  84000                1739200  2010-Feb  \n",
       "242                  83900                1742200  2010-Mar  \n",
       "243                  84200                1748100  2010-Apr  \n",
       "244                  84400                1751000  2010-May  "
      ]
     },
     "execution_count": 77,
     "metadata": {},
     "output_type": "execute_result"
    }
   ],
   "source": [
    "df_by_month.head()"
   ]
  },
  {
   "cell_type": "code",
   "execution_count": 83,
   "metadata": {
    "collapsed": false
   },
   "outputs": [
    {
     "data": {
      "text/plain": [
       "'file://J:\\\\Staff\\\\Jalal\\\\Monthly_Emp_Update_Scratch\\\\wa_esd_emp\\\\Region_10-16.html'"
      ]
     },
     "execution_count": 83,
     "metadata": {},
     "output_type": "execute_result"
    }
   ],
   "source": [
    "import plotly.plotly as py\n",
    "import plotly.graph_objs as go\n",
    "\n",
    "import pandas as pd\n",
    "import numpy as np\n",
    "\n",
    "\n",
    "data = [\n",
    "    go.Scatter(\n",
    "        x=(df_by_month[\"period\"]), # assign x as the dataframe column 'x'\n",
    "        y=df_by_month['Region: Total NonFarm']\n",
    "    )\n",
    "]\n",
    "\n",
    "\n",
    "layout = go.Layout(\n",
    "    title='Regional Wage & Salary Jobs 2010-2016',\n",
    "    yaxis=dict(title='Wage & Salary Jobs'),\n",
    "    xaxis=dict(title='Year')\n",
    ")\n",
    "\n",
    "fig = go.Figure(data = data, layout = layout)\n",
    "\n",
    "plotly.offline.plot(fig, filename = \"Region_10-16.html\")\n",
    "\n"
   ]
  },
  {
   "cell_type": "code",
   "execution_count": 86,
   "metadata": {
    "collapsed": false
   },
   "outputs": [
    {
     "name": "stdout",
     "output_type": "stream",
     "text": [
      "1.10.0\n"
     ]
    },
    {
     "data": {
      "text/plain": [
       "'file://J:\\\\Staff\\\\Jalal\\\\Monthly_Emp_Update_Scratch\\\\wa_esd_emp\\\\Counties_10-16.html'"
      ]
     },
     "execution_count": 86,
     "metadata": {},
     "output_type": "execute_result"
    }
   ],
   "source": [
    "import plotly\n",
    "print plotly.__version__  # version >1.9.4 required\n",
    "import plotly.graph_objs as go\n",
    "\n",
    "\n",
    "\n",
    "data = [\n",
    "        go.Scatter(\n",
    "        x = df_by_month[\"period\"], # assign x as the dataframe column 'x'\n",
    "        y = df_by_month[\"King & Snohomish: Total NonFarm\"],\n",
    "        name = \"King & Snohomish Counties\"\n",
    "    ),\n",
    "    go.Scatter(\n",
    "        x = df_by_month[\"period\"], # assign x as the dataframe column 'x'\n",
    "        y = df_by_month[\"Pierce: Total NonFarm\"],\n",
    "        name = \"Pierce County\"\n",
    "    ),\n",
    "    go.Scatter(\n",
    "        x = df_by_month[\"period\"], # assign x as the dataframe column 'x'\n",
    "        y = df_by_month[\"Kitsap: Total NonFarm\"],\n",
    "        name = \"Kitsap County\"\n",
    "    ),\n",
    "]\n",
    "\n",
    "\n",
    "layout = go.Layout(\n",
    "    title='Regional Wage & Salary Jobs 1990-2016',\n",
    "    yaxis=dict(title='Wage & Salary Jobs'),\n",
    "    xaxis=dict(title='Year')\n",
    ")\n",
    "\n",
    "fig = go.Figure(data = data, layout = layout)\n",
    "\n",
    "plotly.offline.plot(fig, filename = \"Counties_10-16.html\")"
   ]
  },
  {
   "cell_type": "code",
   "execution_count": 75,
   "metadata": {
    "collapsed": false,
    "scrolled": false
   },
   "outputs": [
    {
     "data": {
      "text/html": [
       "<div>\n",
       "<table border=\"1\" class=\"dataframe\">\n",
       "  <thead>\n",
       "    <tr style=\"text-align: right;\">\n",
       "      <th>id</th>\n",
       "      <th>year</th>\n",
       "      <th>month</th>\n",
       "      <th>King &amp; Snohomish: Total NonFarm</th>\n",
       "      <th>Pierce: Total NonFarm</th>\n",
       "      <th>Kitsap: Total NonFarm</th>\n",
       "      <th>Region: Total NonFarm</th>\n",
       "    </tr>\n",
       "  </thead>\n",
       "  <tbody>\n",
       "    <tr>\n",
       "      <th>240</th>\n",
       "      <td>2010</td>\n",
       "      <td>Jan</td>\n",
       "      <td>1388500</td>\n",
       "      <td>270400</td>\n",
       "      <td>84400</td>\n",
       "      <td>1743300</td>\n",
       "    </tr>\n",
       "    <tr>\n",
       "      <th>241</th>\n",
       "      <td>2010</td>\n",
       "      <td>Feb</td>\n",
       "      <td>1385100</td>\n",
       "      <td>270100</td>\n",
       "      <td>84000</td>\n",
       "      <td>1739200</td>\n",
       "    </tr>\n",
       "    <tr>\n",
       "      <th>242</th>\n",
       "      <td>2010</td>\n",
       "      <td>Mar</td>\n",
       "      <td>1388200</td>\n",
       "      <td>270100</td>\n",
       "      <td>83900</td>\n",
       "      <td>1742200</td>\n",
       "    </tr>\n",
       "    <tr>\n",
       "      <th>243</th>\n",
       "      <td>2010</td>\n",
       "      <td>Apr</td>\n",
       "      <td>1392600</td>\n",
       "      <td>271300</td>\n",
       "      <td>84200</td>\n",
       "      <td>1748100</td>\n",
       "    </tr>\n",
       "    <tr>\n",
       "      <th>244</th>\n",
       "      <td>2010</td>\n",
       "      <td>May</td>\n",
       "      <td>1394600</td>\n",
       "      <td>272000</td>\n",
       "      <td>84400</td>\n",
       "      <td>1751000</td>\n",
       "    </tr>\n",
       "  </tbody>\n",
       "</table>\n",
       "</div>"
      ],
      "text/plain": [
       "id   year month  King & Snohomish: Total NonFarm  Pierce: Total NonFarm  \\\n",
       "240  2010   Jan                          1388500                 270400   \n",
       "241  2010   Feb                          1385100                 270100   \n",
       "242  2010   Mar                          1388200                 270100   \n",
       "243  2010   Apr                          1392600                 271300   \n",
       "244  2010   May                          1394600                 272000   \n",
       "\n",
       "id   Kitsap: Total NonFarm  Region: Total NonFarm  \n",
       "240                  84400                1743300  \n",
       "241                  84000                1739200  \n",
       "242                  83900                1742200  \n",
       "243                  84200                1748100  \n",
       "244                  84400                1751000  "
      ]
     },
     "execution_count": 75,
     "metadata": {},
     "output_type": "execute_result"
    }
   ],
   "source": [
    "df_by_month = df_sa_region_total[df_sa_region_total[\"year\"]>= 2010]\n",
    "df_by_month.head()\n"
   ]
  },
  {
   "cell_type": "code",
   "execution_count": 46,
   "metadata": {
    "collapsed": false
   },
   "outputs": [
    {
     "data": {
      "text/plain": [
       "'file://J:\\\\Staff\\\\Jalal\\\\Monthly_Emp_Update_Scratch\\\\wa_esd_emp\\\\scatter_month_try_.html'"
      ]
     },
     "execution_count": 46,
     "metadata": {},
     "output_type": "execute_result"
    }
   ],
   "source": [
    "import plotly.graph_objs as go\n",
    "\n",
    "\n",
    "\n",
    "data = [\n",
    "    go.Scatter(\n",
    "        x = df_by_month[\"year\"], # assign x as the dataframe column 'x'\n",
    "        y = df_by_month[\"Region: Total NonFarm\"],\n",
    "        name = \"PSRC\"\n",
    "    ),\n",
    "    go.Scatter(\n",
    "        x = df_by_month[\"year\"], # assign x as the dataframe column 'x'\n",
    "        y = df_by_month[\"King & Snohomish: Total NonFarm\"],\n",
    "        name = \"King & Snohomish Counties\"\n",
    "    ),\n",
    "    go.Scatter(\n",
    "        x = df_by_month[\"year\"], # assign x as the dataframe column 'x'\n",
    "        y = df_by_month[\"Pierce: Total NonFarm\"],\n",
    "        name = \"Pierce County\"\n",
    "    ),\n",
    "    go.Scatter(\n",
    "        x = df_by_month[\"year\"], # assign x as the dataframe column 'x'\n",
    "        y = df_by_month[\"Kitsap: Total NonFarm\"],\n",
    "        name = \"Kitsap County\"\n",
    "    ),\n",
    "]\n",
    "\n",
    "\n",
    "layout = go.Layout(\n",
    "    title='Regional Wage & Salary Jobs 1990-2016 (monthly)',\n",
    "    yaxis=dict(title='Wage & Salary Jobs'),\n",
    "    xaxis=dict(title='Year')\n",
    ")\n",
    "\n",
    "fig = go.Figure(data = data, layout = layout)\n",
    "\n",
    "plotly.offline.plot(fig, filename = \"scatter_month_try_.html\")"
   ]
  },
  {
   "cell_type": "code",
   "execution_count": null,
   "metadata": {
    "collapsed": true
   },
   "outputs": [],
   "source": [
    "import plotly.plotly as py\n",
    "import plotly.graph_objs as go\n",
    "\n"
   ]
  },
  {
   "cell_type": "code",
   "execution_count": null,
   "metadata": {
    "collapsed": true
   },
   "outputs": [],
   "source": []
  },
  {
   "cell_type": "code",
   "execution_count": 33,
   "metadata": {
    "collapsed": false
   },
   "outputs": [
    {
     "ename": "AttributeError",
     "evalue": "'module' object has no attribute 'scatter'",
     "output_type": "error",
     "traceback": [
      "\u001b[1;31m---------------------------------------------------------------------------\u001b[0m",
      "\u001b[1;31mAttributeError\u001b[0m                            Traceback (most recent call last)",
      "\u001b[1;32m<ipython-input-33-7f8f7fa10e15>\u001b[0m in \u001b[0;36m<module>\u001b[1;34m()\u001b[0m\n\u001b[1;32m----> 1\u001b[1;33m \u001b[0mhelp\u001b[0m\u001b[1;33m(\u001b[0m\u001b[0mgo\u001b[0m\u001b[1;33m.\u001b[0m\u001b[0mscatter\u001b[0m\u001b[1;33m)\u001b[0m\u001b[1;33m\u001b[0m\u001b[0m\n\u001b[0m",
      "\u001b[1;31mAttributeError\u001b[0m: 'module' object has no attribute 'scatter'"
     ]
    }
   ],
   "source": [
    "help(go.scatter)"
   ]
  },
  {
   "cell_type": "code",
   "execution_count": null,
   "metadata": {
    "collapsed": true
   },
   "outputs": [],
   "source": []
  },
  {
   "cell_type": "code",
   "execution_count": null,
   "metadata": {
    "collapsed": true
   },
   "outputs": [],
   "source": []
  },
  {
   "cell_type": "code",
   "execution_count": null,
   "metadata": {
    "collapsed": true
   },
   "outputs": [],
   "source": []
  },
  {
   "cell_type": "code",
   "execution_count": null,
   "metadata": {
    "collapsed": true
   },
   "outputs": [],
   "source": []
  },
  {
   "cell_type": "code",
   "execution_count": 4,
   "metadata": {
    "collapsed": true
   },
   "outputs": [],
   "source": [
    "df_region_sec_allyear = df_sa_region_sector_CM[[ 0, 1, 29, 30, 31, 32, 33, 34, 35, 36, 37]]\n"
   ]
  },
  {
   "cell_type": "code",
   "execution_count": 5,
   "metadata": {
    "collapsed": false
   },
   "outputs": [
    {
     "data": {
      "text/html": [
       "<div>\n",
       "<table border=\"1\" class=\"dataframe\">\n",
       "  <thead>\n",
       "    <tr style=\"text-align: right;\">\n",
       "      <th>id</th>\n",
       "      <th>year</th>\n",
       "      <th>month</th>\n",
       "      <th>Region: Construction</th>\n",
       "      <th>Region: FIRE</th>\n",
       "      <th>Region: Manufacturing</th>\n",
       "      <th>Region: Retail</th>\n",
       "      <th>Region: Service</th>\n",
       "      <th>Region: WTU</th>\n",
       "      <th>Region: Education</th>\n",
       "      <th>Region: Government</th>\n",
       "      <th>Region: Total NonFarm</th>\n",
       "    </tr>\n",
       "  </thead>\n",
       "  <tbody>\n",
       "    <tr>\n",
       "      <th>267</th>\n",
       "      <td>2012</td>\n",
       "      <td>Apr</td>\n",
       "      <td>85500</td>\n",
       "      <td>89800</td>\n",
       "      <td>183400</td>\n",
       "      <td>185500</td>\n",
       "      <td>833100</td>\n",
       "      <td>140700</td>\n",
       "      <td>116700</td>\n",
       "      <td>171700</td>\n",
       "      <td>1806400</td>\n",
       "    </tr>\n",
       "    <tr>\n",
       "      <th>279</th>\n",
       "      <td>2013</td>\n",
       "      <td>Apr</td>\n",
       "      <td>93000</td>\n",
       "      <td>93000</td>\n",
       "      <td>189300</td>\n",
       "      <td>193500</td>\n",
       "      <td>853800</td>\n",
       "      <td>143000</td>\n",
       "      <td>118800</td>\n",
       "      <td>170700</td>\n",
       "      <td>1855100</td>\n",
       "    </tr>\n",
       "    <tr>\n",
       "      <th>291</th>\n",
       "      <td>2014</td>\n",
       "      <td>Apr</td>\n",
       "      <td>98900</td>\n",
       "      <td>94000</td>\n",
       "      <td>189100</td>\n",
       "      <td>203200</td>\n",
       "      <td>879300</td>\n",
       "      <td>147200</td>\n",
       "      <td>121400</td>\n",
       "      <td>171400</td>\n",
       "      <td>1904500</td>\n",
       "    </tr>\n",
       "    <tr>\n",
       "      <th>303</th>\n",
       "      <td>2015</td>\n",
       "      <td>Apr</td>\n",
       "      <td>111600</td>\n",
       "      <td>95600</td>\n",
       "      <td>189000</td>\n",
       "      <td>214700</td>\n",
       "      <td>901000</td>\n",
       "      <td>151100</td>\n",
       "      <td>124900</td>\n",
       "      <td>175900</td>\n",
       "      <td>1963800</td>\n",
       "    </tr>\n",
       "    <tr>\n",
       "      <th>315</th>\n",
       "      <td>2016</td>\n",
       "      <td>Apr</td>\n",
       "      <td>117300</td>\n",
       "      <td>98400</td>\n",
       "      <td>187100</td>\n",
       "      <td>223900</td>\n",
       "      <td>935600</td>\n",
       "      <td>158600</td>\n",
       "      <td>126700</td>\n",
       "      <td>179100</td>\n",
       "      <td>2026700</td>\n",
       "    </tr>\n",
       "  </tbody>\n",
       "</table>\n",
       "</div>"
      ],
      "text/plain": [
       "id   year month  Region: Construction  Region: FIRE  Region: Manufacturing  \\\n",
       "267  2012   Apr                 85500         89800                 183400   \n",
       "279  2013   Apr                 93000         93000                 189300   \n",
       "291  2014   Apr                 98900         94000                 189100   \n",
       "303  2015   Apr                111600         95600                 189000   \n",
       "315  2016   Apr                117300         98400                 187100   \n",
       "\n",
       "id   Region: Retail  Region: Service  Region: WTU  Region: Education  \\\n",
       "267          185500           833100       140700             116700   \n",
       "279          193500           853800       143000             118800   \n",
       "291          203200           879300       147200             121400   \n",
       "303          214700           901000       151100             124900   \n",
       "315          223900           935600       158600             126700   \n",
       "\n",
       "id   Region: Government  Region: Total NonFarm  \n",
       "267              171700                1806400  \n",
       "279              170700                1855100  \n",
       "291              171400                1904500  \n",
       "303              175900                1963800  \n",
       "315              179100                2026700  "
      ]
     },
     "execution_count": 5,
     "metadata": {},
     "output_type": "execute_result"
    }
   ],
   "source": [
    "df_region_sec_allyear.tail()"
   ]
  },
  {
   "cell_type": "code",
   "execution_count": 147,
   "metadata": {
    "collapsed": false
   },
   "outputs": [],
   "source": [
    "df_region_sec_2010 = df_region_sec_allyear[(df_region_sec_allyear[\"year\"] >=2010) & (df_region_sec_allyear[\"month\"] ==\"Apr\")]"
   ]
  },
  {
   "cell_type": "code",
   "execution_count": 148,
   "metadata": {
    "collapsed": false
   },
   "outputs": [],
   "source": [
    "df_region_sec_2010 = df_region_sec_2010.reset_index(drop = True)\n",
    "df_region_sec_2010 = df_region_sec_2010.set_index([\"year\"], drop = True)\n",
    "#df_region_sec_2010.index.name = \"year\""
   ]
  },
  {
   "cell_type": "code",
   "execution_count": 149,
   "metadata": {
    "collapsed": false
   },
   "outputs": [
    {
     "data": {
      "text/html": [
       "<div>\n",
       "<table border=\"1\" class=\"dataframe\">\n",
       "  <thead>\n",
       "    <tr style=\"text-align: right;\">\n",
       "      <th>id</th>\n",
       "      <th>month</th>\n",
       "      <th>Region: Construction</th>\n",
       "      <th>Region: FIRE</th>\n",
       "      <th>Region: Manufacturing</th>\n",
       "      <th>Region: Retail</th>\n",
       "      <th>Region: Service</th>\n",
       "      <th>Region: WTU</th>\n",
       "      <th>Region: Education</th>\n",
       "      <th>Region: Government</th>\n",
       "      <th>Region: Total NonFarm</th>\n",
       "    </tr>\n",
       "    <tr>\n",
       "      <th>year</th>\n",
       "      <th></th>\n",
       "      <th></th>\n",
       "      <th></th>\n",
       "      <th></th>\n",
       "      <th></th>\n",
       "      <th></th>\n",
       "      <th></th>\n",
       "      <th></th>\n",
       "      <th></th>\n",
       "      <th></th>\n",
       "    </tr>\n",
       "  </thead>\n",
       "  <tbody>\n",
       "    <tr>\n",
       "      <th>2010</th>\n",
       "      <td>Apr</td>\n",
       "      <td>87900</td>\n",
       "      <td>92600</td>\n",
       "      <td>168100</td>\n",
       "      <td>178600</td>\n",
       "      <td>791400</td>\n",
       "      <td>135900</td>\n",
       "      <td>116300</td>\n",
       "      <td>177300</td>\n",
       "      <td>1748100</td>\n",
       "    </tr>\n",
       "    <tr>\n",
       "      <th>2011</th>\n",
       "      <td>Apr</td>\n",
       "      <td>83800</td>\n",
       "      <td>91200</td>\n",
       "      <td>174200</td>\n",
       "      <td>181400</td>\n",
       "      <td>814700</td>\n",
       "      <td>138800</td>\n",
       "      <td>116600</td>\n",
       "      <td>172800</td>\n",
       "      <td>1773500</td>\n",
       "    </tr>\n",
       "    <tr>\n",
       "      <th>2012</th>\n",
       "      <td>Apr</td>\n",
       "      <td>85500</td>\n",
       "      <td>89800</td>\n",
       "      <td>183400</td>\n",
       "      <td>185500</td>\n",
       "      <td>833100</td>\n",
       "      <td>140700</td>\n",
       "      <td>116700</td>\n",
       "      <td>171700</td>\n",
       "      <td>1806400</td>\n",
       "    </tr>\n",
       "    <tr>\n",
       "      <th>2013</th>\n",
       "      <td>Apr</td>\n",
       "      <td>93000</td>\n",
       "      <td>93000</td>\n",
       "      <td>189300</td>\n",
       "      <td>193500</td>\n",
       "      <td>853800</td>\n",
       "      <td>143000</td>\n",
       "      <td>118800</td>\n",
       "      <td>170700</td>\n",
       "      <td>1855100</td>\n",
       "    </tr>\n",
       "    <tr>\n",
       "      <th>2014</th>\n",
       "      <td>Apr</td>\n",
       "      <td>98900</td>\n",
       "      <td>94000</td>\n",
       "      <td>189100</td>\n",
       "      <td>203200</td>\n",
       "      <td>879300</td>\n",
       "      <td>147200</td>\n",
       "      <td>121400</td>\n",
       "      <td>171400</td>\n",
       "      <td>1904500</td>\n",
       "    </tr>\n",
       "    <tr>\n",
       "      <th>2015</th>\n",
       "      <td>Apr</td>\n",
       "      <td>111600</td>\n",
       "      <td>95600</td>\n",
       "      <td>189000</td>\n",
       "      <td>214700</td>\n",
       "      <td>901000</td>\n",
       "      <td>151100</td>\n",
       "      <td>124900</td>\n",
       "      <td>175900</td>\n",
       "      <td>1963800</td>\n",
       "    </tr>\n",
       "    <tr>\n",
       "      <th>2016</th>\n",
       "      <td>Apr</td>\n",
       "      <td>117300</td>\n",
       "      <td>98400</td>\n",
       "      <td>187100</td>\n",
       "      <td>223900</td>\n",
       "      <td>935600</td>\n",
       "      <td>158600</td>\n",
       "      <td>126700</td>\n",
       "      <td>179100</td>\n",
       "      <td>2026700</td>\n",
       "    </tr>\n",
       "  </tbody>\n",
       "</table>\n",
       "</div>"
      ],
      "text/plain": [
       "id   month  Region: Construction  Region: FIRE  Region: Manufacturing  \\\n",
       "year                                                                    \n",
       "2010   Apr                 87900         92600                 168100   \n",
       "2011   Apr                 83800         91200                 174200   \n",
       "2012   Apr                 85500         89800                 183400   \n",
       "2013   Apr                 93000         93000                 189300   \n",
       "2014   Apr                 98900         94000                 189100   \n",
       "2015   Apr                111600         95600                 189000   \n",
       "2016   Apr                117300         98400                 187100   \n",
       "\n",
       "id    Region: Retail  Region: Service  Region: WTU  Region: Education  \\\n",
       "year                                                                    \n",
       "2010          178600           791400       135900             116300   \n",
       "2011          181400           814700       138800             116600   \n",
       "2012          185500           833100       140700             116700   \n",
       "2013          193500           853800       143000             118800   \n",
       "2014          203200           879300       147200             121400   \n",
       "2015          214700           901000       151100             124900   \n",
       "2016          223900           935600       158600             126700   \n",
       "\n",
       "id    Region: Government  Region: Total NonFarm  \n",
       "year                                             \n",
       "2010              177300                1748100  \n",
       "2011              172800                1773500  \n",
       "2012              171700                1806400  \n",
       "2013              170700                1855100  \n",
       "2014              171400                1904500  \n",
       "2015              175900                1963800  \n",
       "2016              179100                2026700  "
      ]
     },
     "execution_count": 149,
     "metadata": {},
     "output_type": "execute_result"
    }
   ],
   "source": [
    "df_region_sec_2010"
   ]
  },
  {
   "cell_type": "code",
   "execution_count": 150,
   "metadata": {
    "collapsed": false
   },
   "outputs": [
    {
     "data": {
      "text/plain": [
       "<matplotlib.axes._subplots.AxesSubplot at 0x120d4ab0>"
      ]
     },
     "execution_count": 150,
     "metadata": {},
     "output_type": "execute_result"
    },
    {
     "data": {
      "image/png": "[encoded data removed]",
      "text/plain": [
       "<matplotlib.figure.Figure at 0x12a91570>"
      ]
     },
     "metadata": {},
     "output_type": "display_data"
    }
   ],
   "source": [
    "df_region_sec_2010.plot(kind=\"bar\")"
   ]
  },
  {
   "cell_type": "code",
   "execution_count": 151,
   "metadata": {
    "collapsed": true
   },
   "outputs": [],
   "source": [
    "sns.set()"
   ]
  },
  {
   "cell_type": "code",
   "execution_count": 155,
   "metadata": {
    "collapsed": false
   },
   "outputs": [
    {
     "data": {
      "text/plain": [
       "<seaborn.axisgrid.PairGrid at 0x15dc30f0>"
      ]
     },
     "execution_count": 155,
     "metadata": {},
     "output_type": "execute_result"
    },
    {
     "data": {
      "image/png": "[encoded data removed]",
      "text/plain": [
       "<matplotlib.figure.Figure at 0x1b085f10>"
      ]
     },
     "metadata": {},
     "output_type": "display_data"
    }
   ],
   "source": [
    "sns.pairplot(df_region_sec_2010[range(9)])"
   ]
  },
  {
   "cell_type": "code",
   "execution_count": null,
   "metadata": {
    "collapsed": true
   },
   "outputs": [],
   "source": [
    "sns.set(style=\"whitegrid\")\n",
    "\n",
    "# Initialize the matplotlib figure\n",
    "f, ax = plt.subplots(figsize=(6, 15))\n",
    "\n",
    "\n",
    "# Load the example car crash dataset\n",
    "crashes = sns.load_dataset(df_region_sec_2010)\n",
    "\n",
    "#.sort_values(\"total\", ascending=False)\n",
    "\n",
    "\n"
   ]
  },
  {
   "cell_type": "code",
   "execution_count": null,
   "metadata": {
    "collapsed": true
   },
   "outputs": [],
   "source": []
  },
  {
   "cell_type": "code",
   "execution_count": null,
   "metadata": {
    "collapsed": true
   },
   "outputs": [],
   "source": []
  },
  {
   "cell_type": "code",
   "execution_count": null,
   "metadata": {
    "collapsed": true
   },
   "outputs": [],
   "source": []
  },
  {
   "cell_type": "code",
   "execution_count": 78,
   "metadata": {
    "collapsed": false
   },
   "outputs": [
    {
     "ename": "SyntaxError",
     "evalue": "invalid syntax (<ipython-input-78-df26d62bad4c>, line 3)",
     "output_type": "error",
     "traceback": [
      "\u001b[1;36m  File \u001b[1;32m\"<ipython-input-78-df26d62bad4c>\"\u001b[1;36m, line \u001b[1;32m3\u001b[0m\n\u001b[1;33m    plt.title('test')\u001b[0m\n\u001b[1;37m      ^\u001b[0m\n\u001b[1;31mSyntaxError\u001b[0m\u001b[1;31m:\u001b[0m invalid syntax\n"
     ]
    }
   ],
   "source": [
    "plt.plot(df_region_sec_2010[\"year\"],df_region_sec_2010[df_region_sec_2010.columns[2]])\n",
    "plt.xlabel(str(df_region_sec_2010[\"year\"])\n",
    "plt.title('test')"
   ]
  },
  {
   "cell_type": "code",
   "execution_count": 118,
   "metadata": {
    "collapsed": false
   },
   "outputs": [
    {
     "data": {
      "text/plain": [
       "<matplotlib.axes._subplots.AxesSubplot at 0x12252f90>"
      ]
     },
     "execution_count": 118,
     "metadata": {},
     "output_type": "execute_result"
    },
    {
     "data": {
      "image/png": "[encoded data removed]",
      "text/plain": [
       "<matplotlib.figure.Figure at 0xcaf8e30>"
      ]
     },
     "metadata": {},
     "output_type": "display_data"
    }
   ],
   "source": [
    "df_region_sec_2010.plot(kind =\"bar\")"
   ]
  },
  {
   "cell_type": "code",
   "execution_count": null,
   "metadata": {
    "collapsed": true
   },
   "outputs": [],
   "source": []
  },
  {
   "cell_type": "code",
   "execution_count": null,
   "metadata": {
    "collapsed": true
   },
   "outputs": [],
   "source": []
  },
  {
   "cell_type": "code",
   "execution_count": 105,
   "metadata": {
    "collapsed": false
   },
   "outputs": [
    {
     "ename": "NameError",
     "evalue": "name 'random' is not defined",
     "output_type": "error",
     "traceback": [
      "\u001b[1;31m---------------------------------------------------------------------------\u001b[0m",
      "\u001b[1;31mNameError\u001b[0m                                 Traceback (most recent call last)",
      "\u001b[1;32m<ipython-input-105-b7d019bab2a9>\u001b[0m in \u001b[0;36m<module>\u001b[1;34m()\u001b[0m\n\u001b[1;32m----> 1\u001b[1;33m \u001b[0mts\u001b[0m \u001b[1;33m=\u001b[0m \u001b[0mSeries\u001b[0m\u001b[1;33m(\u001b[0m\u001b[0mrandom\u001b[0m\u001b[1;33m(\u001b[0m\u001b[1;36m1000\u001b[0m\u001b[1;33m)\u001b[0m\u001b[1;33m,\u001b[0m \u001b[0mindex\u001b[0m\u001b[1;33m=\u001b[0m\u001b[0mdate_range\u001b[0m\u001b[1;33m(\u001b[0m\u001b[1;34m'1/1/2000'\u001b[0m\u001b[1;33m,\u001b[0m \u001b[0mperiods\u001b[0m\u001b[1;33m=\u001b[0m\u001b[1;36m1000\u001b[0m\u001b[1;33m)\u001b[0m\u001b[1;33m)\u001b[0m\u001b[1;33m\u001b[0m\u001b[0m\n\u001b[0m\u001b[0;32m      2\u001b[0m \u001b[0mts\u001b[0m \u001b[1;33m=\u001b[0m \u001b[0mts\u001b[0m\u001b[1;33m.\u001b[0m\u001b[0mcumsum\u001b[0m\u001b[1;33m(\u001b[0m\u001b[1;33m)\u001b[0m\u001b[1;33m\u001b[0m\u001b[0m\n\u001b[0;32m      3\u001b[0m \u001b[0mts\u001b[0m\u001b[1;33m.\u001b[0m\u001b[0mplot\u001b[0m\u001b[1;33m(\u001b[0m\u001b[1;33m)\u001b[0m\u001b[1;33m\u001b[0m\u001b[0m\n",
      "\u001b[1;31mNameError\u001b[0m: name 'random' is not defined"
     ]
    }
   ],
   "source": [
    " ts = Series(random(1000), index=date_range('1/1/2000', periods=1000))\n",
    "ts = ts.cumsum()\n",
    "ts.plot()    "
   ]
  },
  {
   "cell_type": "code",
   "execution_count": null,
   "metadata": {
    "collapsed": true
   },
   "outputs": [],
   "source": []
  },
  {
   "cell_type": "code",
   "execution_count": null,
   "metadata": {
    "collapsed": true
   },
   "outputs": [],
   "source": []
  },
  {
   "cell_type": "code",
   "execution_count": null,
   "metadata": {
    "collapsed": true
   },
   "outputs": [],
   "source": []
  },
  {
   "cell_type": "code",
   "execution_count": 9,
   "metadata": {
    "collapsed": true
   },
   "outputs": [],
   "source": []
  },
  {
   "cell_type": "code",
   "execution_count": null,
   "metadata": {
    "collapsed": true
   },
   "outputs": [],
   "source": []
  },
  {
   "cell_type": "code",
   "execution_count": null,
   "metadata": {
    "collapsed": true
   },
   "outputs": [],
   "source": []
  },
  {
   "cell_type": "code",
   "execution_count": null,
   "metadata": {
    "collapsed": true
   },
   "outputs": [],
   "source": []
  },
  {
   "cell_type": "code",
   "execution_count": null,
   "metadata": {
    "collapsed": true
   },
   "outputs": [],
   "source": []
  },
  {
   "cell_type": "code",
   "execution_count": null,
   "metadata": {
    "collapsed": true
   },
   "outputs": [],
   "source": []
  },
  {
   "cell_type": "code",
   "execution_count": 8,
   "metadata": {
    "collapsed": false
   },
   "outputs": [],
   "source": [
    "del df_sa_kin_sno\n",
    "del df_sa_kit\n",
    "del df_sa_pie\n",
    "del df_sa_region\n",
    "del df_sa_region_sector_CM\n",
    "del df_sa_region_total\n",
    "del df_sa_region_total_CM"
   ]
  },
  {
   "cell_type": "code",
   "execution_count": 49,
   "metadata": {
    "collapsed": false
   },
   "outputs": [
    {
     "data": {
      "text/plain": [
       "[29, 30, 31, 32, 33, 34, 35, 36, 37]"
      ]
     },
     "execution_count": 49,
     "metadata": {},
     "output_type": "execute_result"
    }
   ],
   "source": [
    "range(29,38,1)"
   ]
  }
 ],
 "metadata": {
  "kernelspec": {
   "display_name": "Python 2",
   "language": "python",
   "name": "python2"
  },
  "language_info": {
   "codemirror_mode": {
    "name": "ipython",
    "version": 2
   },
   "file_extension": ".py",
   "mimetype": "text/x-python",
   "name": "python",
   "nbconvert_exporter": "python",
   "pygments_lexer": "ipython2",
   "version": "2.7.11"
  }
 },
 "nbformat": 4,
 "nbformat_minor": 0
}
